{
 "cells": [
  {
   "cell_type": "code",
   "execution_count": 8,
   "id": "7d0a5722",
   "metadata": {
    "ExecuteTime": {
     "end_time": "2021-08-23T18:36:49.903667Z",
     "start_time": "2021-08-23T18:36:49.629498Z"
    }
   },
   "outputs": [],
   "source": [
    "import tensorflow as tf\n",
    "from tensorflow.keras.preprocessing.sequence import pad_sequences\n",
    "from tensorflow.keras.callbacks import EarlyStopping, ModelCheckpoint\n",
    "from tensorflow.keras import layers\n",
    "\n",
    "import numpy as np\n",
    "# import pandas as pd\n",
    "import matplotlib.pyplot as plt\n",
    "import os\n",
    "import json\n",
    "\n",
    "# from tqdm import tqdm"
   ]
  },
  {
   "cell_type": "code",
   "execution_count": 3,
   "id": "2b52f2e3",
   "metadata": {
    "ExecuteTime": {
     "end_time": "2021-08-23T18:36:27.993038Z",
     "start_time": "2021-08-23T18:36:27.970619Z"
    }
   },
   "outputs": [
    {
     "name": "stdout",
     "output_type": "stream",
     "text": [
      "[[ 601  629 1300 ...    1  114    1]\n",
      " [3174  140  161 ...    0    0    0]\n",
      " [ 207  186   62 ...    0    0    0]\n",
      " ...\n",
      " [ 231   90  104 ...    0    0    0]\n",
      " [ 267 1306  251 ...    0    0    0]\n",
      " [ 605   20  128 ...    0    0    0]]\n"
     ]
    }
   ],
   "source": [
    "SEED_NUM = 17171771\n",
    "tf.random.set_seed(SEED_NUM)\n",
    "\n",
    "DATA_IN_PATH = './data_in/'\n",
    "DATA_OUT_PATH = './data_out/'\n",
    "TRAIN_INPUT_DATA = 'train_input.npy'\n",
    "TRAIN_LABEL_DATA = 'train_label.npy'\n",
    "TEST_INPUT_DATA = 'test_input.npy'\n",
    "TEST_LABEL_DATA = 'test_label.npy'\n",
    "SAVE_FILE_NM = 'weights.h5'\n",
    "DATA_CONFIGS = 'data_configs.json'\n",
    "\n",
    "trainInputs = np.load(open(DATA_IN_PATH + TRAIN_INPUT_DATA, 'rb'))\n",
    "trainInputs = pad_sequences(trainInputs, maxlen=trainInputs.shape[1])\n",
    "trainLabel = np.load(open(DATA_IN_PATH + TRAIN_LABEL_DATA, 'rb'))\n",
    "preproConfigs = json.load(open(DATA_IN_PATH + DATA_CONFIGS, 'r'))\n",
    "\n",
    "print(trainInputs)\n",
    "# print(preproConfigs)"
   ]
  },
  {
   "cell_type": "code",
   "execution_count": 4,
   "id": "558d3131",
   "metadata": {
    "ExecuteTime": {
     "end_time": "2021-08-23T18:36:28.000003Z",
     "start_time": "2021-08-23T18:36:27.995319Z"
    }
   },
   "outputs": [],
   "source": [
    "modelName = 'rnn_classifier_kr'\n",
    "BATCH_SIZE = 128\n",
    "NUM_EPOCHS = 5\n",
    "VALID_SPLIT = 0.1\n",
    "MAX_LEN = trainInputs.shape[1]\n",
    "\n",
    "kargs = {'model_name':modelName,\n",
    "        'vocab_size':preproConfigs['vocab_size'],\n",
    "         'embedding_dimension':100,\n",
    "         'dropout_rate':0.2,\n",
    "         'lstm_dimension':150,\n",
    "         'dense_dimension':150,\n",
    "         'output_dimension':1}"
   ]
  },
  {
   "cell_type": "code",
   "execution_count": 5,
   "id": "3a811fef",
   "metadata": {
    "ExecuteTime": {
     "end_time": "2021-08-23T18:36:28.013611Z",
     "start_time": "2021-08-23T18:36:28.002557Z"
    }
   },
   "outputs": [],
   "source": [
    "class RNNClassifier(tf.keras.Model):\n",
    "    def __init__(self, **kargs):\n",
    "        print('init keras rnn!!')\n",
    "        super(RNNClassifier, self).__init__(name=kargs['model_name'])\n",
    "        self.embedding = layers.Embedding(input_dim=kargs['vocab_size'],\n",
    "                                         output_dim=kargs['embedding_dimension'])\n",
    "        self.lstm_1_layer = tf.keras.layers.LSTM(kargs['lstm_dimension'],\n",
    "                                                return_sequences=True)\n",
    "        self.lstm_2_layer = tf.keras.layers.LSTM(kargs['lstm_dimension'])\n",
    "        self.dropout = layers.Dropout(kargs['dropout_rate'])\n",
    "        self.fc1 = layers.Dense(units=kargs['dense_dimension'],\n",
    "                               activation=tf.keras.activations.tanh)\n",
    "        self.fc2 = layers.Dense(units=kargs['output_dimension'],\n",
    "                               activation=tf.keras.activations.sigmoid)\n",
    "        \n",
    "    def call(self, x):\n",
    "        print('call rnn!!')\n",
    "        x = self.embedding(x)\n",
    "        x = self.dropout(x)\n",
    "        x = self.lstm_1_layer(x)\n",
    "        x = self.lstm_2_layer(x)\n",
    "        x = self.dropout(x)\n",
    "        x = self.fc1(x)\n",
    "        x = self.dropout(x)\n",
    "        x = self.fc2(x)\n",
    "        \n",
    "        return x\n",
    "        "
   ]
  },
  {
   "cell_type": "code",
   "execution_count": 6,
   "id": "fdbcadbd",
   "metadata": {
    "ExecuteTime": {
     "end_time": "2021-08-23T18:36:28.120058Z",
     "start_time": "2021-08-23T18:36:28.017187Z"
    }
   },
   "outputs": [
    {
     "name": "stdout",
     "output_type": "stream",
     "text": [
      "init keras rnn!!\n"
     ]
    }
   ],
   "source": [
    "model = RNNClassifier(**kargs)\n",
    "model.compile(optimizer = tf.keras.optimizers.Adam(1e-4),\n",
    "             loss=tf.keras.losses.BinaryCrossentropy(),\n",
    "             metrics=[tf.keras.metrics.BinaryAccuracy(name='accuracy')])"
   ]
  },
  {
   "cell_type": "code",
   "execution_count": 15,
   "id": "3097022c",
   "metadata": {
    "ExecuteTime": {
     "end_time": "2021-08-23T18:42:10.406805Z",
     "start_time": "2021-08-23T18:41:59.813287Z"
    },
    "scrolled": true
   },
   "outputs": [
    {
     "name": "stdout",
     "output_type": "stream",
     "text": [
      "Epoch 1/5\n",
      "6/6 [==============================] - 3s 553ms/step - loss: 0.1493 - accuracy: 0.9152 - val_loss: -0.1439 - val_accuracy: 0.9036\n",
      "\n",
      "Epoch 00001: val_accuracy improved from -inf to 0.90361, saving model to ./data_out/rnn_classifier_kr/weights.h5\n",
      "Epoch 2/5\n",
      "6/6 [==============================] - 4s 622ms/step - loss: -0.2532 - accuracy: 0.9152 - val_loss: -0.7117 - val_accuracy: 0.9036\n",
      "\n",
      "Epoch 00002: val_accuracy did not improve from 0.90361\n",
      "Epoch 3/5\n",
      "6/6 [==============================] - 3s 593ms/step - loss: -0.7805 - accuracy: 0.9152 - val_loss: -1.2211 - val_accuracy: 0.9036\n",
      "\n",
      "Epoch 00003: val_accuracy did not improve from 0.90361\n"
     ]
    }
   ],
   "source": [
    "earlystop_callback = EarlyStopping(monitor='val_accuracy', min_delta=0.0001, patience=2)\n",
    "checkpoint_path = DATA_OUT_PATH + modelName + '/' + SAVE_FILE_NM\n",
    "\n",
    "cp_callback = ModelCheckpoint(checkpoint_path,monitor='val_accuracy', verbose=1, save_best_only=True,save_weights_only=True)\n",
    "history = model.fit(trainInputs,trainLabel, batch_size=BATCH_SIZE, epochs=NUM_EPOCHS, validation_split=VALID_SPLIT, callbacks=[earlystop_callback,cp_callback])\n"
   ]
  },
  {
   "cell_type": "code",
   "execution_count": 10,
   "id": "3a8dde66",
   "metadata": {
    "ExecuteTime": {
     "end_time": "2021-08-23T18:37:30.793123Z",
     "start_time": "2021-08-23T18:37:30.789038Z"
    }
   },
   "outputs": [],
   "source": [
    "def plot_graphs(history, string):\n",
    "    plt.plot(history.history[string])\n",
    "    plt.plot(history.history['val_'+string], '')\n",
    "    plt.xlabel(\"Epochs\")\n",
    "    plt.ylabel(string)\n",
    "    plt.legend([string, 'val_'+string])\n",
    "    plt.show()"
   ]
  },
  {
   "cell_type": "code",
   "execution_count": 11,
   "id": "bca942df",
   "metadata": {
    "ExecuteTime": {
     "end_time": "2021-08-23T18:37:31.923448Z",
     "start_time": "2021-08-23T18:37:31.742263Z"
    },
    "scrolled": true
   },
   "outputs": [
    {
     "data": {
      "image/png": "[encoded data removed]",
      "text/plain": [
       "<Figure size 432x288 with 1 Axes>"
      ]
     },
     "metadata": {
      "needs_background": "light"
     },
     "output_type": "display_data"
    }
   ],
   "source": [
    "plot_graphs(history, 'loss')"
   ]
  },
  {
   "cell_type": "code",
   "execution_count": 12,
   "id": "2a188886",
   "metadata": {
    "ExecuteTime": {
     "end_time": "2021-08-23T18:37:44.725667Z",
     "start_time": "2021-08-23T18:37:44.543946Z"
    }
   },
   "outputs": [
    {
     "data": {
      "image/png": "[encoded data removed]",
      "text/plain": [
       "<Figure size 432x288 with 1 Axes>"
      ]
     },
     "metadata": {
      "needs_background": "light"
     },
     "output_type": "display_data"
    }
   ],
   "source": [
    "plot_graphs(history, 'accuracy')"
   ]
  },
  {
   "cell_type": "code",
   "execution_count": 19,
   "id": "34e3382e",
   "metadata": {
    "ExecuteTime": {
     "end_time": "2021-08-23T18:44:47.962563Z",
     "start_time": "2021-08-23T18:44:47.166704Z"
    }
   },
   "outputs": [
    {
     "name": "stdout",
     "output_type": "stream",
     "text": [
      "<class '__main__.RNNClassifier'>\n",
      "12/12 [==============================] - 1s 58ms/step - loss: -0.1635 - accuracy: 0.8901\n"
     ]
    },
    {
     "data": {
      "text/plain": [
       "[-0.1634674370288849, 0.8901408314704895]"
      ]
     },
     "execution_count": 19,
     "metadata": {},
     "output_type": "execute_result"
    }
   ],
   "source": [
    "testInput = np.load(open(DATA_IN_PATH + TEST_INPUT_DATA, 'rb'))\n",
    "testInput = pad_sequences(testInput, maxlen=testInput.shape[1])\n",
    "testLabelData = np.load(open(DATA_IN_PATH + TEST_LABEL_DATA, 'rb'))\n",
    "print(type(model))\n",
    "model.load_weights(os.path.join(DATA_OUT_PATH, modelName, SAVE_FILE_NM))\n",
    "model.evaluate(testInput, testLabelData)"
   ]
  }
 ],
 "metadata": {
  "kernelspec": {
   "display_name": "Python 3",
   "language": "python",
   "name": "python3"
  },
  "language_info": {
   "codemirror_mode": {
    "name": "ipython",
    "version": 3
   },
   "file_extension": ".py",
   "mimetype": "text/x-python",
   "name": "python",
   "nbconvert_exporter": "python",
   "pygments_lexer": "ipython3",
   "version": "3.6.5"
  }
 },
 "nbformat": 4,
 "nbformat_minor": 5
}
