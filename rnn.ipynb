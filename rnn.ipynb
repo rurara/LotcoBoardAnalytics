{
 "cells": [
  {
   "cell_type": "code",
   "execution_count": 1,
   "id": "7d0a5722",
   "metadata": {
    "ExecuteTime": {
     "end_time": "2021-08-28T14:26:33.929738Z",
     "start_time": "2021-08-28T14:26:31.844941Z"
    }
   },
   "outputs": [],
   "source": [
    "import tensorflow as tf\n",
    "from tensorflow.keras.preprocessing.sequence import pad_sequences\n",
    "from tensorflow.keras.callbacks import EarlyStopping, ModelCheckpoint\n",
    "from tensorflow.keras import layers\n",
    "\n",
    "import numpy as np\n",
    "# import pandas as pd\n",
    "import matplotlib.pyplot as plt\n",
    "import os\n",
    "import json\n",
    "\n",
    "# from tqdm import tqdm"
   ]
  },
  {
   "cell_type": "code",
   "execution_count": 2,
   "id": "2b52f2e3",
   "metadata": {
    "ExecuteTime": {
     "end_time": "2021-08-28T14:26:34.063727Z",
     "start_time": "2021-08-28T14:26:33.933034Z"
    }
   },
   "outputs": [
    {
     "name": "stdout",
     "output_type": "stream",
     "text": [
      "[[  403     7   237 ...  6678    28     1]\n",
      " [  364   209  1852 ...     1   133     1]\n",
      " [  979   862   870 ...     0     0     0]\n",
      " ...\n",
      " [ 2129  1755 17005 ...     0     0     0]\n",
      " [  281   247    77 ...   943   155    72]\n",
      " [   41     6   255 ...     0     0     0]]\n"
     ]
    }
   ],
   "source": [
    "SEED_NUM = 17171771\n",
    "tf.random.set_seed(SEED_NUM)\n",
    "\n",
    "DATA_IN_PATH = './data_in/'\n",
    "DATA_OUT_PATH = './data_out/'\n",
    "TRAIN_INPUT_DATA = 'train_input.npy'\n",
    "TRAIN_LABEL_DATA = 'train_label.npy'\n",
    "TEST_INPUT_DATA = 'test_input.npy'\n",
    "TEST_LABEL_DATA = 'test_label.npy'\n",
    "SAVE_FILE_NM = 'weights.h5'\n",
    "DATA_CONFIGS = 'data_configs.json'\n",
    "\n",
    "trainInputs = np.load(open(DATA_IN_PATH + TRAIN_INPUT_DATA, 'rb'))\n",
    "trainInputs = pad_sequences(trainInputs, maxlen=trainInputs.shape[1])\n",
    "trainLabel = np.load(open(DATA_IN_PATH + TRAIN_LABEL_DATA, 'rb'))\n",
    "preproConfigs = json.load(open(DATA_IN_PATH + DATA_CONFIGS, 'r'))\n",
    "\n",
    "print(trainInputs)\n",
    "# print(preproConfigs)"
   ]
  },
  {
   "cell_type": "code",
   "execution_count": 3,
   "id": "558d3131",
   "metadata": {
    "ExecuteTime": {
     "end_time": "2021-08-28T14:26:34.070362Z",
     "start_time": "2021-08-28T14:26:34.066135Z"
    }
   },
   "outputs": [],
   "source": [
    "modelName = 'rnn_classifier_kr'\n",
    "BATCH_SIZE = 128\n",
    "NUM_EPOCHS = 5\n",
    "VALID_SPLIT = 0.1\n",
    "MAX_LEN = trainInputs.shape[1]\n",
    "\n",
    "kargs = {'model_name':modelName,\n",
    "        'vocab_size':preproConfigs['vocab_size'],\n",
    "         'embedding_dimension':100,\n",
    "         'dropout_rate':0.2,\n",
    "         'lstm_dimension':150,\n",
    "         'dense_dimension':150,\n",
    "         'output_dimension':1}"
   ]
  },
  {
   "cell_type": "code",
   "execution_count": 4,
   "id": "3a811fef",
   "metadata": {
    "ExecuteTime": {
     "end_time": "2021-08-28T14:26:34.095667Z",
     "start_time": "2021-08-28T14:26:34.072929Z"
    }
   },
   "outputs": [],
   "source": [
    "class RNNClassifier(tf.keras.Model):\n",
    "    def __init__(self, **kargs):\n",
    "        print('init keras rnn!!')\n",
    "        super(RNNClassifier, self).__init__(name=kargs['model_name'])\n",
    "        self.embedding = layers.Embedding(input_dim=kargs['vocab_size'],\n",
    "                                         output_dim=kargs['embedding_dimension'])\n",
    "        self.lstm_1_layer = tf.keras.layers.LSTM(kargs['lstm_dimension'],\n",
    "                                                return_sequences=True)\n",
    "        self.lstm_2_layer = tf.keras.layers.LSTM(kargs['lstm_dimension'])\n",
    "        self.dropout = layers.Dropout(kargs['dropout_rate'])\n",
    "        self.fc1 = layers.Dense(units=kargs['dense_dimension'],\n",
    "                               activation=tf.keras.activations.tanh)\n",
    "        self.fc2 = layers.Dense(units=kargs['output_dimension'],\n",
    "                               activation=tf.keras.activations.sigmoid)\n",
    "        \n",
    "    def call(self, x):\n",
    "        print('call rnn!!')\n",
    "        x = self.embedding(x)\n",
    "        x = self.dropout(x)\n",
    "        x = self.lstm_1_layer(x)\n",
    "        x = self.lstm_2_layer(x)\n",
    "        x = self.dropout(x)\n",
    "        x = self.fc1(x)\n",
    "        x = self.dropout(x)\n",
    "        x = self.fc2(x)\n",
    "        \n",
    "        return x\n",
    "        "
   ]
  },
  {
   "cell_type": "code",
   "execution_count": 5,
   "id": "fdbcadbd",
   "metadata": {
    "ExecuteTime": {
     "end_time": "2021-08-28T14:26:34.185996Z",
     "start_time": "2021-08-28T14:26:34.098299Z"
    }
   },
   "outputs": [
    {
     "name": "stdout",
     "output_type": "stream",
     "text": [
      "init keras rnn!!\n"
     ]
    }
   ],
   "source": [
    "model = RNNClassifier(**kargs)\n",
    "model.compile(optimizer = tf.keras.optimizers.Adam(1e-4),\n",
    "             loss=tf.keras.losses.BinaryCrossentropy(),\n",
    "             metrics=[tf.keras.metrics.BinaryAccuracy(name='accuracy')])"
   ]
  },
  {
   "cell_type": "code",
   "execution_count": 6,
   "id": "3097022c",
   "metadata": {
    "ExecuteTime": {
     "end_time": "2021-08-28T14:32:51.983162Z",
     "start_time": "2021-08-28T14:26:34.188891Z"
    },
    "scrolled": true
   },
   "outputs": [
    {
     "name": "stdout",
     "output_type": "stream",
     "text": [
      "Epoch 1/5\n",
      "call rnn!!\n",
      "call rnn!!\n",
      "182/182 [==============================] - ETA: 0s - loss: -1.4864 - accuracy: 0.9278call rnn!!\n",
      "182/182 [==============================] - 127s 678ms/step - loss: -1.4864 - accuracy: 0.9278 - val_loss: -2.5025 - val_accuracy: 0.9300\n",
      "\n",
      "Epoch 00001: val_accuracy improved from -inf to 0.93003, saving model to ./data_out/rnn_classifier_kr/weights.h5\n",
      "Epoch 2/5\n",
      "182/182 [==============================] - 134s 739ms/step - loss: -2.8114 - accuracy: 0.9301 - val_loss: -2.9515 - val_accuracy: 0.9300\n",
      "\n",
      "Epoch 00002: val_accuracy did not improve from 0.93003\n",
      "Epoch 3/5\n",
      "182/182 [==============================] - 116s 639ms/step - loss: -3.2358 - accuracy: 0.9301 - val_loss: -3.3261 - val_accuracy: 0.9300\n",
      "\n",
      "Epoch 00003: val_accuracy did not improve from 0.93003\n"
     ]
    }
   ],
   "source": [
    "earlystop_callback = EarlyStopping(monitor='val_accuracy', min_delta=0.0001, patience=2)\n",
    "checkpoint_path = DATA_OUT_PATH + modelName + '/' + SAVE_FILE_NM\n",
    "\n",
    "cp_callback = ModelCheckpoint(checkpoint_path,monitor='val_accuracy', verbose=1, save_best_only=True,save_weights_only=True)\n",
    "history = model.fit(trainInputs,trainLabel, batch_size=BATCH_SIZE, epochs=NUM_EPOCHS, validation_split=VALID_SPLIT, callbacks=[earlystop_callback,cp_callback])\n"
   ]
  },
  {
   "cell_type": "code",
   "execution_count": 7,
   "id": "fbcb7d42",
   "metadata": {
    "ExecuteTime": {
     "end_time": "2021-08-28T14:32:51.990177Z",
     "start_time": "2021-08-28T14:32:51.985887Z"
    }
   },
   "outputs": [],
   "source": [
    "def plot_graphs(history, string):\n",
    "    plt.plot(history.history[string])\n",
    "    plt.plot(history.history['val_'+string], '')\n",
    "    plt.xlabel(\"Epochs\")\n",
    "    plt.ylabel(string)\n",
    "    plt.legend([string, 'val_'+string])\n",
    "    plt.show()"
   ]
  },
  {
   "cell_type": "code",
   "execution_count": 8,
   "id": "bdc9394a",
   "metadata": {
    "ExecuteTime": {
     "end_time": "2021-08-28T14:32:52.240660Z",
     "start_time": "2021-08-28T14:32:51.993123Z"
    },
    "scrolled": true
   },
   "outputs": [
    {
     "data": {
      "image/png": "[encoded data removed]",
      "text/plain": [
       "<Figure size 432x288 with 1 Axes>"
      ]
     },
     "metadata": {
      "needs_background": "light"
     },
     "output_type": "display_data"
    }
   ],
   "source": [
    "plot_graphs(history, 'loss')"
   ]
  },
  {
   "cell_type": "code",
   "execution_count": 9,
   "id": "3861fb9c",
   "metadata": {
    "ExecuteTime": {
     "end_time": "2021-08-28T14:32:52.539889Z",
     "start_time": "2021-08-28T14:32:52.247243Z"
    }
   },
   "outputs": [
    {
     "data": {
      "image/png": "[encoded data removed]",
      "text/plain": [
       "<Figure size 432x288 with 1 Axes>"
      ]
     },
     "metadata": {
      "needs_background": "light"
     },
     "output_type": "display_data"
    }
   ],
   "source": [
    "plot_graphs(history, 'accuracy')"
   ]
  },
  {
   "cell_type": "code",
   "execution_count": 10,
   "id": "1a7a436c",
   "metadata": {
    "ExecuteTime": {
     "end_time": "2021-08-28T14:33:20.922145Z",
     "start_time": "2021-08-28T14:32:52.542304Z"
    }
   },
   "outputs": [
    {
     "name": "stdout",
     "output_type": "stream",
     "text": [
      "<class '__main__.RNNClassifier'>\n",
      "347/347 [==============================] - 28s 81ms/step - loss: -2.5952 - accuracy: 0.9297\n"
     ]
    },
    {
     "data": {
      "text/plain": [
       "[-2.5951664447784424, 0.9297184944152832]"
      ]
     },
     "execution_count": 10,
     "metadata": {},
     "output_type": "execute_result"
    }
   ],
   "source": [
    "testInput = np.load(open(DATA_IN_PATH + TEST_INPUT_DATA, 'rb'))\n",
    "testInput = pad_sequences(testInput, maxlen=testInput.shape[1])\n",
    "testLabelData = np.load(open(DATA_IN_PATH + TEST_LABEL_DATA, 'rb'))\n",
    "print(type(model))\n",
    "model.load_weights(os.path.join(DATA_OUT_PATH, modelName, SAVE_FILE_NM))\n",
    "model.evaluate(testInput, testLabelData)"
   ]
  },
  {
   "cell_type": "code",
   "execution_count": 13,
   "id": "db71a677",
   "metadata": {
    "ExecuteTime": {
     "end_time": "2021-08-28T14:34:57.485136Z",
     "start_time": "2021-08-28T14:34:30.621245Z"
    }
   },
   "outputs": [
    {
     "name": "stdout",
     "output_type": "stream",
     "text": [
      "[[1.]\n",
      " [1.]\n",
      " [1.]\n",
      " [1.]\n",
      " [1.]\n",
      " [1.]\n",
      " [1.]\n",
      " [1.]\n",
      " [1.]\n",
      " [1.]\n",
      " [1.]\n",
      " [1.]\n",
      " [1.]\n",
      " [1.]\n",
      " [1.]\n",
      " [1.]\n",
      " [1.]\n",
      " [1.]\n",
      " [1.]\n",
      " [1.]\n",
      " [1.]\n",
      " [1.]\n",
      " [1.]\n",
      " [1.]\n",
      " [1.]\n",
      " [1.]\n",
      " [1.]\n",
      " [1.]\n",
      " [1.]\n",
      " [1.]\n",
      " [1.]\n",
      " [1.]\n",
      " [1.]\n",
      " [1.]\n",
      " [1.]\n",
      " [1.]\n",
      " [1.]\n",
      " [1.]\n",
      " [1.]\n",
      " [1.]\n",
      " [1.]\n",
      " [1.]\n",
      " [1.]\n",
      " [1.]\n",
      " [1.]\n",
      " [1.]\n",
      " [1.]\n",
      " [1.]\n",
      " [1.]\n",
      " [1.]\n",
      " [1.]\n",
      " [1.]\n",
      " [1.]\n",
      " [1.]\n",
      " [1.]\n",
      " [1.]\n",
      " [1.]\n",
      " [1.]\n",
      " [1.]\n",
      " [1.]\n",
      " [1.]\n",
      " [1.]\n",
      " [1.]\n",
      " [1.]\n",
      " [1.]\n",
      " [1.]\n",
      " [1.]\n",
      " [1.]\n",
      " [1.]\n",
      " [1.]\n",
      " [1.]\n",
      " [1.]\n",
      " [1.]\n",
      " [1.]\n",
      " [1.]\n",
      " [1.]\n",
      " [1.]\n",
      " [1.]\n",
      " [1.]\n",
      " [1.]]\n"
     ]
    }
   ],
   "source": [
    "# prediction = model.predict(np.array([testInput[11]]))\n",
    "prediction = model.predict(testInput)\n",
    "\n",
    "print(prediction[0:80])\n",
    "\n"
   ]
  },
  {
   "cell_type": "code",
   "execution_count": 11,
   "id": "a26ff52d",
   "metadata": {
    "ExecuteTime": {
     "end_time": "2021-08-28T14:33:21.379618Z",
     "start_time": "2021-08-28T14:33:20.924726Z"
    }
   },
   "outputs": [
    {
     "ename": "AttributeError",
     "evalue": "module 'tensorflow._api.v2.saved_model' has no attribute 'builder'",
     "output_type": "error",
     "traceback": [
      "\u001b[0;31m---------------------------------------------------------------------------\u001b[0m",
      "\u001b[0;31mAttributeError\u001b[0m                            Traceback (most recent call last)",
      "\u001b[0;32m<ipython-input-11-873e656f7865>\u001b[0m in \u001b[0;36m<module>\u001b[0;34m\u001b[0m\n\u001b[0;32m----> 1\u001b[0;31m \u001b[0mbuilder\u001b[0m \u001b[0;34m=\u001b[0m \u001b[0mtf\u001b[0m\u001b[0;34m.\u001b[0m\u001b[0msaved_model\u001b[0m\u001b[0;34m.\u001b[0m\u001b[0mbuilder\u001b[0m\u001b[0;34m.\u001b[0m\u001b[0mSavedModelBuilder\u001b[0m\u001b[0;34m(\u001b[0m\u001b[0mDATA_OUT_PATH\u001b[0m \u001b[0;34m+\u001b[0m \u001b[0;34m'rnn_build_model'\u001b[0m\u001b[0;34m)\u001b[0m\u001b[0;34m\u001b[0m\u001b[0m\n\u001b[0m\u001b[1;32m      2\u001b[0m \u001b[0mbuilder\u001b[0m\u001b[0;34m.\u001b[0m\u001b[0madd_meta_graph_and_variiables\u001b[0m\u001b[0;34m(\u001b[0m\u001b[0msess\u001b[0m\u001b[0;34m,\u001b[0m \u001b[0;34m[\u001b[0m\u001b[0mtf\u001b[0m\u001b[0;34m.\u001b[0m\u001b[0msaved_model\u001b[0m\u001b[0;34m.\u001b[0m\u001b[0mtag_constants\u001b[0m\u001b[0;34m.\u001b[0m\u001b[0mSERVING\u001b[0m\u001b[0;34m]\u001b[0m\u001b[0;34m,\u001b[0m \u001b[0msignature_def_map\u001b[0m \u001b[0;34m=\u001b[0m \u001b[0;34m{\u001b[0m\u001b[0;34m'predict_images'\u001b[0m\u001b[0;34m:\u001b[0m\u001b[0mpre\u001b[0m\u001b[0;34m}\u001b[0m\u001b[0;34m)\u001b[0m\u001b[0;34m\u001b[0m\u001b[0m\n",
      "\u001b[0;31mAttributeError\u001b[0m: module 'tensorflow._api.v2.saved_model' has no attribute 'builder'"
     ]
    }
   ],
   "source": [
    "builder = tf.saved_model.builder.SavedModelBuilder(DATA_OUT_PATH + 'rnn_build_model')\n",
    "builder.add_meta_graph_and_variiables(sess, [tf.saved_model.tag_constants.SERVING], signature_def_map = {'predict_images':pre})"
   ]
  }
 ],
 "metadata": {
  "kernelspec": {
   "display_name": "Python 3",
   "language": "python",
   "name": "python3"
  },
  "language_info": {
   "codemirror_mode": {
    "name": "ipython",
    "version": 3
   },
   "file_extension": ".py",
   "mimetype": "text/x-python",
   "name": "python",
   "nbconvert_exporter": "python",
   "pygments_lexer": "ipython3",
   "version": "3.6.5"
  }
 },
 "nbformat": 4,
 "nbformat_minor": 5
}
