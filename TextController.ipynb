{
 "cells": [
  {
   "cell_type": "code",
   "execution_count": 33,
   "id": "e6b3fb67",
   "metadata": {
    "ExecuteTime": {
     "end_time": "2021-08-26T18:33:47.131082Z",
     "start_time": "2021-08-26T18:33:47.127358Z"
    }
   },
   "outputs": [],
   "source": [
    "import os \n",
    "import json\n",
    "import pandas as pd \n",
    "import numpy as np\n",
    "from konlpy.tag import Okt\n",
    "from tensorflow.python.keras.preprocessing.sequence import pad_sequences\n",
    "from tensorflow.python.keras.preprocessing.text import Tokenizer\n",
    "# from sklearn.model_selection import train_test_split\n",
    "import numpy as np\n"
   ]
  },
  {
   "cell_type": "code",
   "execution_count": 4,
   "id": "15a6d854",
   "metadata": {
    "ExecuteTime": {
     "end_time": "2021-08-26T17:21:04.041366Z",
     "start_time": "2021-08-26T17:21:03.780705Z"
    }
   },
   "outputs": [],
   "source": [
    "DATA_IN_PATH = './data_in/'\n",
    "DATA_CONFIGS = 'data_configs.json'\n",
    "\n",
    "okt=Okt()\n",
    "stopWords = ['은', '는', '이', '가', '하', '아', '것', '들', '의', '있', '되', '수', '보', '주', '등', '한']\n",
    "preproConfigs = json.load(open(DATA_IN_PATH + DATA_CONFIGS, 'r'))\n",
    "\n",
    "#기존에 학습할떄 사용한 토큰용 사전을 입력한다\n",
    "tokenizer = Tokenizer()\n",
    "tokenizer.word_index = preproConfigs['vocab']\n",
    "\n",
    "def categoryToTarget(text):\n",
    "    if text == \"판매\":\n",
    "        return 1\n",
    "    elif text == \"교환\":\n",
    "        return 2\n",
    "    elif text == \"구입\":\n",
    "        return 3\n",
    "    elif text == \"거래완료\":\n",
    "        return 4\n",
    "    elif text == \"그냥드림\":\n",
    "        return 5\n",
    "    else:\n",
    "        return 100\n"
   ]
  },
  {
   "cell_type": "code",
   "execution_count": 5,
   "id": "f0182436",
   "metadata": {
    "ExecuteTime": {
     "end_time": "2021-08-26T17:21:04.049656Z",
     "start_time": "2021-08-26T17:21:04.044645Z"
    }
   },
   "outputs": [],
   "source": [
    "def preprocessing(text, okt, remove_stopwords= False, stop_words=[]):\n",
    "    #줄바꿈 문자 삭제\n",
    "    text = text.replace(\"\\n\",\"\")\n",
    "    wordText = okt.morphs(text, stem=True)\n",
    "    \n",
    "    if remove_stopwords:\n",
    "        wordText = [token for token in wordText if not token in stop_words]\n",
    "        \n",
    "    return wordText"
   ]
  },
  {
   "cell_type": "code",
   "execution_count": 64,
   "id": "99d1b754",
   "metadata": {
    "ExecuteTime": {
     "end_time": "2021-08-26T18:47:05.109167Z",
     "start_time": "2021-08-26T18:47:05.045060Z"
    }
   },
   "outputs": [
    {
     "name": "stdout",
     "output_type": "stream",
     "text": [
      "1\n",
      "1\n",
      "1\n",
      "1\n",
      "1\n",
      "1\n",
      "1\n",
      "0\n",
      "1\n",
      "0\n",
      "1\n",
      "1\n",
      "0\n",
      "1\n",
      "1\n",
      "1\n",
      "1\n",
      "1\n",
      "1\n",
      "0\n",
      "1\n",
      "1\n",
      "1\n",
      "1\n",
      "1\n",
      "0\n",
      "1\n",
      "1\n",
      "1\n",
      "1\n",
      "1\n",
      "1\n",
      "1\n",
      "0\n",
      "1\n",
      "1\n",
      "1\n",
      "0\n",
      "1\n",
      "1\n",
      "0\n",
      "1\n",
      "1\n",
      "1\n",
      "0\n",
      "1\n",
      "1\n",
      "1\n",
      "1\n",
      "1\n",
      "1\n",
      "0\n",
      "1\n",
      "1\n",
      "1\n",
      "1\n",
      "0\n",
      "1\n",
      "1\n",
      "0\n",
      "1\n",
      "1\n",
      "1\n",
      "1\n",
      "1\n",
      "1\n",
      "5\n",
      "['아이폰', 'se', '1', '세대', '32', 'g', '스그', '(', '컨트리락', ',', '카메라', '무음', ')', '최신', '헤', '이심', '포함', '하다', '드리다', '.', '오늘', '까지도', '활성화', '문제', '없다', '.', '사', '용법', '아시', '분', '구매', '하다', '좋다', '.', '배터리', '성능', '87%', ',', '들뜨다', '없다', ',', '지문', '인식', '양호', ',', '사설', '수리', '이력', '없다', '빈', '박스', ',', 'sword', 'pro', '알루미늄', '범퍼', ',', '투명', '케이스', ',', '액보', '3', '장', '구성', '무보정', '상세사', '진https://www.dropbox.com/sh/ukafjbzyab5p13p/AADzOArcCDtRNoTKBnJ-6ffMa?dl=0']\n",
      "[1.6500e+02 8.8400e+02 2.6000e+01 1.2700e+02 3.8100e+02 8.5000e+01\n",
      " 1.2020e+03 2.1218e+04 4.7500e+02 2.7810e+03 7.4400e+02 6.6200e+03\n",
      " 1.3146e+04 5.1000e+01 2.0000e+00 2.8000e+01 5.9200e+02 2.2330e+03\n",
      " 1.5530e+03 2.3200e+02 2.5000e+01 7.9000e+01 5.5620e+03 1.7220e+03\n",
      " 7.7000e+01 2.4000e+01 2.0000e+00 4.8000e+01 7.8000e+01 5.1200e+02\n",
      " 1.5520e+03 4.6230e+03 2.5000e+01 1.2140e+03 9.2000e+02 3.8300e+02\n",
      " 1.9850e+03 5.5900e+02 1.1530e+03 2.5000e+01 2.3730e+03 3.2000e+01\n",
      " 2.1219e+04 3.4800e+02 1.2910e+03 2.3120e+03 8.3900e+02 3.8000e+01\n",
      " 2.3310e+03 3.3000e+01 1.4700e+02 1.7600e+02 2.1220e+04 1.7991e+04]\n"
     ]
    }
   ],
   "source": [
    "test = preprocessing('\\uc544\\uc774\\ud3f0 se 1\\uc138\\ub300 32g \\uc2a4\\uadf8 (\\ucee8\\ud2b8\\ub9ac\\ub77d, \\uce74\\uba54\\ub77c \\ubb34\\uc74c)\\n\\n\\ucd5c\\uc2e0 \\ud5e4\\uc774\\uc2ec \\ud3ec\\ud568\\ud574\\uc11c \\ub4dc\\ub9bd\\ub2c8\\ub2e4. \\uc624\\ub298\\uae4c\\uc9c0\\ub3c4 \\ud65c\\uc131\\ud654 \\ubb38\\uc81c \\uc5c6\\ub124\\uc694.\\n\\uc0ac\\uc6a9\\ubc95 \\uc544\\uc2dc\\ub294\\ubd84\\uc774 \\uad6c\\ub9e4\\ud558\\uc168\\uc73c\\uba74 \\uc88b\\uaca0\\uc2b5\\ub2c8\\ub2e4.\\n\\ubc30\\ud130\\ub9ac \\uc131\\ub2a5 87%, \\ub4e4\\ub738 \\uc5c6\\uc74c, \\uc9c0\\ubb38\\uc778\\uc2dd \\uc591\\ud638, \\uc0ac\\uc124\\uc218\\ub9ac\\uc774\\ub825 \\uc5c6\\uc74c\\n\\ube48\\ubc15\\uc2a4, sword pro \\uc54c\\ub8e8\\ubbf8\\ub284 \\ubc94\\ud37c, \\ud22c\\uba85\\ucf00\\uc774\\uc2a4, \\uc561\\ubcf4 3\\uc7a5 \\uad6c\\uc131\\n\\n\\ubb34\\ubcf4\\uc815 \\uc0c1\\uc138\\uc0ac\\uc9c4\\nhttps://www.dropbox.com/sh/ukafjbzyab5p13p/AADzOArcCDtRNoTKBnJ-6ffMa?dl=0', okt, remove_stopwords=True, stop_words=stopWords)\n",
    "\n",
    "\n",
    "print(textToToken(test))\n"
   ]
  },
  {
   "cell_type": "code",
   "execution_count": 63,
   "id": "b3385be8",
   "metadata": {
    "ExecuteTime": {
     "end_time": "2021-08-26T18:47:04.307162Z",
     "start_time": "2021-08-26T18:47:04.302866Z"
    }
   },
   "outputs": [],
   "source": [
    "def textToToken(text):\n",
    "    tokenizerArray = tokenizer.texts_to_sequences(text)\n",
    "    npArray = np.array([])\n",
    "    for inToken in tokenizerArray:\n",
    "        if len(inToken) == 1:\n",
    "            npArray = np.append(npArray, np.array(inToken[0]))\n",
    "    return npArray"
   ]
  },
  {
   "cell_type": "code",
   "execution_count": 32,
   "id": "54304df9",
   "metadata": {
    "ExecuteTime": {
     "end_time": "2021-08-26T18:10:02.759159Z",
     "start_time": "2021-08-26T18:10:02.755873Z"
    }
   },
   "outputs": [],
   "source": [
    "def test():\n",
    "    print('ttt!!')"
   ]
  }
 ],
 "metadata": {
  "kernelspec": {
   "display_name": "Python 3",
   "language": "python",
   "name": "python3"
  },
  "language_info": {
   "codemirror_mode": {
    "name": "ipython",
    "version": 3
   },
   "file_extension": ".py",
   "mimetype": "text/x-python",
   "name": "python",
   "nbconvert_exporter": "python",
   "pygments_lexer": "ipython3",
   "version": "3.6.5"
  }
 },
 "nbformat": 4,
 "nbformat_minor": 5
}
