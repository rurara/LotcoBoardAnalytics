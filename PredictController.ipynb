{
 "cells": [
  {
   "cell_type": "code",
   "execution_count": 4,
   "id": "c526d3cb",
   "metadata": {
    "ExecuteTime": {
     "end_time": "2021-09-02T23:39:52.094401Z",
     "start_time": "2021-09-02T23:39:18.524857Z"
    },
    "scrolled": true
   },
   "outputs": [
    {
     "name": "stdout",
     "output_type": "stream",
     "text": [
      "학습 시작\n",
      "0.9675236806495264\n",
      "[1 1 1 3 1 3 1 1 1 1]\n",
      "[1 1 1 3 1 3 1 1 1 1]\n",
      "[[0.88  0.02  0.1   0.    0.   ]\n",
      " [0.99  0.    0.01  0.    0.   ]\n",
      " [0.645 0.05  0.305 0.    0.   ]\n",
      " [0.075 0.    0.91  0.015 0.   ]\n",
      " [1.    0.    0.    0.    0.   ]\n",
      " [0.05  0.02  0.93  0.    0.   ]\n",
      " [1.    0.    0.    0.    0.   ]\n",
      " [1.    0.    0.    0.    0.   ]\n",
      " [1.    0.    0.    0.    0.   ]\n",
      " [0.95  0.    0.05  0.    0.   ]]\n"
     ]
    }
   ],
   "source": [
    "from Controller import TextController\n",
    "from Controller import RandomForest"
   ]
  },
  {
   "cell_type": "code",
   "execution_count": 2,
   "id": "00b178c6",
   "metadata": {
    "ExecuteTime": {
     "end_time": "2021-09-02T23:38:02.128458Z",
     "start_time": "2021-09-02T23:37:59.219009Z"
    }
   },
   "outputs": [
    {
     "name": "stdout",
     "output_type": "stream",
     "text": [
      "ttt!! aabbcc\n",
      "[3.1500e+02 6.9000e+01 5.1000e+02 2.6000e+01 6.8200e+02 2.4400e+02\n",
      " 3.3000e+01 2.0000e+01 8.5000e+01 2.2100e+02 1.6600e+02 6.2160e+03\n",
      " 8.6200e+02 1.1330e+03 3.2840e+03 2.0120e+03 3.3580e+03 2.1600e+02\n",
      " 3.8200e+02 2.3190e+03 1.1410e+03 1.1950e+03 6.6200e+03 1.6660e+03\n",
      " 1.2920e+03 1.3790e+03 5.0400e+02 1.6700e+02 2.2620e+03 7.9490e+03\n",
      " 1.5500e+02 7.2000e+01 5.5600e+02 3.5980e+03 1.8600e+02 3.0000e+01\n",
      " 3.0450e+03 5.1600e+02 4.4800e+02 7.2200e+02 6.1000e+01 1.1000e+02\n",
      " 2.3300e+02 7.9000e+01 5.0000e+01 7.4760e+03 3.6000e+01 7.7000e+01\n",
      " 3.7000e+01 2.8100e+02 2.5176e+04 7.2120e+03 6.2000e+01 2.9113e+04\n",
      " 3.6110e+03 1.5500e+02 7.2000e+01 4.6800e+02 1.0180e+03 1.1330e+03\n",
      " 5.1600e+02 7.6050e+03 8.9000e+01 1.2400e+02 1.9713e+04 2.3190e+03\n",
      " 1.8600e+02 7.2200e+02 1.2100e+02 6.5200e+02 9.4400e+02 2.1450e+03\n",
      " 7.9000e+01 3.7420e+03 1.1330e+03 2.6990e+03 2.3190e+03 2.3730e+03\n",
      " 1.7280e+03 2.2100e+02 6.9000e+01 2.1300e+02 3.8800e+02 7.8900e+02\n",
      " 5.5700e+02 5.7800e+02 7.8900e+02 3.8800e+02 8.0000e+02 5.1200e+03\n",
      " 3.3901e+04 2.8230e+03 1.1560e+03 2.9100e+02 3.8120e+03 2.2100e+02\n",
      " 3.4100e+03 3.3000e+01 1.4700e+02 3.7000e+01 5.1600e+02 3.8200e+02\n",
      " 1.1840e+03 1.7900e+02 6.8200e+02 7.9000e+01 2.6280e+03 7.5100e+02\n",
      " 4.5500e+02 4.5500e+02 5.7800e+02 6.9000e+01 2.1300e+02 2.1300e+02\n",
      " 2.1300e+02 5.5700e+02 7.8900e+02 3.8800e+02 5.7800e+02 4.3500e+02\n",
      " 3.8800e+02 1.0900e+02 1.6100e+02 3.8800e+02 1.0200e+02 6.9000e+01\n",
      " 7.5100e+02 4.0600e+02 1.9800e+02 1.0100e+02 4.1700e+02 1.9830e+03\n",
      " 4.3500e+02 1.1140e+03 2.0340e+03 1.0100e+02 4.3500e+02 5.8000e+01\n",
      " 5.7800e+02 2.6000e+01 3.3000e+01 5.7800e+02 1.0100e+02 1.0100e+02\n",
      " 5.5700e+02 1.1140e+03 3.8800e+02 1.0100e+02 7.8900e+02 1.6100e+02\n",
      " 1.6100e+02 5.5700e+02 4.5500e+02 7.8900e+02 5.5400e+02 3.8800e+02\n",
      " 4.5500e+02 1.9800e+02 4.3500e+02 5.5400e+02 1.9830e+03 9.5000e+01\n",
      " 4.1700e+02 4.1700e+02 1.0200e+02 1.0100e+02 5.5700e+02 4.7600e+02\n",
      " 6.7600e+02]\n"
     ]
    }
   ],
   "source": [
    "from Controller import TextController\n",
    "textController = TextController.test()\n",
    "testString = TextController.textToToken('\\uc544\\uc774\\ud3f0 se 1\\uc138\\ub300 32g \\uc2a4\\uadf8 (\\ucee8\\ud2b8\\ub9ac\\ub77d, \\uce74\\uba54\\ub77c \\ubb34\\uc74c)\\n\\n\\ucd5c\\uc2e0 \\ud5e4\\uc774\\uc2ec \\ud3ec\\ud568\\ud574\\uc11c \\ub4dc\\ub9bd\\ub2c8\\ub2e4. \\uc624\\ub298\\uae4c\\uc9c0\\ub3c4 \\ud65c\\uc131\\ud654 \\ubb38\\uc81c \\uc5c6\\ub124\\uc694.\\n\\uc0ac\\uc6a9\\ubc95 \\uc544\\uc2dc\\ub294\\ubd84\\uc774 \\uad6c\\ub9e4\\ud558\\uc168\\uc73c\\uba74 \\uc88b\\uaca0\\uc2b5\\ub2c8\\ub2e4.\\n\\ubc30\\ud130\\ub9ac \\uc131\\ub2a5 87%, \\ub4e4\\ub738 \\uc5c6\\uc74c, \\uc9c0\\ubb38\\uc778\\uc2dd \\uc591\\ud638, \\uc0ac\\uc124\\uc218\\ub9ac\\uc774\\ub825 \\uc5c6\\uc74c\\n\\ube48\\ubc15\\uc2a4, sword pro \\uc54c\\ub8e8\\ubbf8\\ub284 \\ubc94\\ud37c, \\ud22c\\uba85\\ucf00\\uc774\\uc2a4, \\uc561\\ubcf4 3\\uc7a5 \\uad6c\\uc131\\n\\n\\ubb34\\ubcf4\\uc815 \\uc0c1\\uc138\\uc0ac\\uc9c4\\nhttps://www.dropbox.com/sh/ukafjbzyab5p13p/AADzOArcCDtRNoTKBnJ-6ffMa?dl=0')\n",
    "\n",
    "\n",
    "print(testString)"
   ]
  },
  {
   "cell_type": "code",
   "execution_count": 6,
   "id": "5c4eab73",
   "metadata": {
    "ExecuteTime": {
     "end_time": "2021-09-02T23:41:01.760147Z",
     "start_time": "2021-09-02T23:41:01.719441Z"
    }
   },
   "outputs": [
    {
     "ename": "ValueError",
     "evalue": "X has 169 features, but DecisionTreeClassifier is expecting 5000 features as input.",
     "output_type": "error",
     "traceback": [
      "\u001b[0;31m---------------------------------------------------------------------------\u001b[0m",
      "\u001b[0;31mValueError\u001b[0m                                Traceback (most recent call last)",
      "\u001b[0;32m<ipython-input-6-2e60b5f286a4>\u001b[0m in \u001b[0;36m<module>\u001b[0;34m\u001b[0m\n\u001b[0;32m----> 1\u001b[0;31m \u001b[0mRandomForest\u001b[0m\u001b[0;34m.\u001b[0m\u001b[0mpredictText\u001b[0m\u001b[0;34m(\u001b[0m\u001b[0;34m[\u001b[0m\u001b[0mtestString\u001b[0m\u001b[0;34m]\u001b[0m\u001b[0;34m)\u001b[0m\u001b[0;34m\u001b[0m\u001b[0m\n\u001b[0m",
      "\u001b[0;32m/mnt/d/developer/LotcoBoardAnalytics/Controller/RandomForest.py\u001b[0m in \u001b[0;36mpredictText\u001b[0;34m(data)\u001b[0m\n\u001b[1;32m     69\u001b[0m \u001b[0;34m\u001b[0m\u001b[0m\n\u001b[1;32m     70\u001b[0m \u001b[0;32mdef\u001b[0m \u001b[0mpredictText\u001b[0m\u001b[0;34m(\u001b[0m\u001b[0mdata\u001b[0m\u001b[0;34m)\u001b[0m\u001b[0;34m:\u001b[0m\u001b[0;34m\u001b[0m\u001b[0m\n\u001b[0;32m---> 71\u001b[0;31m     \u001b[0mprint\u001b[0m\u001b[0;34m(\u001b[0m\u001b[0mforest\u001b[0m\u001b[0;34m.\u001b[0m\u001b[0mpredict\u001b[0m\u001b[0;34m(\u001b[0m\u001b[0mdata\u001b[0m\u001b[0;34m)\u001b[0m\u001b[0;34m)\u001b[0m\u001b[0;34m\u001b[0m\u001b[0m\n\u001b[0m\u001b[1;32m     72\u001b[0m     \u001b[0mprint\u001b[0m\u001b[0;34m(\u001b[0m\u001b[0mforest\u001b[0m\u001b[0;34m.\u001b[0m\u001b[0mpredict_proba\u001b[0m\u001b[0;34m(\u001b[0m\u001b[0mdata\u001b[0m\u001b[0;34m)\u001b[0m\u001b[0;34m)\u001b[0m\u001b[0;34m\u001b[0m\u001b[0m\n\u001b[1;32m     73\u001b[0m \u001b[0;34m\u001b[0m\u001b[0m\n",
      "\u001b[0;32m~/anaconda3/envs/36/lib/python3.6/site-packages/sklearn/ensemble/_forest.py\u001b[0m in \u001b[0;36mpredict\u001b[0;34m(self, X)\u001b[0m\n\u001b[1;32m    628\u001b[0m             \u001b[0mThe\u001b[0m \u001b[0mpredicted\u001b[0m \u001b[0mclasses\u001b[0m\u001b[0;34m.\u001b[0m\u001b[0;34m\u001b[0m\u001b[0m\n\u001b[1;32m    629\u001b[0m         \"\"\"\n\u001b[0;32m--> 630\u001b[0;31m         \u001b[0mproba\u001b[0m \u001b[0;34m=\u001b[0m \u001b[0mself\u001b[0m\u001b[0;34m.\u001b[0m\u001b[0mpredict_proba\u001b[0m\u001b[0;34m(\u001b[0m\u001b[0mX\u001b[0m\u001b[0;34m)\u001b[0m\u001b[0;34m\u001b[0m\u001b[0m\n\u001b[0m\u001b[1;32m    631\u001b[0m \u001b[0;34m\u001b[0m\u001b[0m\n\u001b[1;32m    632\u001b[0m         \u001b[0;32mif\u001b[0m \u001b[0mself\u001b[0m\u001b[0;34m.\u001b[0m\u001b[0mn_outputs_\u001b[0m \u001b[0;34m==\u001b[0m \u001b[0;36m1\u001b[0m\u001b[0;34m:\u001b[0m\u001b[0;34m\u001b[0m\u001b[0m\n",
      "\u001b[0;32m~/anaconda3/envs/36/lib/python3.6/site-packages/sklearn/ensemble/_forest.py\u001b[0m in \u001b[0;36mpredict_proba\u001b[0;34m(self, X)\u001b[0m\n\u001b[1;32m    672\u001b[0m         \u001b[0mcheck_is_fitted\u001b[0m\u001b[0;34m(\u001b[0m\u001b[0mself\u001b[0m\u001b[0;34m)\u001b[0m\u001b[0;34m\u001b[0m\u001b[0m\n\u001b[1;32m    673\u001b[0m         \u001b[0;31m# Check data\u001b[0m\u001b[0;34m\u001b[0m\u001b[0;34m\u001b[0m\u001b[0m\n\u001b[0;32m--> 674\u001b[0;31m         \u001b[0mX\u001b[0m \u001b[0;34m=\u001b[0m \u001b[0mself\u001b[0m\u001b[0;34m.\u001b[0m\u001b[0m_validate_X_predict\u001b[0m\u001b[0;34m(\u001b[0m\u001b[0mX\u001b[0m\u001b[0;34m)\u001b[0m\u001b[0;34m\u001b[0m\u001b[0m\n\u001b[0m\u001b[1;32m    675\u001b[0m \u001b[0;34m\u001b[0m\u001b[0m\n\u001b[1;32m    676\u001b[0m         \u001b[0;31m# Assign chunk of trees to jobs\u001b[0m\u001b[0;34m\u001b[0m\u001b[0;34m\u001b[0m\u001b[0m\n",
      "\u001b[0;32m~/anaconda3/envs/36/lib/python3.6/site-packages/sklearn/ensemble/_forest.py\u001b[0m in \u001b[0;36m_validate_X_predict\u001b[0;34m(self, X)\u001b[0m\n\u001b[1;32m    420\u001b[0m         \u001b[0mcheck_is_fitted\u001b[0m\u001b[0;34m(\u001b[0m\u001b[0mself\u001b[0m\u001b[0;34m)\u001b[0m\u001b[0;34m\u001b[0m\u001b[0m\n\u001b[1;32m    421\u001b[0m \u001b[0;34m\u001b[0m\u001b[0m\n\u001b[0;32m--> 422\u001b[0;31m         \u001b[0;32mreturn\u001b[0m \u001b[0mself\u001b[0m\u001b[0;34m.\u001b[0m\u001b[0mestimators_\u001b[0m\u001b[0;34m[\u001b[0m\u001b[0;36m0\u001b[0m\u001b[0;34m]\u001b[0m\u001b[0;34m.\u001b[0m\u001b[0m_validate_X_predict\u001b[0m\u001b[0;34m(\u001b[0m\u001b[0mX\u001b[0m\u001b[0;34m,\u001b[0m \u001b[0mcheck_input\u001b[0m\u001b[0;34m=\u001b[0m\u001b[0;32mTrue\u001b[0m\u001b[0;34m)\u001b[0m\u001b[0;34m\u001b[0m\u001b[0m\n\u001b[0m\u001b[1;32m    423\u001b[0m \u001b[0;34m\u001b[0m\u001b[0m\n\u001b[1;32m    424\u001b[0m     \u001b[0;34m@\u001b[0m\u001b[0mproperty\u001b[0m\u001b[0;34m\u001b[0m\u001b[0m\n",
      "\u001b[0;32m~/anaconda3/envs/36/lib/python3.6/site-packages/sklearn/tree/_classes.py\u001b[0m in \u001b[0;36m_validate_X_predict\u001b[0;34m(self, X, check_input)\u001b[0m\n\u001b[1;32m    406\u001b[0m         \u001b[0;32mif\u001b[0m \u001b[0mcheck_input\u001b[0m\u001b[0;34m:\u001b[0m\u001b[0;34m\u001b[0m\u001b[0m\n\u001b[1;32m    407\u001b[0m             X = self._validate_data(X, dtype=DTYPE, accept_sparse=\"csr\",\n\u001b[0;32m--> 408\u001b[0;31m                                     reset=False)\n\u001b[0m\u001b[1;32m    409\u001b[0m             if issparse(X) and (X.indices.dtype != np.intc or\n\u001b[1;32m    410\u001b[0m                                 X.indptr.dtype != np.intc):\n",
      "\u001b[0;32m~/anaconda3/envs/36/lib/python3.6/site-packages/sklearn/base.py\u001b[0m in \u001b[0;36m_validate_data\u001b[0;34m(self, X, y, reset, validate_separately, **check_params)\u001b[0m\n\u001b[1;32m    435\u001b[0m \u001b[0;34m\u001b[0m\u001b[0m\n\u001b[1;32m    436\u001b[0m         \u001b[0;32mif\u001b[0m \u001b[0mcheck_params\u001b[0m\u001b[0;34m.\u001b[0m\u001b[0mget\u001b[0m\u001b[0;34m(\u001b[0m\u001b[0;34m'ensure_2d'\u001b[0m\u001b[0;34m,\u001b[0m \u001b[0;32mTrue\u001b[0m\u001b[0;34m)\u001b[0m\u001b[0;34m:\u001b[0m\u001b[0;34m\u001b[0m\u001b[0m\n\u001b[0;32m--> 437\u001b[0;31m             \u001b[0mself\u001b[0m\u001b[0;34m.\u001b[0m\u001b[0m_check_n_features\u001b[0m\u001b[0;34m(\u001b[0m\u001b[0mX\u001b[0m\u001b[0;34m,\u001b[0m \u001b[0mreset\u001b[0m\u001b[0;34m=\u001b[0m\u001b[0mreset\u001b[0m\u001b[0;34m)\u001b[0m\u001b[0;34m\u001b[0m\u001b[0m\n\u001b[0m\u001b[1;32m    438\u001b[0m \u001b[0;34m\u001b[0m\u001b[0m\n\u001b[1;32m    439\u001b[0m         \u001b[0;32mreturn\u001b[0m \u001b[0mout\u001b[0m\u001b[0;34m\u001b[0m\u001b[0m\n",
      "\u001b[0;32m~/anaconda3/envs/36/lib/python3.6/site-packages/sklearn/base.py\u001b[0m in \u001b[0;36m_check_n_features\u001b[0;34m(self, X, reset)\u001b[0m\n\u001b[1;32m    364\u001b[0m         \u001b[0;32mif\u001b[0m \u001b[0mn_features\u001b[0m \u001b[0;34m!=\u001b[0m \u001b[0mself\u001b[0m\u001b[0;34m.\u001b[0m\u001b[0mn_features_in_\u001b[0m\u001b[0;34m:\u001b[0m\u001b[0;34m\u001b[0m\u001b[0m\n\u001b[1;32m    365\u001b[0m             raise ValueError(\n\u001b[0;32m--> 366\u001b[0;31m                 \u001b[0;34mf\"X has {n_features} features, but {self.__class__.__name__} \"\u001b[0m\u001b[0;34m\u001b[0m\u001b[0m\n\u001b[0m\u001b[1;32m    367\u001b[0m                 f\"is expecting {self.n_features_in_} features as input.\")\n\u001b[1;32m    368\u001b[0m \u001b[0;34m\u001b[0m\u001b[0m\n",
      "\u001b[0;31mValueError\u001b[0m: X has 169 features, but DecisionTreeClassifier is expecting 5000 features as input."
     ]
    }
   ],
   "source": [
    "RandomForest.predictText([testString])"
   ]
  }
 ],
 "metadata": {
  "kernelspec": {
   "display_name": "Python 3",
   "language": "python",
   "name": "python3"
  },
  "language_info": {
   "codemirror_mode": {
    "name": "ipython",
    "version": 3
   },
   "file_extension": ".py",
   "mimetype": "text/x-python",
   "name": "python",
   "nbconvert_exporter": "python",
   "pygments_lexer": "ipython3",
   "version": "3.6.5"
  }
 },
 "nbformat": 4,
 "nbformat_minor": 5
}
