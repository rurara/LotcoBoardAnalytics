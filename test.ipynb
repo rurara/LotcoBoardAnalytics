{
 "cells": [
  {
   "cell_type": "code",
   "execution_count": 3,
   "id": "1383fc91",
   "metadata": {
    "ExecuteTime": {
     "end_time": "2021-08-27T22:05:59.763467Z",
     "start_time": "2021-08-27T22:05:59.752971Z"
    }
   },
   "outputs": [],
   "source": [
    "## model.py\n",
    "import numpy as np\n",
    "import pandas as pd\n",
    "from sklearn.model_selection import train_test_split\n",
    "from sklearn.linear_model import LinearRegression\n",
    "# import pickle\n",
    "import requests\n",
    "import json\n",
    "\n",
    "dataset = pd.read_csv('Salary_Data.csv')\n",
    "X = dataset.iloc[:, :-1].values\n",
    "y = dataset.iloc[:, 1].values\n",
    "\n",
    "X_train, X_test, y_train, y_test = train_test_split(X, y, test_size = 0.33, random_state = 777)\n",
    "\n",
    "salary_model = LinearRegression()\n",
    "salary_model.fit(X_train, y_train)\n",
    "\n",
    "y_pred = salary_model.predict(X_test)\n",
    "\n",
    "# pickle.dump(salary_model, open('model/salary_model.pkl','wb'))"
   ]
  },
  {
   "cell_type": "code",
   "execution_count": 7,
   "id": "c9727871",
   "metadata": {
    "ExecuteTime": {
     "end_time": "2021-08-27T22:07:37.490395Z",
     "start_time": "2021-08-27T22:07:37.483306Z"
    }
   },
   "outputs": [
    {
     "name": "stdout",
     "output_type": "stream",
     "text": [
      "43002.38816217249\n",
      "[43002.38816217]\n"
     ]
    }
   ],
   "source": [
    "\n",
    "# data = request.get_json(force=True)\n",
    "# prediction = model.predict([[1.8]])\n",
    "prediction = salary_model.predict([[1.8]])\n",
    "output = prediction[0]\n",
    "print(output)\n",
    "\n",
    "print(prediction)"
   ]
  }
 ],
 "metadata": {
  "kernelspec": {
   "display_name": "Python 3",
   "language": "python",
   "name": "python3"
  },
  "language_info": {
   "codemirror_mode": {
    "name": "ipython",
    "version": 3
   },
   "file_extension": ".py",
   "mimetype": "text/x-python",
   "name": "python",
   "nbconvert_exporter": "python",
   "pygments_lexer": "ipython3",
   "version": "3.6.5"
  }
 },
 "nbformat": 4,
 "nbformat_minor": 5
}
