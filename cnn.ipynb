{
 "cells": [
  {
   "cell_type": "code",
   "execution_count": 1,
   "id": "7a246f61",
   "metadata": {
    "ExecuteTime": {
     "end_time": "2021-08-27T21:17:12.187492Z",
     "start_time": "2021-08-27T21:17:07.904075Z"
    }
   },
   "outputs": [],
   "source": [
    "import tensorflow as tf\n",
    "from tensorflow.keras.preprocessing.sequence import pad_sequences\n",
    "from tensorflow.keras.callbacks import EarlyStopping, ModelCheckpoint\n",
    "from tensorflow.keras import layers\n",
    "\n",
    "import numpy as np\n",
    "import pandas as pd\n",
    "import matplotlib.pyplot as plt\n",
    "import os\n",
    "import json\n",
    "\n",
    "from tqdm import tqdm\n",
    "\n",
    "# import TextController"
   ]
  },
  {
   "cell_type": "code",
   "execution_count": 2,
   "id": "9352d9ba",
   "metadata": {
    "ExecuteTime": {
     "end_time": "2021-08-27T21:17:12.418563Z",
     "start_time": "2021-08-27T21:17:12.189424Z"
    }
   },
   "outputs": [],
   "source": [
    "DATA_IN_PATH = './data_in/'\n",
    "DATA_OUT_PATH = './data_out'\n",
    "TRAIN_INPUT_DATA = 'train_input.npy'\n",
    "TRAIN_LABEL_DATA = 'train_label.npy'\n",
    "TEST_INPUT_DATA = 'test_input.npy'\n",
    "TEST_LABEL_DATA = 'test_label.npy'\n",
    "SAVE_FILE_NM = 'weights.h5'\n",
    "DATA_CONFIGS = 'data_configs.json'\n",
    "\n",
    "trainInputs = np.load(open(DATA_IN_PATH + TRAIN_INPUT_DATA, 'rb'))\n",
    "trainInputs = pad_sequences(trainInputs, maxlen=trainInputs.shape[1])\n",
    "trainLabel = np.load(open(DATA_IN_PATH + TRAIN_LABEL_DATA, 'rb'))\n",
    "preproConfigs = json.load(open(DATA_IN_PATH + DATA_CONFIGS, 'r'))\n",
    "\n",
    "# print(trainInputs)\n",
    "# print(preproConfigs)"
   ]
  },
  {
   "cell_type": "code",
   "execution_count": 3,
   "id": "94b70dea",
   "metadata": {
    "ExecuteTime": {
     "end_time": "2021-08-27T21:17:12.425289Z",
     "start_time": "2021-08-27T21:17:12.420907Z"
    }
   },
   "outputs": [],
   "source": [
    "modelName = 'cnn_classifier_kr'\n",
    "BATCH_SIZE = 512\n",
    "NUM_EPOCHS = 2\n",
    "VALID_SPLIT = 0.1\n",
    "MAX_LEN = trainInputs.shape[1]\n",
    "\n",
    "kargs = {'model_name':modelName,\n",
    "        'vocab_size':preproConfigs['vocab_size'],\n",
    "        'embedding_size':128,\n",
    "        'num_filters':100,\n",
    "        'dropout_rate':0.5,\n",
    "        'hidden_dimension':250,\n",
    "        'output_dimension':1}"
   ]
  },
  {
   "cell_type": "code",
   "execution_count": 4,
   "id": "74a7194f",
   "metadata": {
    "ExecuteTime": {
     "end_time": "2021-08-27T21:17:12.439449Z",
     "start_time": "2021-08-27T21:17:12.428096Z"
    }
   },
   "outputs": [],
   "source": [
    "class CNNClassifier(tf.keras.Model):\n",
    "    def __init__(self, **kargs):\n",
    "        super(CNNClassifier, self).__init__(name=kargs['model_name'])\n",
    "        self.embedding = layers.Embedding(input_dim=kargs['vocab_size'], output_dim=kargs['embedding_size'])\n",
    "        self.conv_list = [layers.Conv1D(filters=kargs['num_filters'],\n",
    "                                       kernel_size=kernel_size,\n",
    "                                       padding='valid',\n",
    "                                       activation = tf.keras.activations.relu,\n",
    "                                       kernel_constraint=tf.keras.constraints.MaxNorm(max_value=3.)) for kernel_size in [3,4,5]]\n",
    "        self.pooling = layers.GlobalMaxPool1D()\n",
    "        self.dropout = layers.Dropout(kargs['dropout_rate'])\n",
    "        self.fc1 = layers.Dense(units=kargs['hidden_dimension'],\n",
    "                               activation=tf.keras.activations.relu,\n",
    "                               kernel_constraint=tf.keras.constraints.MaxNorm(max_value=3.))\n",
    "        self.fc2 = layers.Dense(units=kargs['output_dimension'],\n",
    "                                activation=tf.keras.activations.sigmoid,\n",
    "                                kernel_constraint=tf.keras.constraints.MaxNorm(max_value=3.))\n",
    "        \n",
    "    def call(self, x):\n",
    "        x = self.embedding(x)\n",
    "        x = self.dropout(x)\n",
    "        x = tf.concat([self.pooling(conv(x)) for conv in self.conv_list], axis = -1)\n",
    "        x = self.fc1(x)\n",
    "        x = self.fc2(x)\n",
    "        \n",
    "        return x"
   ]
  },
  {
   "cell_type": "code",
   "execution_count": 5,
   "id": "1d5e78bd",
   "metadata": {
    "ExecuteTime": {
     "end_time": "2021-08-27T21:17:12.535119Z",
     "start_time": "2021-08-27T21:17:12.441489Z"
    }
   },
   "outputs": [],
   "source": [
    "model = CNNClassifier(**kargs)\n",
    "model.compile(optimizer = tf.keras.optimizers.Adam(),\n",
    "             loss=tf.keras.losses.BinaryCrossentropy(),\n",
    "             metrics = [tf.keras.metrics.BinaryAccuracy(name='accuracy')])\n"
   ]
  },
  {
   "cell_type": "code",
   "execution_count": 6,
   "id": "60d26c4c",
   "metadata": {
    "ExecuteTime": {
     "end_time": "2021-08-27T21:18:12.282140Z",
     "start_time": "2021-08-27T21:17:12.536909Z"
    }
   },
   "outputs": [
    {
     "name": "stdout",
     "output_type": "stream",
     "text": [
      "경로 있음\n",
      "Epoch 1/2\n",
      "46/46 [==============================] - 30s 639ms/step - loss: -9.3784 - accuracy: 0.9300 - val_loss: -39.3607 - val_accuracy: 0.9300\n",
      "\n",
      "Epoch 00001: val_accuracy improved from -inf to 0.93003, saving model to ./data_out/cnn_classifier_kr/weights.h5\n",
      "Epoch 2/2\n",
      "46/46 [==============================] - 29s 635ms/step - loss: -366.9983 - accuracy: 0.9301 - val_loss: -971.1414 - val_accuracy: 0.9300\n",
      "\n",
      "Epoch 00002: val_accuracy did not improve from 0.93003\n"
     ]
    }
   ],
   "source": [
    "earlystop_callback = EarlyStopping(monitor='val_accuracy', min_delta=0.0001, patience=2)\n",
    "\n",
    "checkpoint_path = DATA_OUT_PATH + '/' + modelName + '/weights.h5'\n",
    "checkpoint_dir = os.path.dirname(checkpoint_path)\n",
    "\n",
    "if os.path.exists(checkpoint_dir):\n",
    "    print('경로 있음')\n",
    "else:    \n",
    "    os.makedirs(checkpoint_dir, exist_ok=True)\n",
    "    print('경로 생성')\n",
    "    \n",
    "cp_callback = ModelCheckpoint(checkpoint_path, monitor='val_accuracy', verbose=1, save_best_only=True, save_weights_only=True)\n",
    "history = model.fit(trainInputs, trainLabel, batch_size=BATCH_SIZE, epochs=NUM_EPOCHS, validation_split=VALID_SPLIT, \n",
    "                    callbacks=[earlystop_callback, cp_callback])"
   ]
  },
  {
   "cell_type": "code",
   "execution_count": 7,
   "id": "b396f72b",
   "metadata": {
    "ExecuteTime": {
     "end_time": "2021-08-27T21:18:12.288916Z",
     "start_time": "2021-08-27T21:18:12.284419Z"
    }
   },
   "outputs": [],
   "source": [
    "def plot_graphs(history, string):\n",
    "    plt.plot(history.history[string])\n",
    "    plt.plot(history.history['val_'+string], '')\n",
    "    plt.xlabel(\"Epochs\")\n",
    "    plt.ylabel(string)\n",
    "    plt.legend([string, 'val_'+string])\n",
    "    plt.show()"
   ]
  },
  {
   "cell_type": "code",
   "execution_count": 8,
   "id": "da8e4e41",
   "metadata": {
    "ExecuteTime": {
     "end_time": "2021-08-27T21:18:12.458897Z",
     "start_time": "2021-08-27T21:18:12.294455Z"
    }
   },
   "outputs": [
    {
     "data": {
      "image/png": "[encoded data removed]",
      "text/plain": [
       "<Figure size 432x288 with 1 Axes>"
      ]
     },
     "metadata": {
      "needs_background": "light"
     },
     "output_type": "display_data"
    }
   ],
   "source": [
    "plot_graphs(history, 'loss')"
   ]
  },
  {
   "cell_type": "code",
   "execution_count": 9,
   "id": "c53e2e0c",
   "metadata": {
    "ExecuteTime": {
     "end_time": "2021-08-27T21:18:12.607327Z",
     "start_time": "2021-08-27T21:18:12.461806Z"
    }
   },
   "outputs": [
    {
     "data": {
      "image/png": "[encoded data removed]",
      "text/plain": [
       "<Figure size 432x288 with 1 Axes>"
      ]
     },
     "metadata": {
      "needs_background": "light"
     },
     "output_type": "display_data"
    }
   ],
   "source": [
    "plot_graphs(history, 'accuracy')"
   ]
  },
  {
   "cell_type": "code",
   "execution_count": 10,
   "id": "c0e0b9f0",
   "metadata": {
    "ExecuteTime": {
     "end_time": "2021-08-27T21:18:15.615085Z",
     "start_time": "2021-08-27T21:18:12.609595Z"
    }
   },
   "outputs": [
    {
     "name": "stdout",
     "output_type": "stream",
     "text": [
      "347/347 [==============================] - 3s 8ms/step - loss: -41.2023 - accuracy: 0.9297\n"
     ]
    },
    {
     "data": {
      "text/plain": [
       "[-41.202293395996094, 0.9297184944152832]"
      ]
     },
     "execution_count": 10,
     "metadata": {},
     "output_type": "execute_result"
    }
   ],
   "source": [
    "testInput = np.load(open(DATA_IN_PATH + TEST_INPUT_DATA, 'rb'))\n",
    "testInput = pad_sequences(testInput, maxlen=testInput.shape[1])\n",
    "testLabelData = np.load(open(DATA_IN_PATH + TEST_LABEL_DATA, 'rb'))\n",
    "\n",
    "model.load_weights(os.path.join(DATA_OUT_PATH, modelName, SAVE_FILE_NM))\n",
    "model.evaluate(testInput, testLabelData)\n",
    "# model.evaluate(testInput.iloc[3], testLabelData.iloc[3])"
   ]
  },
  {
   "cell_type": "code",
   "execution_count": 11,
   "id": "2853346c",
   "metadata": {
    "ExecuteTime": {
     "end_time": "2021-08-27T21:18:15.620868Z",
     "start_time": "2021-08-27T21:18:15.616943Z"
    }
   },
   "outputs": [
    {
     "name": "stdout",
     "output_type": "stream",
     "text": [
      "[  849    69   124   205    75    92    99   256    16  1108     7  1050\n",
      "     8    71     1   592   335  1182    76    81    18   105   971    11\n",
      "    36   107    92    99   256  1484  1108  2895     6    71     1    92\n",
      "    99   256   390     7    92   352  1572  1108  2766   899  1034     6\n",
      "    71     1    17  5971  2038  2145    16  2293    16  2298 36492   113\n",
      "   154   656    53    22    15     1     0     0     0     0     0     0\n",
      "     0     0     0     0     0     0     0     0     0     0     0     0\n",
      "     0     0     0     0     0     0     0     0     0     0     0     0\n",
      "     0     0     0     0]\n"
     ]
    }
   ],
   "source": [
    "# model.evaluate(testInput[3], testLabelData[3])\n",
    "print(testInput[3])\n",
    "# model.predict(testInput[3])"
   ]
  },
  {
   "cell_type": "code",
   "execution_count": 12,
   "id": "fcd2ec1e",
   "metadata": {
    "ExecuteTime": {
     "end_time": "2021-08-27T21:18:15.631393Z",
     "start_time": "2021-08-27T21:18:15.623040Z"
    }
   },
   "outputs": [
    {
     "name": "stdout",
     "output_type": "stream",
     "text": [
      "[[  403     7   237 ...  6678    28     1]\n",
      " [  364   209  1852 ...     1   133     1]\n",
      " [  979   862   870 ...     0     0     0]\n",
      " ...\n",
      " [ 2129  1755 17005 ...     0     0     0]\n",
      " [  281   247    77 ...   943   155    72]\n",
      " [   41     6   255 ...     0     0     0]]\n"
     ]
    }
   ],
   "source": [
    "print(trainInputs)"
   ]
  },
  {
   "cell_type": "code",
   "execution_count": 30,
   "id": "4e3e0f03",
   "metadata": {
    "ExecuteTime": {
     "end_time": "2021-08-27T21:37:07.498148Z",
     "start_time": "2021-08-27T21:37:07.478178Z"
    },
    "scrolled": false
   },
   "outputs": [
    {
     "name": "stdout",
     "output_type": "stream",
     "text": [
      "야호\n"
     ]
    },
    {
     "ename": "AttributeError",
     "evalue": "'CNNClassifier' object has no attribute 'predict_classes'",
     "output_type": "error",
     "traceback": [
      "\u001b[0;31m---------------------------------------------------------------------------\u001b[0m",
      "\u001b[0;31mAttributeError\u001b[0m                            Traceback (most recent call last)",
      "\u001b[0;32m<ipython-input-30-6d66e6ebfd6f>\u001b[0m in \u001b[0;36m<module>\u001b[0;34m\u001b[0m\n\u001b[1;32m     13\u001b[0m \u001b[0;34m\u001b[0m\u001b[0m\n\u001b[1;32m     14\u001b[0m \u001b[0;34m\u001b[0m\u001b[0m\n\u001b[0;32m---> 15\u001b[0;31m \u001b[0mY_pred\u001b[0m \u001b[0;34m=\u001b[0m \u001b[0mmodel\u001b[0m\u001b[0;34m.\u001b[0m\u001b[0mpredict_classes\u001b[0m\u001b[0;34m(\u001b[0m\u001b[0mX_test\u001b[0m\u001b[0;34m)\u001b[0m\u001b[0;34m\u001b[0m\u001b[0m\n\u001b[0m\u001b[1;32m     16\u001b[0m \u001b[0mprint\u001b[0m\u001b[0;34m(\u001b[0m\u001b[0mY_pred\u001b[0m\u001b[0;34m)\u001b[0m\u001b[0;34m\u001b[0m\u001b[0m\n\u001b[1;32m     17\u001b[0m \u001b[0;34m\u001b[0m\u001b[0m\n",
      "\u001b[0;31mAttributeError\u001b[0m: 'CNNClassifier' object has no attribute 'predict_classes'"
     ]
    }
   ],
   "source": [
    "from sklearn.metrics import accuracy_score\n",
    "\n",
    "\n",
    "print('야호')\n",
    "#구매글\n",
    "\n",
    "# token = textToToken('\\uc544\\ub514\\ub2e4\\uc2a4 \\uc6b8\\ud2b8\\ub77c\\ubd80\\uc2a4\\ud2b8 \\uad6c\\uc785\\ud569\\ub2c8\\ub2e4.\\n280 \\uc0ac\\uc774\\uc988 \\uc81c\\ud488\\uc73c\\ub85c \\uad6c\\uc785\\ud569\\ub2c8\\ub2e4\\n\\n\\ucca8 \\uc811\\ud574\\ubcf4\\ub294 \\uc6b8\\ud2b8\\ub77c\\ubd80\\uc2a4\\ud2b8 \\uc785\\ub2c8\\ub2e4\\n\\ud639\\uc2dc \\ubc29\\uce58\\uc911\\uc778 \\uc81c\\ud488 \\uc788\\uc73c\\uba74 \\uad6c\\uc785\\ud569\\ub2c8\\ub2e4\\n7-8\\ub9cc\\uc6d0 \\uad6c\\uc785 \\uac00\\ub2a5\\ud569\\ub2c8\\ub2e4~^^\"')\n",
    "\n",
    "\n",
    "#판매글\n",
    "# token = textToToken('\\uc544\\uc774\\ud3f0 se 1\\uc138\\ub300 32g \\uc2a4\\uadf8 (\\ucee8\\ud2b8\\ub9ac\\ub77d, \\uce74\\uba54\\ub77c \\ubb34\\uc74c)\\n\\n\\ucd5c\\uc2e0 \\ud5e4\\uc774\\uc2ec \\ud3ec\\ud568\\ud574\\uc11c \\ub4dc\\ub9bd\\ub2c8\\ub2e4. \\uc624\\ub298\\uae4c\\uc9c0\\ub3c4 \\ud65c\\uc131\\ud654 \\ubb38\\uc81c \\uc5c6\\ub124\\uc694.\\n\\uc0ac\\uc6a9\\ubc95 \\uc544\\uc2dc\\ub294\\ubd84\\uc774 \\uad6c\\ub9e4\\ud558\\uc168\\uc73c\\uba74 \\uc88b\\uaca0\\uc2b5\\ub2c8\\ub2e4.\\n\\ubc30\\ud130\\ub9ac \\uc131\\ub2a5 87%, \\ub4e4\\ub738 \\uc5c6\\uc74c, \\uc9c0\\ubb38\\uc778\\uc2dd \\uc591\\ud638, \\uc0ac\\uc124\\uc218\\ub9ac\\uc774\\ub825 \\uc5c6\\uc74c\\n\\ube48\\ubc15\\uc2a4, sword pro \\uc54c\\ub8e8\\ubbf8\\ub284 \\ubc94\\ud37c, \\ud22c\\uba85\\ucf00\\uc774\\uc2a4, \\uc561\\ubcf4 3\\uc7a5 \\uad6c\\uc131\\n\\n\\ubb34\\ubcf4\\uc815 \\uc0c1\\uc138\\uc0ac\\uc9c4\\nhttps://www.dropbox.com/sh/ukafjbzyab5p13p/AADzOArcCDtRNoTKBnJ-6ffMa?dl=0')\n",
    "\n",
    " \n",
    "\n",
    "Y_pred = model.predict_classes(X_test)\n",
    "print(Y_pred)\n",
    "\n",
    "# print(token)\n",
    "# print(token)\n",
    "# print(type(token))\n",
    "# print(TextController.test())\n",
    "\n",
    "print('asd')\n",
    "\n",
    "# tokenNpArray = np.asarray(token)\n",
    "# print(tokenNpArray)\n",
    "# print(testInput[2])\n",
    "# print(token[0])\n",
    "# prediction = model.predict(token[0])\n",
    "prediction = model.predict(testInput)\n",
    "print(type(prediction))\n",
    "print(prediction)\n",
    "print(prediction[0])\n",
    "print('ddd')\n",
    "# data = request.get_json(force=True)\n",
    "# prediction = model.predict([[np.array(data['exp'])]])\n",
    "# output = prediction[0]\n",
    "\n"
   ]
  },
  {
   "cell_type": "code",
   "execution_count": 14,
   "id": "7a46d3f0",
   "metadata": {
    "ExecuteTime": {
     "end_time": "2021-08-27T21:27:00.233461Z",
     "start_time": "2021-08-27T21:26:59.615765Z"
    }
   },
   "outputs": [
    {
     "name": "stdout",
     "output_type": "stream",
     "text": [
      "아디다스 울트라부스트 구입합니다.\n",
      "280 사이즈 제품으로 구입합니다\n",
      "\n",
      "첨 접해보는 울트라부스트 입니다\n",
      "혹시 방치중인 제품 있으면 구입합니다\n",
      "7-8만원 구입 가능합니다~^^\"\n",
      "96\n",
      "[0, 826, 72, 221, 0, 1384, 862, 216, 602, 221, 862, 0, 37, 1456, 1563, 155, 72, 0, 0, 20, 89, 676, 0, 79, 0, 632, 0, 61, 129, 7212, 14, 0, 37, 1456, 1563, 155, 72, 0, 0, 8160, 0, 4853, 504, 0, 0, 0, 1384, 862, 216, 602, 221, 862, 0, 1456, 155, 72, 0, 1060, 36, 0, 1199, 1775, 93, 121, 0, 61, 129, 0, 0, 7212, 62, 0, 37, 1456, 1563, 155, 72, 0, 124, 0, 89, 47, 304, 0, 37, 1456, 0, 0, 7605, 1563, 155, 72, 0, 0, 0, 0]\n",
      "[[   0  826   72  221    0 1384  862  216  602  221  862    0   37 1456\n",
      "  1563  155   72    0    0   20   89  676    0   79    0  632    0   61\n",
      "   129 7212   14    0   37 1456 1563  155   72    0    0 8160    0 4853\n",
      "   504    0    0    0 1384  862  216  602  221  862    0 1456  155   72\n",
      "     0 1060   36    0 1199 1775   93  121    0   61  129    0    0 7212\n",
      "    62    0   37 1456 1563  155   72    0  124    0   89   47  304    0\n",
      "    37 1456    0    0 7605 1563  155   72    0    0    0    0    0    0\n",
      "     0    0]]\n"
     ]
    }
   ],
   "source": [
    "from konlpy.tag import Okt\n",
    "from tensorflow.python.keras.preprocessing.sequence import pad_sequences\n",
    "from tensorflow.python.keras.preprocessing.text import Tokenizer\n",
    "\n",
    "\n",
    "\n",
    "DATA_IN_PATH = './data_in/'\n",
    "DATA_CONFIGS = 'data_configs.json'\n",
    "\n",
    "okt=Okt()\n",
    "stopWords = ['은', '는', '이', '가', '하', '아', '것', '들', '의', '있', '되', '수', '보', '주', '등', '한']\n",
    "preproConfigs = json.load(open(DATA_IN_PATH + DATA_CONFIGS, 'r'))\n",
    "\n",
    "#기존에 학습할떄 사용한 토큰용 사전을 입력한다\n",
    "tokenizer = Tokenizer()\n",
    "tokenizer.word_index = preproConfigs['vocab']\n",
    "\n",
    "\n",
    "\n",
    "# In[30]:\n",
    "\n",
    "\n",
    "def textToToken(text):\n",
    "    print(text)\n",
    "    tokenizerArray = tokenizer.texts_to_sequences(text)\n",
    "    tempArray = []\n",
    "#     tempArray2 = np.array([])\n",
    "    for temp in tokenizerArray:\n",
    "        if len(temp) == 1:\n",
    "#             print(temp[0])\n",
    "            tempArray.append(temp[0])\n",
    "    \n",
    "        else:\n",
    "            tempArray.append(0)\n",
    "    print(len(tempArray))            \n",
    "    print(tempArray)\n",
    "#     tempArray2 = np.array(tempArray, dtype=int)\n",
    "#     tempArray2 = np.array(tempArray, dtype=str)\n",
    "#     tempArray2 = np.array(tempArray)\n",
    "#     print(tempArray2)\n",
    "    trainInputs = pad_sequences([tempArray], maxlen=100, padding='post')\n",
    "#     trainInputs = pad_sequences(trainSequences, maxlen=MAX_SEQUENCE_LENGTH, padding='post')\n",
    "    return trainInputs\n",
    "\n",
    "#구매글\n",
    "\n",
    "token = textToToken('\\uc544\\ub514\\ub2e4\\uc2a4 \\uc6b8\\ud2b8\\ub77c\\ubd80\\uc2a4\\ud2b8 \\uad6c\\uc785\\ud569\\ub2c8\\ub2e4.\\n280 \\uc0ac\\uc774\\uc988 \\uc81c\\ud488\\uc73c\\ub85c \\uad6c\\uc785\\ud569\\ub2c8\\ub2e4\\n\\n\\ucca8 \\uc811\\ud574\\ubcf4\\ub294 \\uc6b8\\ud2b8\\ub77c\\ubd80\\uc2a4\\ud2b8 \\uc785\\ub2c8\\ub2e4\\n\\ud639\\uc2dc \\ubc29\\uce58\\uc911\\uc778 \\uc81c\\ud488 \\uc788\\uc73c\\uba74 \\uad6c\\uc785\\ud569\\ub2c8\\ub2e4\\n7-8\\ub9cc\\uc6d0 \\uad6c\\uc785 \\uac00\\ub2a5\\ud569\\ub2c8\\ub2e4~^^\"')\n",
    "\n",
    "#판매 글\n",
    "# token = textToToken('\\uc544\\uc774\\ud3f0 se 1\\uc138\\ub300 32g \\uc2a4\\uadf8 (\\ucee8\\ud2b8\\ub9ac\\ub77d, \\uce74\\uba54\\ub77c \\ubb34\\uc74c)\\n\\n\\ucd5c\\uc2e0 \\ud5e4\\uc774\\uc2ec \\ud3ec\\ud568\\ud574\\uc11c \\ub4dc\\ub9bd\\ub2c8\\ub2e4. \\uc624\\ub298\\uae4c\\uc9c0\\ub3c4 \\ud65c\\uc131\\ud654 \\ubb38\\uc81c \\uc5c6\\ub124\\uc694.\\n\\uc0ac\\uc6a9\\ubc95 \\uc544\\uc2dc\\ub294\\ubd84\\uc774 \\uad6c\\ub9e4\\ud558\\uc168\\uc73c\\uba74 \\uc88b\\uaca0\\uc2b5\\ub2c8\\ub2e4.\\n\\ubc30\\ud130\\ub9ac \\uc131\\ub2a5 87%, \\ub4e4\\ub738 \\uc5c6\\uc74c, \\uc9c0\\ubb38\\uc778\\uc2dd \\uc591\\ud638, \\uc0ac\\uc124\\uc218\\ub9ac\\uc774\\ub825 \\uc5c6\\uc74c\\n\\ube48\\ubc15\\uc2a4, sword pro \\uc54c\\ub8e8\\ubbf8\\ub284 \\ubc94\\ud37c, \\ud22c\\uba85\\ucf00\\uc774\\uc2a4, \\uc561\\ubcf4 3\\uc7a5 \\uad6c\\uc131\\n\\n\\ubb34\\ubcf4\\uc815 \\uc0c1\\uc138\\uc0ac\\uc9c4\\nhttps://www.dropbox.com/sh/ukafjbzyab5p13p/AADzOArcCDtRNoTKBnJ-6ffMa?dl=0')\n",
    "print(token)"
   ]
  },
  {
   "cell_type": "code",
   "execution_count": null,
   "id": "75ac99a0",
   "metadata": {},
   "outputs": [],
   "source": []
  },
  {
   "cell_type": "code",
   "execution_count": null,
   "id": "64e0d2a8",
   "metadata": {},
   "outputs": [],
   "source": []
  },
  {
   "cell_type": "code",
   "execution_count": null,
   "id": "9180f250",
   "metadata": {},
   "outputs": [],
   "source": []
  },
  {
   "cell_type": "code",
   "execution_count": null,
   "id": "f6c7a60e",
   "metadata": {},
   "outputs": [],
   "source": []
  },
  {
   "cell_type": "code",
   "execution_count": null,
   "id": "06506ada",
   "metadata": {},
   "outputs": [],
   "source": []
  }
 ],
 "metadata": {
  "kernelspec": {
   "display_name": "Python 3",
   "language": "python",
   "name": "python3"
  },
  "language_info": {
   "codemirror_mode": {
    "name": "ipython",
    "version": 3
   },
   "file_extension": ".py",
   "mimetype": "text/x-python",
   "name": "python",
   "nbconvert_exporter": "python",
   "pygments_lexer": "ipython3",
   "version": "3.6.5"
  }
 },
 "nbformat": 4,
 "nbformat_minor": 5
}
