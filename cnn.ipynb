{
 "cells": [
  {
   "cell_type": "code",
   "execution_count": 16,
   "id": "7a246f61",
   "metadata": {
    "ExecuteTime": {
     "end_time": "2021-08-26T18:54:12.059260Z",
     "start_time": "2021-08-26T18:54:12.055219Z"
    }
   },
   "outputs": [],
   "source": [
    "import tensorflow as tf\n",
    "from tensorflow.keras.preprocessing.sequence import pad_sequences\n",
    "from tensorflow.keras.callbacks import EarlyStopping, ModelCheckpoint\n",
    "from tensorflow.keras import layers\n",
    "\n",
    "import numpy as np\n",
    "import pandas as pd\n",
    "import matplotlib.pyplot as plt\n",
    "import os\n",
    "import json\n",
    "\n",
    "from tqdm import tqdm\n",
    "\n",
    "# import TextController"
   ]
  },
  {
   "cell_type": "code",
   "execution_count": 2,
   "id": "9352d9ba",
   "metadata": {
    "ExecuteTime": {
     "end_time": "2021-08-26T18:48:34.640865Z",
     "start_time": "2021-08-26T18:48:34.503795Z"
    }
   },
   "outputs": [],
   "source": [
    "DATA_IN_PATH = './data_in/'\n",
    "DATA_OUT_PATH = './data_out'\n",
    "TRAIN_INPUT_DATA = 'train_input.npy'\n",
    "TRAIN_LABEL_DATA = 'train_label.npy'\n",
    "TEST_INPUT_DATA = 'test_input.npy'\n",
    "TEST_LABEL_DATA = 'test_label.npy'\n",
    "SAVE_FILE_NM = 'weights.h5'\n",
    "DATA_CONFIGS = 'data_configs.json'\n",
    "\n",
    "trainInputs = np.load(open(DATA_IN_PATH + TRAIN_INPUT_DATA, 'rb'))\n",
    "trainInputs = pad_sequences(trainInputs, maxlen=trainInputs.shape[1])\n",
    "trainLabel = np.load(open(DATA_IN_PATH + TRAIN_LABEL_DATA, 'rb'))\n",
    "preproConfigs = json.load(open(DATA_IN_PATH + DATA_CONFIGS, 'r'))\n",
    "\n",
    "# print(trainInputs)\n",
    "# print(preproConfigs)"
   ]
  },
  {
   "cell_type": "code",
   "execution_count": 3,
   "id": "94b70dea",
   "metadata": {
    "ExecuteTime": {
     "end_time": "2021-08-26T18:48:34.647443Z",
     "start_time": "2021-08-26T18:48:34.643017Z"
    }
   },
   "outputs": [],
   "source": [
    "modelName = 'cnn_classifier_kr'\n",
    "BATCH_SIZE = 512\n",
    "NUM_EPOCHS = 2\n",
    "VALID_SPLIT = 0.1\n",
    "MAX_LEN = trainInputs.shape[1]\n",
    "\n",
    "kargs = {'model_name':modelName,\n",
    "        'vocab_size':preproConfigs['vocab_size'],\n",
    "        'embedding_size':128,\n",
    "        'num_filters':100,\n",
    "        'dropout_rate':0.5,\n",
    "        'hidden_dimension':250,\n",
    "        'output_dimension':1}"
   ]
  },
  {
   "cell_type": "code",
   "execution_count": 4,
   "id": "74a7194f",
   "metadata": {
    "ExecuteTime": {
     "end_time": "2021-08-26T18:48:34.662980Z",
     "start_time": "2021-08-26T18:48:34.650044Z"
    }
   },
   "outputs": [],
   "source": [
    "class CNNClassifier(tf.keras.Model):\n",
    "    def __init__(self, **kargs):\n",
    "        super(CNNClassifier, self).__init__(name=kargs['model_name'])\n",
    "        self.embedding = layers.Embedding(input_dim=kargs['vocab_size'], output_dim=kargs['embedding_size'])\n",
    "        self.conv_list = [layers.Conv1D(filters=kargs['num_filters'],\n",
    "                                       kernel_size=kernel_size,\n",
    "                                       padding='valid',\n",
    "                                       activation = tf.keras.activations.relu,\n",
    "                                       kernel_constraint=tf.keras.constraints.MaxNorm(max_value=3.)) for kernel_size in [3,4,5]]\n",
    "        self.pooling = layers.GlobalMaxPool1D()\n",
    "        self.dropout = layers.Dropout(kargs['dropout_rate'])\n",
    "        self.fc1 = layers.Dense(units=kargs['hidden_dimension'],\n",
    "                               activation=tf.keras.activations.relu,\n",
    "                               kernel_constraint=tf.keras.constraints.MaxNorm(max_value=3.))\n",
    "        self.fc2 = layers.Dense(units=kargs['output_dimension'],\n",
    "                                activation=tf.keras.activations.sigmoid,\n",
    "                                kernel_constraint=tf.keras.constraints.MaxNorm(max_value=3.))\n",
    "        \n",
    "    def call(self, x):\n",
    "        x = self.embedding(x)\n",
    "        x = self.dropout(x)\n",
    "        x = tf.concat([self.pooling(conv(x)) for conv in self.conv_list], axis = -1)\n",
    "        x = self.fc1(x)\n",
    "        x = self.fc2(x)\n",
    "        \n",
    "        return x"
   ]
  },
  {
   "cell_type": "code",
   "execution_count": 5,
   "id": "1d5e78bd",
   "metadata": {
    "ExecuteTime": {
     "end_time": "2021-08-26T18:48:34.752351Z",
     "start_time": "2021-08-26T18:48:34.665783Z"
    }
   },
   "outputs": [],
   "source": [
    "model = CNNClassifier(**kargs)\n",
    "model.compile(optimizer = tf.keras.optimizers.Adam(),\n",
    "             loss=tf.keras.losses.BinaryCrossentropy(),\n",
    "             metrics = [tf.keras.metrics.BinaryAccuracy(name='accuracy')])\n"
   ]
  },
  {
   "cell_type": "code",
   "execution_count": 6,
   "id": "60d26c4c",
   "metadata": {
    "ExecuteTime": {
     "end_time": "2021-08-26T18:49:28.160327Z",
     "start_time": "2021-08-26T18:48:34.754429Z"
    }
   },
   "outputs": [
    {
     "name": "stdout",
     "output_type": "stream",
     "text": [
      "경로 있음\n",
      "Epoch 1/2\n",
      "46/46 [==============================] - 27s 567ms/step - loss: -9.0136 - accuracy: 0.9301 - val_loss: -40.3008 - val_accuracy: 0.9300\n",
      "\n",
      "Epoch 00001: val_accuracy improved from -inf to 0.93003, saving model to ./data_out/cnn_classifier_kr/weights.h5\n",
      "Epoch 2/2\n",
      "46/46 [==============================] - 26s 558ms/step - loss: -369.8923 - accuracy: 0.9301 - val_loss: -978.6764 - val_accuracy: 0.9300\n",
      "\n",
      "Epoch 00002: val_accuracy did not improve from 0.93003\n"
     ]
    }
   ],
   "source": [
    "earlystop_callback = EarlyStopping(monitor='val_accuracy', min_delta=0.0001, patience=2)\n",
    "\n",
    "checkpoint_path = DATA_OUT_PATH + '/' + modelName + '/weights.h5'\n",
    "checkpoint_dir = os.path.dirname(checkpoint_path)\n",
    "\n",
    "if os.path.exists(checkpoint_dir):\n",
    "    print('경로 있음')\n",
    "else:    \n",
    "    os.makedirs(checkpoint_dir, exist_ok=True)\n",
    "    print('경로 생성')\n",
    "    \n",
    "cp_callback = ModelCheckpoint(checkpoint_path, monitor='val_accuracy', verbose=1, save_best_only=True, save_weights_only=True)\n",
    "history = model.fit(trainInputs, trainLabel, batch_size=BATCH_SIZE, epochs=NUM_EPOCHS, validation_split=VALID_SPLIT, \n",
    "                    callbacks=[earlystop_callback, cp_callback])"
   ]
  },
  {
   "cell_type": "code",
   "execution_count": 7,
   "id": "b396f72b",
   "metadata": {
    "ExecuteTime": {
     "end_time": "2021-08-26T18:49:28.172748Z",
     "start_time": "2021-08-26T18:49:28.163086Z"
    }
   },
   "outputs": [],
   "source": [
    "def plot_graphs(history, string):\n",
    "    plt.plot(history.history[string])\n",
    "    plt.plot(history.history['val_'+string], '')\n",
    "    plt.xlabel(\"Epochs\")\n",
    "    plt.ylabel(string)\n",
    "    plt.legend([string, 'val_'+string])\n",
    "    plt.show()"
   ]
  },
  {
   "cell_type": "code",
   "execution_count": 8,
   "id": "da8e4e41",
   "metadata": {
    "ExecuteTime": {
     "end_time": "2021-08-26T18:49:28.376756Z",
     "start_time": "2021-08-26T18:49:28.192468Z"
    }
   },
   "outputs": [
    {
     "data": {
      "image/png": "[encoded data removed]",
      "text/plain": [
       "<Figure size 432x288 with 1 Axes>"
      ]
     },
     "metadata": {
      "needs_background": "light"
     },
     "output_type": "display_data"
    }
   ],
   "source": [
    "plot_graphs(history, 'loss')"
   ]
  },
  {
   "cell_type": "code",
   "execution_count": 9,
   "id": "c53e2e0c",
   "metadata": {
    "ExecuteTime": {
     "end_time": "2021-08-26T18:49:28.548643Z",
     "start_time": "2021-08-26T18:49:28.379737Z"
    }
   },
   "outputs": [
    {
     "data": {
      "image/png": "[encoded data removed]",
      "text/plain": [
       "<Figure size 432x288 with 1 Axes>"
      ]
     },
     "metadata": {
      "needs_background": "light"
     },
     "output_type": "display_data"
    }
   ],
   "source": [
    "plot_graphs(history, 'accuracy')"
   ]
  },
  {
   "cell_type": "code",
   "execution_count": 96,
   "id": "c0e0b9f0",
   "metadata": {
    "ExecuteTime": {
     "end_time": "2021-08-26T19:39:48.593855Z",
     "start_time": "2021-08-26T19:39:45.851598Z"
    }
   },
   "outputs": [
    {
     "name": "stdout",
     "output_type": "stream",
     "text": [
      "347/347 [==============================] - 2s 7ms/step - loss: -42.1647 - accuracy: 0.9297\n"
     ]
    },
    {
     "data": {
      "text/plain": [
       "[-42.16466522216797, 0.9297184944152832]"
      ]
     },
     "execution_count": 96,
     "metadata": {},
     "output_type": "execute_result"
    }
   ],
   "source": [
    "testInput = np.load(open(DATA_IN_PATH + TEST_INPUT_DATA, 'rb'))\n",
    "testInput = pad_sequences(testInput, maxlen=testInput.shape[1])\n",
    "testLabelData = np.load(open(DATA_IN_PATH + TEST_LABEL_DATA, 'rb'))\n",
    "\n",
    "model.load_weights(os.path.join(DATA_OUT_PATH, modelName, SAVE_FILE_NM))\n",
    "model.evaluate(testInput, testLabelData)\n",
    "# model.evaluate(testInput.iloc[3], testLabelData.iloc[3])"
   ]
  },
  {
   "cell_type": "code",
   "execution_count": 101,
   "id": "3c4ef646",
   "metadata": {
    "ExecuteTime": {
     "end_time": "2021-08-26T19:41:19.098790Z",
     "start_time": "2021-08-26T19:41:19.018214Z"
    }
   },
   "outputs": [
    {
     "ename": "ValueError",
     "evalue": "in user code:\n\n    /home/lotco/anaconda3/envs/36/lib/python3.6/site-packages/keras/engine/training.py:1586 predict_function  *\n        return step_function(self, iterator)\n    <ipython-input-4-ed59b2839fe4>:22 call  *\n        x = tf.concat([self.pooling(conv(x)) for conv in self.conv_list], axis = -1)\n    /home/lotco/anaconda3/envs/36/lib/python3.6/site-packages/keras/engine/base_layer.py:1037 __call__  **\n        outputs = call_fn(inputs, *args, **kwargs)\n    /home/lotco/anaconda3/envs/36/lib/python3.6/site-packages/keras/layers/convolutional.py:249 call\n        outputs = self._convolution_op(inputs, self.kernel)\n    /home/lotco/anaconda3/envs/36/lib/python3.6/site-packages/tensorflow/python/util/dispatch.py:206 wrapper\n        return target(*args, **kwargs)\n    /home/lotco/anaconda3/envs/36/lib/python3.6/site-packages/tensorflow/python/ops/nn_ops.py:1138 convolution_v2\n        name=name)\n    /home/lotco/anaconda3/envs/36/lib/python3.6/site-packages/tensorflow/python/ops/nn_ops.py:1268 convolution_internal\n        name=name)\n    /home/lotco/anaconda3/envs/36/lib/python3.6/site-packages/tensorflow/python/util/dispatch.py:206 wrapper\n        return target(*args, **kwargs)\n    /home/lotco/anaconda3/envs/36/lib/python3.6/site-packages/tensorflow/python/util/deprecation.py:617 new_func\n        return func(*args, **kwargs)\n    /home/lotco/anaconda3/envs/36/lib/python3.6/site-packages/tensorflow/python/util/deprecation.py:617 new_func\n        return func(*args, **kwargs)\n    /home/lotco/anaconda3/envs/36/lib/python3.6/site-packages/tensorflow/python/ops/nn_ops.py:2011 conv1d\n        name=name)\n    /home/lotco/anaconda3/envs/36/lib/python3.6/site-packages/tensorflow/python/ops/gen_nn_ops.py:973 conv2d\n        data_format=data_format, dilations=dilations, name=name)\n    /home/lotco/anaconda3/envs/36/lib/python3.6/site-packages/tensorflow/python/framework/op_def_library.py:750 _apply_op_helper\n        attrs=attr_protos, op_def=op_def)\n    /home/lotco/anaconda3/envs/36/lib/python3.6/site-packages/tensorflow/python/framework/func_graph.py:601 _create_op_internal\n        compute_device)\n    /home/lotco/anaconda3/envs/36/lib/python3.6/site-packages/tensorflow/python/framework/ops.py:3569 _create_op_internal\n        op_def=op_def)\n    /home/lotco/anaconda3/envs/36/lib/python3.6/site-packages/tensorflow/python/framework/ops.py:2042 __init__\n        control_input_ops, op_def)\n    /home/lotco/anaconda3/envs/36/lib/python3.6/site-packages/tensorflow/python/framework/ops.py:1883 _create_c_op\n        raise ValueError(str(e))\n\n    ValueError: Negative dimension size caused by subtracting 3 from 1 for '{{node cnn_classifier_kr/conv1d/conv1d}} = Conv2D[T=DT_FLOAT, data_format=\"NHWC\", dilations=[1, 1, 1, 1], explicit_paddings=[], padding=\"VALID\", strides=[1, 1, 1, 1], use_cudnn_on_gpu=true](cnn_classifier_kr/conv1d/conv1d/ExpandDims, cnn_classifier_kr/conv1d/conv1d/ExpandDims_1)' with input shapes: [?,1,1,128], [1,3,128,100].\n",
     "output_type": "error",
     "traceback": [
      "\u001b[0;31m---------------------------------------------------------------------------\u001b[0m",
      "\u001b[0;31mValueError\u001b[0m                                Traceback (most recent call last)",
      "\u001b[0;32m<ipython-input-101-d874cb417fee>\u001b[0m in \u001b[0;36m<module>\u001b[0;34m\u001b[0m\n\u001b[1;32m      1\u001b[0m \u001b[0;31m# model.evaluate(testInput[3], testLabelData[3])\u001b[0m\u001b[0;34m\u001b[0m\u001b[0;34m\u001b[0m\u001b[0m\n\u001b[0;32m----> 2\u001b[0;31m \u001b[0mmodel\u001b[0m\u001b[0;34m.\u001b[0m\u001b[0mpredict\u001b[0m\u001b[0;34m(\u001b[0m\u001b[0mtestInput\u001b[0m\u001b[0;34m[\u001b[0m\u001b[0;36m3\u001b[0m\u001b[0;34m]\u001b[0m\u001b[0;34m)\u001b[0m\u001b[0;34m\u001b[0m\u001b[0m\n\u001b[0m",
      "\u001b[0;32m~/anaconda3/envs/36/lib/python3.6/site-packages/keras/engine/training.py\u001b[0m in \u001b[0;36mpredict\u001b[0;34m(self, x, batch_size, verbose, steps, callbacks, max_queue_size, workers, use_multiprocessing)\u001b[0m\n\u001b[1;32m   1749\u001b[0m           \u001b[0;32mfor\u001b[0m \u001b[0mstep\u001b[0m \u001b[0;32min\u001b[0m \u001b[0mdata_handler\u001b[0m\u001b[0;34m.\u001b[0m\u001b[0msteps\u001b[0m\u001b[0;34m(\u001b[0m\u001b[0;34m)\u001b[0m\u001b[0;34m:\u001b[0m\u001b[0;34m\u001b[0m\u001b[0m\n\u001b[1;32m   1750\u001b[0m             \u001b[0mcallbacks\u001b[0m\u001b[0;34m.\u001b[0m\u001b[0mon_predict_batch_begin\u001b[0m\u001b[0;34m(\u001b[0m\u001b[0mstep\u001b[0m\u001b[0;34m)\u001b[0m\u001b[0;34m\u001b[0m\u001b[0m\n\u001b[0;32m-> 1751\u001b[0;31m             \u001b[0mtmp_batch_outputs\u001b[0m \u001b[0;34m=\u001b[0m \u001b[0mself\u001b[0m\u001b[0;34m.\u001b[0m\u001b[0mpredict_function\u001b[0m\u001b[0;34m(\u001b[0m\u001b[0miterator\u001b[0m\u001b[0;34m)\u001b[0m\u001b[0;34m\u001b[0m\u001b[0m\n\u001b[0m\u001b[1;32m   1752\u001b[0m             \u001b[0;32mif\u001b[0m \u001b[0mdata_handler\u001b[0m\u001b[0;34m.\u001b[0m\u001b[0mshould_sync\u001b[0m\u001b[0;34m:\u001b[0m\u001b[0;34m\u001b[0m\u001b[0m\n\u001b[1;32m   1753\u001b[0m               \u001b[0mcontext\u001b[0m\u001b[0;34m.\u001b[0m\u001b[0masync_wait\u001b[0m\u001b[0;34m(\u001b[0m\u001b[0;34m)\u001b[0m\u001b[0;34m\u001b[0m\u001b[0m\n",
      "\u001b[0;32m~/anaconda3/envs/36/lib/python3.6/site-packages/tensorflow/python/eager/def_function.py\u001b[0m in \u001b[0;36m__call__\u001b[0;34m(self, *args, **kwds)\u001b[0m\n\u001b[1;32m    883\u001b[0m \u001b[0;34m\u001b[0m\u001b[0m\n\u001b[1;32m    884\u001b[0m       \u001b[0;32mwith\u001b[0m \u001b[0mOptionalXlaContext\u001b[0m\u001b[0;34m(\u001b[0m\u001b[0mself\u001b[0m\u001b[0;34m.\u001b[0m\u001b[0m_jit_compile\u001b[0m\u001b[0;34m)\u001b[0m\u001b[0;34m:\u001b[0m\u001b[0;34m\u001b[0m\u001b[0m\n\u001b[0;32m--> 885\u001b[0;31m         \u001b[0mresult\u001b[0m \u001b[0;34m=\u001b[0m \u001b[0mself\u001b[0m\u001b[0;34m.\u001b[0m\u001b[0m_call\u001b[0m\u001b[0;34m(\u001b[0m\u001b[0;34m*\u001b[0m\u001b[0margs\u001b[0m\u001b[0;34m,\u001b[0m \u001b[0;34m**\u001b[0m\u001b[0mkwds\u001b[0m\u001b[0;34m)\u001b[0m\u001b[0;34m\u001b[0m\u001b[0m\n\u001b[0m\u001b[1;32m    886\u001b[0m \u001b[0;34m\u001b[0m\u001b[0m\n\u001b[1;32m    887\u001b[0m       \u001b[0mnew_tracing_count\u001b[0m \u001b[0;34m=\u001b[0m \u001b[0mself\u001b[0m\u001b[0;34m.\u001b[0m\u001b[0mexperimental_get_tracing_count\u001b[0m\u001b[0;34m(\u001b[0m\u001b[0;34m)\u001b[0m\u001b[0;34m\u001b[0m\u001b[0m\n",
      "\u001b[0;32m~/anaconda3/envs/36/lib/python3.6/site-packages/tensorflow/python/eager/def_function.py\u001b[0m in \u001b[0;36m_call\u001b[0;34m(self, *args, **kwds)\u001b[0m\n\u001b[1;32m    922\u001b[0m       \u001b[0;31m# In this case we have not created variables on the first call. So we can\u001b[0m\u001b[0;34m\u001b[0m\u001b[0;34m\u001b[0m\u001b[0m\n\u001b[1;32m    923\u001b[0m       \u001b[0;31m# run the first trace but we should fail if variables are created.\u001b[0m\u001b[0;34m\u001b[0m\u001b[0;34m\u001b[0m\u001b[0m\n\u001b[0;32m--> 924\u001b[0;31m       \u001b[0mresults\u001b[0m \u001b[0;34m=\u001b[0m \u001b[0mself\u001b[0m\u001b[0;34m.\u001b[0m\u001b[0m_stateful_fn\u001b[0m\u001b[0;34m(\u001b[0m\u001b[0;34m*\u001b[0m\u001b[0margs\u001b[0m\u001b[0;34m,\u001b[0m \u001b[0;34m**\u001b[0m\u001b[0mkwds\u001b[0m\u001b[0;34m)\u001b[0m\u001b[0;34m\u001b[0m\u001b[0m\n\u001b[0m\u001b[1;32m    925\u001b[0m       \u001b[0;32mif\u001b[0m \u001b[0mself\u001b[0m\u001b[0;34m.\u001b[0m\u001b[0m_created_variables\u001b[0m \u001b[0;32mand\u001b[0m \u001b[0;32mnot\u001b[0m \u001b[0mALLOW_DYNAMIC_VARIABLE_CREATION\u001b[0m\u001b[0;34m:\u001b[0m\u001b[0;34m\u001b[0m\u001b[0m\n\u001b[1;32m    926\u001b[0m         raise ValueError(\"Creating variables on a non-first call to a function\"\n",
      "\u001b[0;32m~/anaconda3/envs/36/lib/python3.6/site-packages/tensorflow/python/eager/function.py\u001b[0m in \u001b[0;36m__call__\u001b[0;34m(self, *args, **kwargs)\u001b[0m\n\u001b[1;32m   3036\u001b[0m     \u001b[0;32mwith\u001b[0m \u001b[0mself\u001b[0m\u001b[0;34m.\u001b[0m\u001b[0m_lock\u001b[0m\u001b[0;34m:\u001b[0m\u001b[0;34m\u001b[0m\u001b[0m\n\u001b[1;32m   3037\u001b[0m       (graph_function,\n\u001b[0;32m-> 3038\u001b[0;31m        filtered_flat_args) = self._maybe_define_function(args, kwargs)\n\u001b[0m\u001b[1;32m   3039\u001b[0m     return graph_function._call_flat(\n\u001b[1;32m   3040\u001b[0m         filtered_flat_args, captured_inputs=graph_function.captured_inputs)  # pylint: disable=protected-access\n",
      "\u001b[0;32m~/anaconda3/envs/36/lib/python3.6/site-packages/tensorflow/python/eager/function.py\u001b[0m in \u001b[0;36m_maybe_define_function\u001b[0;34m(self, args, kwargs)\u001b[0m\n\u001b[1;32m   3458\u001b[0m               call_context_key in self._function_cache.missed):\n\u001b[1;32m   3459\u001b[0m             return self._define_function_with_shape_relaxation(\n\u001b[0;32m-> 3460\u001b[0;31m                 args, kwargs, flat_args, filtered_flat_args, cache_key_context)\n\u001b[0m\u001b[1;32m   3461\u001b[0m \u001b[0;34m\u001b[0m\u001b[0m\n\u001b[1;32m   3462\u001b[0m           \u001b[0mself\u001b[0m\u001b[0;34m.\u001b[0m\u001b[0m_function_cache\u001b[0m\u001b[0;34m.\u001b[0m\u001b[0mmissed\u001b[0m\u001b[0;34m.\u001b[0m\u001b[0madd\u001b[0m\u001b[0;34m(\u001b[0m\u001b[0mcall_context_key\u001b[0m\u001b[0;34m)\u001b[0m\u001b[0;34m\u001b[0m\u001b[0m\n",
      "\u001b[0;32m~/anaconda3/envs/36/lib/python3.6/site-packages/tensorflow/python/eager/function.py\u001b[0m in \u001b[0;36m_define_function_with_shape_relaxation\u001b[0;34m(self, args, kwargs, flat_args, filtered_flat_args, cache_key_context)\u001b[0m\n\u001b[1;32m   3380\u001b[0m \u001b[0;34m\u001b[0m\u001b[0m\n\u001b[1;32m   3381\u001b[0m     graph_function = self._create_graph_function(\n\u001b[0;32m-> 3382\u001b[0;31m         args, kwargs, override_flat_arg_shapes=relaxed_arg_shapes)\n\u001b[0m\u001b[1;32m   3383\u001b[0m     \u001b[0mself\u001b[0m\u001b[0;34m.\u001b[0m\u001b[0m_function_cache\u001b[0m\u001b[0;34m.\u001b[0m\u001b[0marg_relaxed\u001b[0m\u001b[0;34m[\u001b[0m\u001b[0mrank_only_cache_key\u001b[0m\u001b[0;34m]\u001b[0m \u001b[0;34m=\u001b[0m \u001b[0mgraph_function\u001b[0m\u001b[0;34m\u001b[0m\u001b[0m\n\u001b[1;32m   3384\u001b[0m \u001b[0;34m\u001b[0m\u001b[0m\n",
      "\u001b[0;32m~/anaconda3/envs/36/lib/python3.6/site-packages/tensorflow/python/eager/function.py\u001b[0m in \u001b[0;36m_create_graph_function\u001b[0;34m(self, args, kwargs, override_flat_arg_shapes)\u001b[0m\n\u001b[1;32m   3306\u001b[0m             \u001b[0marg_names\u001b[0m\u001b[0;34m=\u001b[0m\u001b[0marg_names\u001b[0m\u001b[0;34m,\u001b[0m\u001b[0;34m\u001b[0m\u001b[0m\n\u001b[1;32m   3307\u001b[0m             \u001b[0moverride_flat_arg_shapes\u001b[0m\u001b[0;34m=\u001b[0m\u001b[0moverride_flat_arg_shapes\u001b[0m\u001b[0;34m,\u001b[0m\u001b[0;34m\u001b[0m\u001b[0m\n\u001b[0;32m-> 3308\u001b[0;31m             capture_by_value=self._capture_by_value),\n\u001b[0m\u001b[1;32m   3309\u001b[0m         \u001b[0mself\u001b[0m\u001b[0;34m.\u001b[0m\u001b[0m_function_attributes\u001b[0m\u001b[0;34m,\u001b[0m\u001b[0;34m\u001b[0m\u001b[0m\n\u001b[1;32m   3310\u001b[0m         \u001b[0mfunction_spec\u001b[0m\u001b[0;34m=\u001b[0m\u001b[0mself\u001b[0m\u001b[0;34m.\u001b[0m\u001b[0mfunction_spec\u001b[0m\u001b[0;34m,\u001b[0m\u001b[0;34m\u001b[0m\u001b[0m\n",
      "\u001b[0;32m~/anaconda3/envs/36/lib/python3.6/site-packages/tensorflow/python/framework/func_graph.py\u001b[0m in \u001b[0;36mfunc_graph_from_py_func\u001b[0;34m(name, python_func, args, kwargs, signature, func_graph, autograph, autograph_options, add_control_dependencies, arg_names, op_return_value, collections, capture_by_value, override_flat_arg_shapes, acd_record_initial_resource_uses)\u001b[0m\n\u001b[1;32m   1005\u001b[0m         \u001b[0m_\u001b[0m\u001b[0;34m,\u001b[0m \u001b[0moriginal_func\u001b[0m \u001b[0;34m=\u001b[0m \u001b[0mtf_decorator\u001b[0m\u001b[0;34m.\u001b[0m\u001b[0munwrap\u001b[0m\u001b[0;34m(\u001b[0m\u001b[0mpython_func\u001b[0m\u001b[0;34m)\u001b[0m\u001b[0;34m\u001b[0m\u001b[0m\n\u001b[1;32m   1006\u001b[0m \u001b[0;34m\u001b[0m\u001b[0m\n\u001b[0;32m-> 1007\u001b[0;31m       \u001b[0mfunc_outputs\u001b[0m \u001b[0;34m=\u001b[0m \u001b[0mpython_func\u001b[0m\u001b[0;34m(\u001b[0m\u001b[0;34m*\u001b[0m\u001b[0mfunc_args\u001b[0m\u001b[0;34m,\u001b[0m \u001b[0;34m**\u001b[0m\u001b[0mfunc_kwargs\u001b[0m\u001b[0;34m)\u001b[0m\u001b[0;34m\u001b[0m\u001b[0m\n\u001b[0m\u001b[1;32m   1008\u001b[0m \u001b[0;34m\u001b[0m\u001b[0m\n\u001b[1;32m   1009\u001b[0m       \u001b[0;31m# invariant: `func_outputs` contains only Tensors, CompositeTensors,\u001b[0m\u001b[0;34m\u001b[0m\u001b[0;34m\u001b[0m\u001b[0m\n",
      "\u001b[0;32m~/anaconda3/envs/36/lib/python3.6/site-packages/tensorflow/python/eager/def_function.py\u001b[0m in \u001b[0;36mwrapped_fn\u001b[0;34m(*args, **kwds)\u001b[0m\n\u001b[1;32m    666\u001b[0m         \u001b[0;31m# the function a weak reference to itself to avoid a reference cycle.\u001b[0m\u001b[0;34m\u001b[0m\u001b[0;34m\u001b[0m\u001b[0m\n\u001b[1;32m    667\u001b[0m         \u001b[0;32mwith\u001b[0m \u001b[0mOptionalXlaContext\u001b[0m\u001b[0;34m(\u001b[0m\u001b[0mcompile_with_xla\u001b[0m\u001b[0;34m)\u001b[0m\u001b[0;34m:\u001b[0m\u001b[0;34m\u001b[0m\u001b[0m\n\u001b[0;32m--> 668\u001b[0;31m           \u001b[0mout\u001b[0m \u001b[0;34m=\u001b[0m \u001b[0mweak_wrapped_fn\u001b[0m\u001b[0;34m(\u001b[0m\u001b[0;34m)\u001b[0m\u001b[0;34m.\u001b[0m\u001b[0m__wrapped__\u001b[0m\u001b[0;34m(\u001b[0m\u001b[0;34m*\u001b[0m\u001b[0margs\u001b[0m\u001b[0;34m,\u001b[0m \u001b[0;34m**\u001b[0m\u001b[0mkwds\u001b[0m\u001b[0;34m)\u001b[0m\u001b[0;34m\u001b[0m\u001b[0m\n\u001b[0m\u001b[1;32m    669\u001b[0m         \u001b[0;32mreturn\u001b[0m \u001b[0mout\u001b[0m\u001b[0;34m\u001b[0m\u001b[0m\n\u001b[1;32m    670\u001b[0m \u001b[0;34m\u001b[0m\u001b[0m\n",
      "\u001b[0;32m~/anaconda3/envs/36/lib/python3.6/site-packages/tensorflow/python/framework/func_graph.py\u001b[0m in \u001b[0;36mwrapper\u001b[0;34m(*args, **kwargs)\u001b[0m\n\u001b[1;32m    992\u001b[0m           \u001b[0;32mexcept\u001b[0m \u001b[0mException\u001b[0m \u001b[0;32mas\u001b[0m \u001b[0me\u001b[0m\u001b[0;34m:\u001b[0m  \u001b[0;31m# pylint:disable=broad-except\u001b[0m\u001b[0;34m\u001b[0m\u001b[0m\n\u001b[1;32m    993\u001b[0m             \u001b[0;32mif\u001b[0m \u001b[0mhasattr\u001b[0m\u001b[0;34m(\u001b[0m\u001b[0me\u001b[0m\u001b[0;34m,\u001b[0m \u001b[0;34m\"ag_error_metadata\"\u001b[0m\u001b[0;34m)\u001b[0m\u001b[0;34m:\u001b[0m\u001b[0;34m\u001b[0m\u001b[0m\n\u001b[0;32m--> 994\u001b[0;31m               \u001b[0;32mraise\u001b[0m \u001b[0me\u001b[0m\u001b[0;34m.\u001b[0m\u001b[0mag_error_metadata\u001b[0m\u001b[0;34m.\u001b[0m\u001b[0mto_exception\u001b[0m\u001b[0;34m(\u001b[0m\u001b[0me\u001b[0m\u001b[0;34m)\u001b[0m\u001b[0;34m\u001b[0m\u001b[0m\n\u001b[0m\u001b[1;32m    995\u001b[0m             \u001b[0;32melse\u001b[0m\u001b[0;34m:\u001b[0m\u001b[0;34m\u001b[0m\u001b[0m\n\u001b[1;32m    996\u001b[0m               \u001b[0;32mraise\u001b[0m\u001b[0;34m\u001b[0m\u001b[0m\n",
      "\u001b[0;31mValueError\u001b[0m: in user code:\n\n    /home/lotco/anaconda3/envs/36/lib/python3.6/site-packages/keras/engine/training.py:1586 predict_function  *\n        return step_function(self, iterator)\n    <ipython-input-4-ed59b2839fe4>:22 call  *\n        x = tf.concat([self.pooling(conv(x)) for conv in self.conv_list], axis = -1)\n    /home/lotco/anaconda3/envs/36/lib/python3.6/site-packages/keras/engine/base_layer.py:1037 __call__  **\n        outputs = call_fn(inputs, *args, **kwargs)\n    /home/lotco/anaconda3/envs/36/lib/python3.6/site-packages/keras/layers/convolutional.py:249 call\n        outputs = self._convolution_op(inputs, self.kernel)\n    /home/lotco/anaconda3/envs/36/lib/python3.6/site-packages/tensorflow/python/util/dispatch.py:206 wrapper\n        return target(*args, **kwargs)\n    /home/lotco/anaconda3/envs/36/lib/python3.6/site-packages/tensorflow/python/ops/nn_ops.py:1138 convolution_v2\n        name=name)\n    /home/lotco/anaconda3/envs/36/lib/python3.6/site-packages/tensorflow/python/ops/nn_ops.py:1268 convolution_internal\n        name=name)\n    /home/lotco/anaconda3/envs/36/lib/python3.6/site-packages/tensorflow/python/util/dispatch.py:206 wrapper\n        return target(*args, **kwargs)\n    /home/lotco/anaconda3/envs/36/lib/python3.6/site-packages/tensorflow/python/util/deprecation.py:617 new_func\n        return func(*args, **kwargs)\n    /home/lotco/anaconda3/envs/36/lib/python3.6/site-packages/tensorflow/python/util/deprecation.py:617 new_func\n        return func(*args, **kwargs)\n    /home/lotco/anaconda3/envs/36/lib/python3.6/site-packages/tensorflow/python/ops/nn_ops.py:2011 conv1d\n        name=name)\n    /home/lotco/anaconda3/envs/36/lib/python3.6/site-packages/tensorflow/python/ops/gen_nn_ops.py:973 conv2d\n        data_format=data_format, dilations=dilations, name=name)\n    /home/lotco/anaconda3/envs/36/lib/python3.6/site-packages/tensorflow/python/framework/op_def_library.py:750 _apply_op_helper\n        attrs=attr_protos, op_def=op_def)\n    /home/lotco/anaconda3/envs/36/lib/python3.6/site-packages/tensorflow/python/framework/func_graph.py:601 _create_op_internal\n        compute_device)\n    /home/lotco/anaconda3/envs/36/lib/python3.6/site-packages/tensorflow/python/framework/ops.py:3569 _create_op_internal\n        op_def=op_def)\n    /home/lotco/anaconda3/envs/36/lib/python3.6/site-packages/tensorflow/python/framework/ops.py:2042 __init__\n        control_input_ops, op_def)\n    /home/lotco/anaconda3/envs/36/lib/python3.6/site-packages/tensorflow/python/framework/ops.py:1883 _create_c_op\n        raise ValueError(str(e))\n\n    ValueError: Negative dimension size caused by subtracting 3 from 1 for '{{node cnn_classifier_kr/conv1d/conv1d}} = Conv2D[T=DT_FLOAT, data_format=\"NHWC\", dilations=[1, 1, 1, 1], explicit_paddings=[], padding=\"VALID\", strides=[1, 1, 1, 1], use_cudnn_on_gpu=true](cnn_classifier_kr/conv1d/conv1d/ExpandDims, cnn_classifier_kr/conv1d/conv1d/ExpandDims_1)' with input shapes: [?,1,1,128], [1,3,128,100].\n"
     ]
    }
   ],
   "source": [
    "# model.evaluate(testInput[3], testLabelData[3])\n",
    "model.predict(testInput[3])"
   ]
  },
  {
   "cell_type": "code",
   "execution_count": 14,
   "id": "03b300fd",
   "metadata": {
    "ExecuteTime": {
     "end_time": "2021-08-26T18:52:04.031349Z",
     "start_time": "2021-08-26T18:52:04.026388Z"
    }
   },
   "outputs": [
    {
     "name": "stdout",
     "output_type": "stream",
     "text": [
      "[[  403     7   237 ...  6678    28     1]\n",
      " [  364   209  1852 ...     1   133     1]\n",
      " [  979   862   870 ...     0     0     0]\n",
      " ...\n",
      " [ 2129  1755 17005 ...     0     0     0]\n",
      " [  281   247    77 ...   943   155    72]\n",
      " [   41     6   255 ...     0     0     0]]\n"
     ]
    }
   ],
   "source": [
    "print(trainInputs)"
   ]
  },
  {
   "cell_type": "code",
   "execution_count": 94,
   "id": "4e3e0f03",
   "metadata": {
    "ExecuteTime": {
     "end_time": "2021-08-26T19:37:14.581428Z",
     "start_time": "2021-08-26T19:37:14.525050Z"
    },
    "scrolled": false
   },
   "outputs": [
    {
     "name": "stdout",
     "output_type": "stream",
     "text": [
      "야호\n",
      "아디다스 울트라부스트 구입합니다.\n",
      "280 사이즈 제품으로 구입합니다\n",
      "\n",
      "첨 접해보는 울트라부스트 입니다\n",
      "혹시 방치중인 제품 있으면 구입합니다\n",
      "7-8만원 구입 가능합니다~^^\"\n",
      "96\n",
      "[0, 826, 72, 221, 0, 1384, 862, 216, 602, 221, 862, 0, 37, 1456, 1563, 155, 72, 0, 0, 20, 89, 676, 0, 79, 0, 632, 0, 61, 129, 7212, 14, 0, 37, 1456, 1563, 155, 72, 0, 0, 8160, 0, 4853, 504, 0, 0, 0, 1384, 862, 216, 602, 221, 862, 0, 1456, 155, 72, 0, 1060, 36, 0, 1199, 1775, 93, 121, 0, 61, 129, 0, 0, 7212, 62, 0, 37, 1456, 1563, 155, 72, 0, 124, 0, 89, 47, 304, 0, 37, 1456, 0, 0, 7605, 1563, 155, 72, 0, 0, 0, 0]\n",
      "asd\n",
      "<class 'numpy.ndarray'>\n",
      "[[1.]]\n",
      "[1.]\n",
      "ddd\n"
     ]
    }
   ],
   "source": [
    "print('야호')\n",
    "#구매글\n",
    "\n",
    "token = textToToken('\\uc544\\ub514\\ub2e4\\uc2a4 \\uc6b8\\ud2b8\\ub77c\\ubd80\\uc2a4\\ud2b8 \\uad6c\\uc785\\ud569\\ub2c8\\ub2e4.\\n280 \\uc0ac\\uc774\\uc988 \\uc81c\\ud488\\uc73c\\ub85c \\uad6c\\uc785\\ud569\\ub2c8\\ub2e4\\n\\n\\ucca8 \\uc811\\ud574\\ubcf4\\ub294 \\uc6b8\\ud2b8\\ub77c\\ubd80\\uc2a4\\ud2b8 \\uc785\\ub2c8\\ub2e4\\n\\ud639\\uc2dc \\ubc29\\uce58\\uc911\\uc778 \\uc81c\\ud488 \\uc788\\uc73c\\uba74 \\uad6c\\uc785\\ud569\\ub2c8\\ub2e4\\n7-8\\ub9cc\\uc6d0 \\uad6c\\uc785 \\uac00\\ub2a5\\ud569\\ub2c8\\ub2e4~^^\"')\n",
    "\n",
    "\n",
    "#판매글\n",
    "# token = textToToken('\\uc544\\uc774\\ud3f0 se 1\\uc138\\ub300 32g \\uc2a4\\uadf8 (\\ucee8\\ud2b8\\ub9ac\\ub77d, \\uce74\\uba54\\ub77c \\ubb34\\uc74c)\\n\\n\\ucd5c\\uc2e0 \\ud5e4\\uc774\\uc2ec \\ud3ec\\ud568\\ud574\\uc11c \\ub4dc\\ub9bd\\ub2c8\\ub2e4. \\uc624\\ub298\\uae4c\\uc9c0\\ub3c4 \\ud65c\\uc131\\ud654 \\ubb38\\uc81c \\uc5c6\\ub124\\uc694.\\n\\uc0ac\\uc6a9\\ubc95 \\uc544\\uc2dc\\ub294\\ubd84\\uc774 \\uad6c\\ub9e4\\ud558\\uc168\\uc73c\\uba74 \\uc88b\\uaca0\\uc2b5\\ub2c8\\ub2e4.\\n\\ubc30\\ud130\\ub9ac \\uc131\\ub2a5 87%, \\ub4e4\\ub738 \\uc5c6\\uc74c, \\uc9c0\\ubb38\\uc778\\uc2dd \\uc591\\ud638, \\uc0ac\\uc124\\uc218\\ub9ac\\uc774\\ub825 \\uc5c6\\uc74c\\n\\ube48\\ubc15\\uc2a4, sword pro \\uc54c\\ub8e8\\ubbf8\\ub284 \\ubc94\\ud37c, \\ud22c\\uba85\\ucf00\\uc774\\uc2a4, \\uc561\\ubcf4 3\\uc7a5 \\uad6c\\uc131\\n\\n\\ubb34\\ubcf4\\uc815 \\uc0c1\\uc138\\uc0ac\\uc9c4\\nhttps://www.dropbox.com/sh/ukafjbzyab5p13p/AADzOArcCDtRNoTKBnJ-6ffMa?dl=0')\n",
    "\n",
    "# print(token)\n",
    "# print(token)\n",
    "# print(type(token))\n",
    "# print(TextController.test())\n",
    "\n",
    "print('asd')\n",
    "\n",
    "# tokenNpArray = np.asarray(token)\n",
    "# print(tokenNpArray)\n",
    "\n",
    "prediction = model.predict(token)\n",
    "print(type(prediction))\n",
    "print(prediction)\n",
    "print(prediction[0])\n",
    "print('ddd')\n",
    "# data = request.get_json(force=True)\n",
    "# prediction = model.predict([[np.array(data['exp'])]])\n",
    "# output = prediction[0]\n",
    "\n"
   ]
  },
  {
   "cell_type": "code",
   "execution_count": 91,
   "id": "6a7f9d6c",
   "metadata": {
    "ExecuteTime": {
     "end_time": "2021-08-26T19:35:13.779247Z",
     "start_time": "2021-08-26T19:35:13.740463Z"
    }
   },
   "outputs": [
    {
     "name": "stdout",
     "output_type": "stream",
     "text": [
      "아디다스 울트라부스트 구입합니다.\n",
      "280 사이즈 제품으로 구입합니다\n",
      "\n",
      "첨 접해보는 울트라부스트 입니다\n",
      "혹시 방치중인 제품 있으면 구입합니다\n",
      "7-8만원 구입 가능합니다~^^\"\n",
      "96\n",
      "[0, 826, 72, 221, 0, 1384, 862, 216, 602, 221, 862, 0, 37, 1456, 1563, 155, 72, 0, 0, 20, 89, 676, 0, 79, 0, 632, 0, 61, 129, 7212, 14, 0, 37, 1456, 1563, 155, 72, 0, 0, 8160, 0, 4853, 504, 0, 0, 0, 1384, 862, 216, 602, 221, 862, 0, 1456, 155, 72, 0, 1060, 36, 0, 1199, 1775, 93, 121, 0, 61, 129, 0, 0, 7212, 62, 0, 37, 1456, 1563, 155, 72, 0, 124, 0, 89, 47, 304, 0, 37, 1456, 0, 0, 7605, 1563, 155, 72, 0, 0, 0, 0]\n",
      "[[   0  826   72  221    0 1384  862  216  602  221  862    0   37 1456\n",
      "  1563  155   72    0    0   20   89  676    0   79    0  632    0   61\n",
      "   129 7212   14    0   37 1456 1563  155   72    0    0 8160    0 4853\n",
      "   504    0    0    0 1384  862  216  602  221  862    0 1456  155   72\n",
      "     0 1060   36    0 1199 1775   93  121    0   61  129    0    0 7212\n",
      "    62    0   37 1456 1563  155   72    0  124    0   89   47  304    0\n",
      "    37 1456    0    0 7605 1563  155   72    0    0    0    0    0    0\n",
      "     0    0]]\n"
     ]
    }
   ],
   "source": [
    "from konlpy.tag import Okt\n",
    "from tensorflow.python.keras.preprocessing.sequence import pad_sequences\n",
    "from tensorflow.python.keras.preprocessing.text import Tokenizer\n",
    "\n",
    "\n",
    "\n",
    "DATA_IN_PATH = './data_in/'\n",
    "DATA_CONFIGS = 'data_configs.json'\n",
    "\n",
    "okt=Okt()\n",
    "stopWords = ['은', '는', '이', '가', '하', '아', '것', '들', '의', '있', '되', '수', '보', '주', '등', '한']\n",
    "preproConfigs = json.load(open(DATA_IN_PATH + DATA_CONFIGS, 'r'))\n",
    "\n",
    "#기존에 학습할떄 사용한 토큰용 사전을 입력한다\n",
    "tokenizer = Tokenizer()\n",
    "tokenizer.word_index = preproConfigs['vocab']\n",
    "\n",
    "\n",
    "\n",
    "# In[30]:\n",
    "\n",
    "\n",
    "def textToToken(text):\n",
    "    print(text)\n",
    "    tokenizerArray = tokenizer.texts_to_sequences(text)\n",
    "    tempArray = []\n",
    "#     tempArray2 = np.array([])\n",
    "    for temp in tokenizerArray:\n",
    "        if len(temp) == 1:\n",
    "#             print(temp[0])\n",
    "            tempArray.append(temp[0])\n",
    "    \n",
    "        else:\n",
    "            tempArray.append(0)\n",
    "    print(len(tempArray))            \n",
    "    print(tempArray)\n",
    "#     tempArray2 = np.array(tempArray, dtype=int)\n",
    "#     tempArray2 = np.array(tempArray, dtype=str)\n",
    "#     tempArray2 = np.array(tempArray)\n",
    "#     print(tempArray2)\n",
    "    trainInputs = pad_sequences([tempArray], maxlen=100, padding='post')\n",
    "#     trainInputs = pad_sequences(trainSequences, maxlen=MAX_SEQUENCE_LENGTH, padding='post')\n",
    "    return trainInputs\n",
    "\n",
    "#구매글\n",
    "\n",
    "token = textToToken('\\uc544\\ub514\\ub2e4\\uc2a4 \\uc6b8\\ud2b8\\ub77c\\ubd80\\uc2a4\\ud2b8 \\uad6c\\uc785\\ud569\\ub2c8\\ub2e4.\\n280 \\uc0ac\\uc774\\uc988 \\uc81c\\ud488\\uc73c\\ub85c \\uad6c\\uc785\\ud569\\ub2c8\\ub2e4\\n\\n\\ucca8 \\uc811\\ud574\\ubcf4\\ub294 \\uc6b8\\ud2b8\\ub77c\\ubd80\\uc2a4\\ud2b8 \\uc785\\ub2c8\\ub2e4\\n\\ud639\\uc2dc \\ubc29\\uce58\\uc911\\uc778 \\uc81c\\ud488 \\uc788\\uc73c\\uba74 \\uad6c\\uc785\\ud569\\ub2c8\\ub2e4\\n7-8\\ub9cc\\uc6d0 \\uad6c\\uc785 \\uac00\\ub2a5\\ud569\\ub2c8\\ub2e4~^^\"')\n",
    "\n",
    "#판매 글\n",
    "# token = textToToken('\\uc544\\uc774\\ud3f0 se 1\\uc138\\ub300 32g \\uc2a4\\uadf8 (\\ucee8\\ud2b8\\ub9ac\\ub77d, \\uce74\\uba54\\ub77c \\ubb34\\uc74c)\\n\\n\\ucd5c\\uc2e0 \\ud5e4\\uc774\\uc2ec \\ud3ec\\ud568\\ud574\\uc11c \\ub4dc\\ub9bd\\ub2c8\\ub2e4. \\uc624\\ub298\\uae4c\\uc9c0\\ub3c4 \\ud65c\\uc131\\ud654 \\ubb38\\uc81c \\uc5c6\\ub124\\uc694.\\n\\uc0ac\\uc6a9\\ubc95 \\uc544\\uc2dc\\ub294\\ubd84\\uc774 \\uad6c\\ub9e4\\ud558\\uc168\\uc73c\\uba74 \\uc88b\\uaca0\\uc2b5\\ub2c8\\ub2e4.\\n\\ubc30\\ud130\\ub9ac \\uc131\\ub2a5 87%, \\ub4e4\\ub738 \\uc5c6\\uc74c, \\uc9c0\\ubb38\\uc778\\uc2dd \\uc591\\ud638, \\uc0ac\\uc124\\uc218\\ub9ac\\uc774\\ub825 \\uc5c6\\uc74c\\n\\ube48\\ubc15\\uc2a4, sword pro \\uc54c\\ub8e8\\ubbf8\\ub284 \\ubc94\\ud37c, \\ud22c\\uba85\\ucf00\\uc774\\uc2a4, \\uc561\\ubcf4 3\\uc7a5 \\uad6c\\uc131\\n\\n\\ubb34\\ubcf4\\uc815 \\uc0c1\\uc138\\uc0ac\\uc9c4\\nhttps://www.dropbox.com/sh/ukafjbzyab5p13p/AADzOArcCDtRNoTKBnJ-6ffMa?dl=0')\n",
    "print(token)"
   ]
  },
  {
   "cell_type": "code",
   "execution_count": null,
   "id": "f8508b4b",
   "metadata": {},
   "outputs": [],
   "source": []
  },
  {
   "cell_type": "code",
   "execution_count": null,
   "id": "ca8f91de",
   "metadata": {},
   "outputs": [],
   "source": []
  },
  {
   "cell_type": "code",
   "execution_count": null,
   "id": "f89e79a1",
   "metadata": {},
   "outputs": [],
   "source": []
  },
  {
   "cell_type": "code",
   "execution_count": null,
   "id": "6a190974",
   "metadata": {},
   "outputs": [],
   "source": []
  },
  {
   "cell_type": "code",
   "execution_count": null,
   "id": "3bb08fce",
   "metadata": {},
   "outputs": [],
   "source": []
  }
 ],
 "metadata": {
  "kernelspec": {
   "display_name": "Python 3",
   "language": "python",
   "name": "python3"
  },
  "language_info": {
   "codemirror_mode": {
    "name": "ipython",
    "version": 3
   },
   "file_extension": ".py",
   "mimetype": "text/x-python",
   "name": "python",
   "nbconvert_exporter": "python",
   "pygments_lexer": "ipython3",
   "version": "3.6.5"
  }
 },
 "nbformat": 4,
 "nbformat_minor": 5
}
