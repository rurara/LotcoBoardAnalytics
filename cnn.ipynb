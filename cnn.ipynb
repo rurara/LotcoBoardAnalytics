{
 "cells": [
  {
   "cell_type": "code",
   "execution_count": 1,
   "id": "7a246f61",
   "metadata": {
    "ExecuteTime": {
     "end_time": "2021-08-25T18:16:02.121984Z",
     "start_time": "2021-08-25T18:15:56.724656Z"
    }
   },
   "outputs": [],
   "source": [
    "import tensorflow as tf\n",
    "from tensorflow.keras.preprocessing.sequence import pad_sequences\n",
    "from tensorflow.keras.callbacks import EarlyStopping, ModelCheckpoint\n",
    "from tensorflow.keras import layers\n",
    "\n",
    "import numpy as np\n",
    "import pandas as pd\n",
    "import matplotlib.pyplot as plt\n",
    "import os\n",
    "import json\n",
    "\n",
    "from tqdm import tqdm"
   ]
  },
  {
   "cell_type": "code",
   "execution_count": 2,
   "id": "9352d9ba",
   "metadata": {
    "ExecuteTime": {
     "end_time": "2021-08-25T18:16:02.192605Z",
     "start_time": "2021-08-25T18:16:02.124592Z"
    }
   },
   "outputs": [],
   "source": [
    "DATA_IN_PATH = './data_in/'\n",
    "DATA_OUT_PATH = './data_out'\n",
    "TRAIN_INPUT_DATA = 'train_input.npy'\n",
    "TRAIN_LABEL_DATA = 'train_label.npy'\n",
    "TEST_INPUT_DATA = 'test_input.npy'\n",
    "TEST_LABEL_DATA = 'test_label.npy'\n",
    "SAVE_FILE_NM = 'weights.h5'\n",
    "DATA_CONFIGS = 'data_configs.json'\n",
    "\n",
    "trainInputs = np.load(open(DATA_IN_PATH + TRAIN_INPUT_DATA, 'rb'))\n",
    "trainInputs = pad_sequences(trainInputs, maxlen=trainInputs.shape[1])\n",
    "trainLabel = np.load(open(DATA_IN_PATH + TRAIN_LABEL_DATA, 'rb'))\n",
    "preproConfigs = json.load(open(DATA_IN_PATH + DATA_CONFIGS, 'r'))\n",
    "\n",
    "# print(trainInputs)\n",
    "# print(preproConfigs)"
   ]
  },
  {
   "cell_type": "code",
   "execution_count": 3,
   "id": "94b70dea",
   "metadata": {
    "ExecuteTime": {
     "end_time": "2021-08-25T18:16:02.202094Z",
     "start_time": "2021-08-25T18:16:02.194757Z"
    }
   },
   "outputs": [],
   "source": [
    "modelName = 'cnn_classifier_kr'\n",
    "BATCH_SIZE = 512\n",
    "NUM_EPOCHS = 2\n",
    "VALID_SPLIT = 0.1\n",
    "MAX_LEN = trainInputs.shape[1]\n",
    "\n",
    "kargs = {'model_name':modelName,\n",
    "        'vocab_size':preproConfigs['vocab_size'],\n",
    "        'embedding_size':128,\n",
    "        'num_filters':100,\n",
    "        'dropout_rate':0.5,\n",
    "        'hidden_dimension':250,\n",
    "        'output_dimension':1}"
   ]
  },
  {
   "cell_type": "code",
   "execution_count": 4,
   "id": "74a7194f",
   "metadata": {
    "ExecuteTime": {
     "end_time": "2021-08-25T18:16:02.213851Z",
     "start_time": "2021-08-25T18:16:02.205337Z"
    }
   },
   "outputs": [],
   "source": [
    "class CNNClassifier(tf.keras.Model):\n",
    "    def __init__(self, **kargs):\n",
    "        super(CNNClassifier, self).__init__(name=kargs['model_name'])\n",
    "        self.embedding = layers.Embedding(input_dim=kargs['vocab_size'], output_dim=kargs['embedding_size'])\n",
    "        self.conv_list = [layers.Conv1D(filters=kargs['num_filters'],\n",
    "                                       kernel_size=kernel_size,\n",
    "                                       padding='valid',\n",
    "                                       activation = tf.keras.activations.relu,\n",
    "                                       kernel_constraint=tf.keras.constraints.MaxNorm(max_value=3.)) for kernel_size in [3,4,5]]\n",
    "        self.pooling = layers.GlobalMaxPool1D()\n",
    "        self.dropout = layers.Dropout(kargs['dropout_rate'])\n",
    "        self.fc1 = layers.Dense(units=kargs['hidden_dimension'],\n",
    "                               activation=tf.keras.activations.relu,\n",
    "                               kernel_constraint=tf.keras.constraints.MaxNorm(max_value=3.))\n",
    "        self.fc2 = layers.Dense(units=kargs['output_dimension'],\n",
    "                                activation=tf.keras.activations.sigmoid,\n",
    "                                kernel_constraint=tf.keras.constraints.MaxNorm(max_value=3.))\n",
    "        \n",
    "    def call(self, x):\n",
    "        x = self.embedding(x)\n",
    "        x = self.dropout(x)\n",
    "        x = tf.concat([self.pooling(conv(x)) for conv in self.conv_list], axis = -1)\n",
    "        x = self.fc1(x)\n",
    "        x = self.fc2(x)\n",
    "        \n",
    "        return x"
   ]
  },
  {
   "cell_type": "code",
   "execution_count": 5,
   "id": "1d5e78bd",
   "metadata": {
    "ExecuteTime": {
     "end_time": "2021-08-25T18:16:02.322449Z",
     "start_time": "2021-08-25T18:16:02.216445Z"
    }
   },
   "outputs": [],
   "source": [
    "model = CNNClassifier(**kargs)\n",
    "model.compile(optimizer = tf.keras.optimizers.Adam(),\n",
    "             loss=tf.keras.losses.BinaryCrossentropy(),\n",
    "             metrics = [tf.keras.metrics.BinaryAccuracy(name='accuracy')])\n"
   ]
  },
  {
   "cell_type": "code",
   "execution_count": 6,
   "id": "60d26c4c",
   "metadata": {
    "ExecuteTime": {
     "end_time": "2021-08-25T18:16:05.560450Z",
     "start_time": "2021-08-25T18:16:02.325190Z"
    }
   },
   "outputs": [
    {
     "name": "stdout",
     "output_type": "stream",
     "text": [
      "경로 있음\n",
      "Epoch 1/2\n",
      "2/2 [==============================] - 2s 464ms/step - loss: 0.6034 - accuracy: 0.8775 - val_loss: 0.4097 - val_accuracy: 0.9036\n",
      "\n",
      "Epoch 00001: val_accuracy improved from -inf to 0.90361, saving model to ./data_out/cnn_classifier_kr/weights.h5\n",
      "Epoch 2/2\n",
      "2/2 [==============================] - 1s 307ms/step - loss: 0.2260 - accuracy: 0.9152 - val_loss: 0.1833 - val_accuracy: 0.9036\n",
      "\n",
      "Epoch 00002: val_accuracy did not improve from 0.90361\n"
     ]
    }
   ],
   "source": [
    "earlystop_callback = EarlyStopping(monitor='val_accuracy', min_delta=0.0001, patience=2)\n",
    "\n",
    "checkpoint_path = DATA_OUT_PATH + '/' + modelName + '/weights.h5'\n",
    "checkpoint_dir = os.path.dirname(checkpoint_path)\n",
    "\n",
    "if os.path.exists(checkpoint_dir):\n",
    "    print('경로 있음')\n",
    "else:    \n",
    "    os.makedirs(checkpoint_dir, exist_ok=True)\n",
    "    print('경로 생성')\n",
    "    \n",
    "cp_callback = ModelCheckpoint(checkpoint_path, monitor='val_accuracy', verbose=1, save_best_only=True, save_weights_only=True)\n",
    "history = model.fit(trainInputs, trainLabel, batch_size=BATCH_SIZE, epochs=NUM_EPOCHS, validation_split=VALID_SPLIT, \n",
    "                    callbacks=[earlystop_callback, cp_callback])"
   ]
  },
  {
   "cell_type": "code",
   "execution_count": 7,
   "id": "b396f72b",
   "metadata": {
    "ExecuteTime": {
     "end_time": "2021-08-25T18:16:05.567466Z",
     "start_time": "2021-08-25T18:16:05.562861Z"
    }
   },
   "outputs": [],
   "source": [
    "def plot_graphs(history, string):\n",
    "    plt.plot(history.history[string])\n",
    "    plt.plot(history.history['val_'+string], '')\n",
    "    plt.xlabel(\"Epochs\")\n",
    "    plt.ylabel(string)\n",
    "    plt.legend([string, 'val_'+string])\n",
    "    plt.show()"
   ]
  },
  {
   "cell_type": "code",
   "execution_count": 8,
   "id": "da8e4e41",
   "metadata": {
    "ExecuteTime": {
     "end_time": "2021-08-25T18:16:05.762398Z",
     "start_time": "2021-08-25T18:16:05.571019Z"
    }
   },
   "outputs": [
    {
     "data": {
      "image/png": "[encoded data removed]",
      "text/plain": [
       "<Figure size 432x288 with 1 Axes>"
      ]
     },
     "metadata": {
      "needs_background": "light"
     },
     "output_type": "display_data"
    }
   ],
   "source": [
    "plot_graphs(history, 'loss')"
   ]
  },
  {
   "cell_type": "code",
   "execution_count": 9,
   "id": "c53e2e0c",
   "metadata": {
    "ExecuteTime": {
     "end_time": "2021-08-25T18:16:05.932913Z",
     "start_time": "2021-08-25T18:16:05.764503Z"
    }
   },
   "outputs": [
    {
     "data": {
      "image/png": "[encoded data removed]",
      "text/plain": [
       "<Figure size 432x288 with 1 Axes>"
      ]
     },
     "metadata": {
      "needs_background": "light"
     },
     "output_type": "display_data"
    }
   ],
   "source": [
    "plot_graphs(history, 'accuracy')"
   ]
  },
  {
   "cell_type": "code",
   "execution_count": 10,
   "id": "c0e0b9f0",
   "metadata": {
    "ExecuteTime": {
     "end_time": "2021-08-25T18:16:06.185993Z",
     "start_time": "2021-08-25T18:16:05.935513Z"
    }
   },
   "outputs": [
    {
     "name": "stdout",
     "output_type": "stream",
     "text": [
      "12/12 [==============================] - 0s 7ms/step - loss: 0.3929 - accuracy: 0.8901\n"
     ]
    },
    {
     "data": {
      "text/plain": [
       "[0.39291664958000183, 0.8901408314704895]"
      ]
     },
     "execution_count": 10,
     "metadata": {},
     "output_type": "execute_result"
    }
   ],
   "source": [
    "testInput = np.load(open(DATA_IN_PATH + TEST_INPUT_DATA, 'rb'))\n",
    "testInput = pad_sequences(testInput, maxlen=testInput.shape[1])\n",
    "testLabelData = np.load(open(DATA_IN_PATH + TEST_LABEL_DATA, 'rb'))\n",
    "\n",
    "model.load_weights(os.path.join(DATA_OUT_PATH, modelName, SAVE_FILE_NM))\n",
    "model.evaluate(testInput, testLabelData)"
   ]
  },
  {
   "cell_type": "code",
   "execution_count": 11,
   "id": "4e3e0f03",
   "metadata": {
    "ExecuteTime": {
     "end_time": "2021-08-25T18:16:06.193727Z",
     "start_time": "2021-08-25T18:16:06.188495Z"
    }
   },
   "outputs": [
    {
     "name": "stdout",
     "output_type": "stream",
     "text": [
      "야호\n"
     ]
    }
   ],
   "source": [
    "print('야호')\n",
    "\n",
    "data = request.get_json(force=True)\n",
    "prediction = model.predict([[np.array(data['exp'])]])\n",
    "output = prediction[0]\n"
   ]
  }
 ],
 "metadata": {
  "kernelspec": {
   "display_name": "Python 3",
   "language": "python",
   "name": "python3"
  },
  "language_info": {
   "codemirror_mode": {
    "name": "ipython",
    "version": 3
   },
   "file_extension": ".py",
   "mimetype": "text/x-python",
   "name": "python",
   "nbconvert_exporter": "python",
   "pygments_lexer": "ipython3",
   "version": "3.6.5"
  }
 },
 "nbformat": 4,
 "nbformat_minor": 5
}
