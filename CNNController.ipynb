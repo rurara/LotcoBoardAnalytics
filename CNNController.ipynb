{
 "cells": [
  {
   "cell_type": "code",
   "execution_count": 1,
   "id": "121dd098",
   "metadata": {
    "ExecuteTime": {
     "end_time": "2021-08-26T17:19:40.890398Z",
     "start_time": "2021-08-26T17:19:38.729297Z"
    }
   },
   "outputs": [
    {
     "name": "stdout",
     "output_type": "stream",
     "text": [
      "importing Jupyter notebook from TextController.ipynb\n"
     ]
    }
   ],
   "source": [
    "import import_ipynb\n",
    "import TextController"
   ]
  },
  {
   "cell_type": "code",
   "execution_count": 6,
   "id": "1e6480a8",
   "metadata": {
    "ExecuteTime": {
     "end_time": "2021-08-26T17:57:50.638013Z",
     "start_time": "2021-08-26T17:57:50.633525Z"
    }
   },
   "outputs": [
    {
     "name": "stdout",
     "output_type": "stream",
     "text": [
      "[[], [], [805], [], [80], [403], [], [20], [855], [209], [], [31], [17], [84], [], [259], [215], [], [], [4085], [1622], [741], [1775], [], [], [1541], [2947], [221], [], [284], [2879], [], [], [], [1009], [2059], [], [], [], [1687], [], [849], [1425], [801], [232], [], [5891], [], [131], [73], [], [], [1209], [6939], [], [266], [36], [], [2215], [618], [466], [], [608], [59], [], [], [123], [237], [], [], [96], [44], [], [], [], [41], [], [103], [], [], [42], [297], [], [], [], [49], [], [], [], [7465], [131], [73], [], [], [258], [1216], [741], [], [618], [], [], [116], [98], [], [], [], [], [], [], [], [2879], [], [], [266], [608], [151], [919], [], [1712], [2710], [], [], [96], [], [], [741], [], [1855], [], [], [2879], [], [4286], [2520], [259], [], [], [80], [143], [370], [733], [475], [], [763], [733], [370], [], [520], [6084], [], [], [], [], [], [], [], [842], [223], [], [], [259], [], [], [3511], [], [], [31], [128], [], [42], [618], [], [], [284], [], [3621], [], [167], [855], [96], [2854], [], [593], [496], [496], [763], [80], [], [], [], [143], [143], [143], [], [475], [733], [370], [763], [512], [370], [137], [], [133], [370], [105], [], [80], [593], [], [711], [153], [83], [402], [4087], [512], [2555], [3138], [83], [512], [69], [763], [20], [31], [763], [], [83], [83], [475], [2555], [370], [83], [733], [133], [133], [475], [496], [733], [536], [370], [496], [153], [512], [536], [4087], [], [66], [402], [402], [105], [83], [], [475], [531], [], [734]]\n"
     ]
    }
   ],
   "source": [
    "# token = TextController.textToToken('\\uc544\\uc774\\ud3f0 se 1\\uc138\\ub300 32g \\uc2a4\\uadf8 (\\ucee8\\ud2b8\\ub9ac\\ub77d, \\uce74\\uba54\\ub77c \\ubb34\\uc74c)\\n\\n\\ucd5c\\uc2e0 \\ud5e4\\uc774\\uc2ec \\ud3ec\\ud568\\ud574\\uc11c \\ub4dc\\ub9bd\\ub2c8\\ub2e4. \\uc624\\ub298\\uae4c\\uc9c0\\ub3c4 \\ud65c\\uc131\\ud654 \\ubb38\\uc81c \\uc5c6\\ub124\\uc694.\\n\\uc0ac\\uc6a9\\ubc95 \\uc544\\uc2dc\\ub294\\ubd84\\uc774 \\uad6c\\ub9e4\\ud558\\uc168\\uc73c\\uba74 \\uc88b\\uaca0\\uc2b5\\ub2c8\\ub2e4.\\n\\ubc30\\ud130\\ub9ac \\uc131\\ub2a5 87%, \\ub4e4\\ub738 \\uc5c6\\uc74c, \\uc9c0\\ubb38\\uc778\\uc2dd \\uc591\\ud638, \\uc0ac\\uc124\\uc218\\ub9ac\\uc774\\ub825 \\uc5c6\\uc74c\\n\\ube48\\ubc15\\uc2a4, sword pro \\uc54c\\ub8e8\\ubbf8\\ub284 \\ubc94\\ud37c, \\ud22c\\uba85\\ucf00\\uc774\\uc2a4, \\uc561\\ubcf4 3\\uc7a5 \\uad6c\\uc131\\n\\n\\ubb34\\ubcf4\\uc815 \\uc0c1\\uc138\\uc0ac\\uc9c4\\nhttps://www.dropbox.com/sh/ukafjbzyab5p13p/AADzOArcCDtRNoTKBnJ-6ffMa?dl=0')\n",
    "\n",
    "print(token)\n",
    "# TextController.test()"
   ]
  }
 ],
 "metadata": {
  "kernelspec": {
   "display_name": "Python 3",
   "language": "python",
   "name": "python3"
  },
  "language_info": {
   "codemirror_mode": {
    "name": "ipython",
    "version": 3
   },
   "file_extension": ".py",
   "mimetype": "text/x-python",
   "name": "python",
   "nbconvert_exporter": "python",
   "pygments_lexer": "ipython3",
   "version": "3.6.5"
  }
 },
 "nbformat": 4,
 "nbformat_minor": 5
}
