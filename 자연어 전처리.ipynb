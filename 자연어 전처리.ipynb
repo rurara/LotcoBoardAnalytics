{
 "cells": [
  {
   "cell_type": "code",
   "execution_count": 2,
   "id": "e6b3fb67",
   "metadata": {
    "ExecuteTime": {
     "end_time": "2021-08-26T17:26:16.438886Z",
     "start_time": "2021-08-26T17:26:14.169301Z"
    }
   },
   "outputs": [],
   "source": [
    "import os \n",
    "import json\n",
    "import pandas as pd \n",
    "import numpy as np\n",
    "from konlpy.tag import Okt\n",
    "from tensorflow.python.keras.preprocessing.sequence import pad_sequences\n",
    "from tensorflow.python.keras.preprocessing.text import Tokenizer\n",
    "from sklearn.model_selection import train_test_split\n",
    "import time"
   ]
  },
  {
   "cell_type": "code",
   "execution_count": 3,
   "id": "15a6d854",
   "metadata": {
    "ExecuteTime": {
     "end_time": "2021-08-26T17:26:16.445626Z",
     "start_time": "2021-08-26T17:26:16.440874Z"
    }
   },
   "outputs": [],
   "source": [
    "def categoryToTarget(text):\n",
    "    if text == \"판매\":\n",
    "        return 1\n",
    "    elif text == \"교환\":\n",
    "        return 2\n",
    "    elif text == \"구입\":\n",
    "        return 3\n",
    "    elif text == \"거래완료\":\n",
    "        return 4\n",
    "    elif text == \"그냥드림\":\n",
    "        return 5\n",
    "    else:\n",
    "        return 100\n"
   ]
  },
  {
   "cell_type": "code",
   "execution_count": 4,
   "id": "4bed1205",
   "metadata": {
    "ExecuteTime": {
     "end_time": "2021-08-26T17:34:16.144022Z",
     "start_time": "2021-08-26T17:26:16.451310Z"
    }
   },
   "outputs": [
    {
     "name": "stdout",
     "output_type": "stream",
     "text": [
      ".DS_Store\n",
      "20210115_clien\n",
      "20210116_clien\n",
      "20210117_clien\n",
      "20210118_clien\n",
      "20210119_clien\n",
      "20210120_clien\n",
      "20210121_clien\n",
      "20210122_clien\n",
      "20210123_clien\n",
      "20210124_clien\n",
      "20210125_clien\n",
      "20210126_clien\n",
      "20210127_clien\n",
      "20210128_clien\n",
      "20210129_clien\n",
      "20210130_clien\n",
      "20210131_clien\n",
      "20210201_clien\n",
      "20210202_clien\n",
      "20210203_clien\n",
      "20210204_clien\n",
      "20210205_clien\n",
      "20210206_clien\n",
      "20210207_clien\n",
      "20210208_clien\n",
      "20210209_clien\n",
      "20210210_clien\n",
      "20210211_clien\n",
      "20210212_clien\n",
      "20210213_clien\n",
      "20210214_clien\n",
      "20210215_clien\n",
      "20210216_clien\n",
      "20210217_clien\n",
      "20210218_clien\n",
      "20210219_clien\n",
      "20210220_clien\n",
      "20210221_clien\n",
      "20210222_clien\n",
      "20210223_clien\n",
      "20210224_clien\n",
      "20210225_clien\n",
      "20210226_clien\n",
      "20210227_clien\n",
      "20210228_clien\n",
      "20210301_clien\n",
      "20210302_clien\n",
      "20210303_clien\n",
      "20210304_clien\n",
      "20210305_clien\n",
      "20210306_clien\n",
      "20210307_clien\n",
      "20210308_clien\n",
      "20210309_clien\n",
      "20210310_clien\n",
      "20210311_clien\n",
      "20210312_clien\n",
      "20210313_clien\n",
      "20210314_clien\n",
      "20210315_clien\n",
      "20210316_clien\n",
      "20210317_clien\n",
      "20210318_clien\n",
      "20210319_clien\n",
      "20210320_clien\n",
      "20210321_clien\n",
      "20210322_clien\n",
      "20210323_clien\n",
      "20210324_clien\n",
      "20210325_clien\n",
      "20210326_clien\n",
      "20210327_clien\n",
      "20210328_clien\n",
      "20210329_clien\n",
      "20210330_clien\n",
      "20210331_clien\n",
      "20210401_clien\n",
      "20210402_clien\n",
      "20210403_clien\n",
      "20210404_clien\n",
      "20210405_clien\n",
      "20210406_clien\n",
      "20210407_clien\n",
      "20210408_clien\n",
      "20210409_clien\n",
      "20210410_clien\n",
      "20210411_clien\n",
      "20210412_clien\n",
      "20210413_clien\n",
      "20210414_clien\n",
      "20210415_clien\n",
      "20210416_clien\n",
      "20210417_clien\n",
      "20210418_clien\n",
      "20210419_clien\n",
      "20210420_clien\n",
      "20210421_clien\n",
      "20210422_clien\n",
      "20210423_clien\n",
      "20210424_clien\n",
      "20210425_clien\n",
      "20210426_clien\n",
      "20210427_clien\n",
      "20210428_clien\n",
      "20210429_clien\n",
      "20210430_clien\n",
      "20210501_clien\n",
      "20210502_clien\n",
      "20210503_clien\n",
      "20210504_clien\n",
      "20210505_clien\n",
      "20210506_clien\n",
      "20210507_clien\n",
      "20210508_clien\n",
      "20210509_clien\n",
      "20210510_clien\n",
      "20210511_clien\n",
      "20210512_clien\n",
      "20210513_clien\n",
      "20210514_clien\n",
      "20210515_clien\n",
      "20210516_clien\n",
      "20210517_clien\n",
      "20210518_clien\n",
      "20210519_clien\n",
      "20210520_clien\n",
      "20210521_clien\n",
      "20210522_clien\n",
      "20210523_clien\n",
      "20210524_clien\n",
      "20210525_clien\n",
      "20210526_clien\n",
      "20210527_clien\n",
      "20210528_clien\n",
      "20210529_clien\n",
      "20210530_clien\n",
      "20210531_clien\n",
      "20210601_clien\n",
      "20210602_clien\n",
      "20210603_clien\n",
      "20210604_clien\n",
      "20210605_clien\n",
      "20210606_clien\n",
      "20210607_clien\n",
      "20210608_clien\n",
      "20210609_clien\n",
      "20210610_clien\n",
      "20210611_clien\n",
      "20210612_clien\n",
      "20210613_clien\n",
      "20210614_clien\n",
      "20210615_clien\n",
      "20210616_clien\n",
      "20210617_clien\n",
      "20210618_clien\n",
      "20210619_clien\n",
      "20210620_clien\n",
      "20210621_clien\n",
      "20210622_clien\n",
      "20210623_clien\n",
      "20210624_clien\n",
      "20210625_clien\n",
      "20210626_clien\n",
      "20210627_clien\n",
      "20210628_clien\n",
      "20210629_clien\n",
      "20210630_clien\n",
      "20210701_clien\n",
      "20210702_clien\n",
      "20210703_clien\n",
      "20210704_clien\n",
      "20210705_clien\n",
      "20210706_clien\n",
      "20210707_clien\n",
      "20210708_clien\n",
      "20210709_clien\n",
      "20210710_clien\n",
      "20210711_clien\n",
      "20210712_clien\n",
      "20210713_clien\n",
      "20210714_clien\n",
      "20210715_clien\n",
      "20210716_clien\n",
      "20210717_clien\n",
      "20210718_clien\n",
      "20210719_clien\n",
      "20210720_clien\n",
      "20210721_clien\n",
      "20210722_clien\n",
      "20210723_clien\n",
      "20210724_clien\n",
      "20210725_clien\n",
      "20210726_clien\n",
      "20210727_clien\n",
      "20210728_clien\n",
      "20210729_clien\n",
      "20210730_clien\n",
      "20210731_clien\n",
      "20210801_clien\n",
      "20210802_clien\n",
      "20210803_clien\n",
      "20210804_clien\n",
      "20210805_clien\n",
      "20210806_clien\n",
      "20210807_clien\n"
     ]
    }
   ],
   "source": [
    "#데이터 가져오기\n",
    "DATA_IN_PATH = './data/clien/'\n",
    "fileList = os.listdir(DATA_IN_PATH)\n",
    "\n",
    "data = pd.DataFrame()\n",
    "# data = pd.DataFrame(columns=[\"title\",\"article\"])\n",
    "# targetData = pd.DataFrame(columns=[\"category\"])\n",
    "\n",
    "for fileName in fileList:\n",
    "    print(fileName)\n",
    "    if fileName == \".DS_Store\":\n",
    "        continue\n",
    "    with open(DATA_IN_PATH + fileName, 'r') as f:\n",
    "        json_data = json.load(f)\n",
    "        \n",
    "\n",
    "    for document in json_data:\n",
    "        documentDataFrame = pd.DataFrame.from_dict([{\n",
    "            \"title\":document['title'],\n",
    "            \"article\":document['article'],\n",
    "            \"category\":document['category'],\n",
    "            \"category_to_target\":categoryToTarget(document['category']),\n",
    "            \"collectDate\":document['collectDate'],            \n",
    "            \"registerDate\":document['registerDate'],            \n",
    "        }])\n",
    "#         articleDataFrame = pd.DataFrame.from_dict([{\"title\":document['title'],\"article\":document['article']}])\n",
    "#         targetDataFrame = pd.DataFrame.from_dict([{\"category\":categoryToTarget(document['category'])}])\n",
    "\n",
    "        data = data.append(documentDataFrame)\n",
    "#         targetData = targetData.append(targetDataFrame)\n"
   ]
  },
  {
   "cell_type": "code",
   "execution_count": 5,
   "id": "dbaa3c6e",
   "metadata": {
    "ExecuteTime": {
     "end_time": "2021-08-26T17:34:19.537543Z",
     "start_time": "2021-08-26T17:34:16.146125Z"
    }
   },
   "outputs": [],
   "source": [
    "okt=Okt()\n",
    "article_text = okt.morphs(data.iloc[0]['article'])\n",
    "# print(article_text)\n",
    "stopWords = ['은', '는', '이', '가', '하', '아', '것', '들', '의', '있', '되', '수', '보', '주', '등', '한']"
   ]
  },
  {
   "cell_type": "code",
   "execution_count": 6,
   "id": "f0182436",
   "metadata": {
    "ExecuteTime": {
     "end_time": "2021-08-26T17:34:19.543781Z",
     "start_time": "2021-08-26T17:34:19.539349Z"
    }
   },
   "outputs": [],
   "source": [
    "def preprocessing(text, okt, remove_stopwords= False, stop_words=[]):\n",
    "    #줄바꿈 문자 삭제\n",
    "    text = text.replace(\"\\n\",\"\")\n",
    "    wordText = okt.morphs(text, stem=True)\n",
    "    \n",
    "    if remove_stopwords:\n",
    "        wordText = [token for token in wordText if not token in stop_words]\n",
    "        \n",
    "    return wordText"
   ]
  },
  {
   "cell_type": "code",
   "execution_count": 7,
   "id": "f065bba6",
   "metadata": {
    "ExecuteTime": {
     "end_time": "2021-08-26T17:34:19.554118Z",
     "start_time": "2021-08-26T17:34:19.546159Z"
    }
   },
   "outputs": [],
   "source": [
    "# def nTextToWord(rawData,resultArray):\n",
    "    \n",
    "#     for article in rawData:\n",
    "#         if type(article) == str:\n",
    "#             resultArray.append(preprocessing(article, okt, remove_stopwords=True, stop_words=stopWords))\n",
    "#         else:\n",
    "#             resultArray.append([])"
   ]
  },
  {
   "cell_type": "code",
   "execution_count": 8,
   "id": "fb90aa98",
   "metadata": {
    "ExecuteTime": {
     "end_time": "2021-08-26T17:34:19.560850Z",
     "start_time": "2021-08-26T17:34:19.556100Z"
    }
   },
   "outputs": [],
   "source": [
    "def rawdataToRefinedata(rawdata):\n",
    "    xResultData = []\n",
    "    yResultData = []\n",
    "    \n",
    "    for index, row in rawdata.iterrows():\n",
    "#         temp = {'article':preprocessing(row['article'], okt, remove_stopwords=True, stop_words=stopWords),\n",
    "#                 'title':preprocessing(row['article'], okt, remove_stopwords=True, stop_words=stopWords)}\n",
    "#         xResultData.append(temp)\n",
    "        xResultData.append(preprocessing(row['article'], okt, remove_stopwords=True, stop_words=stopWords))\n",
    "        yResultData.append(row['category_to_target'])\n",
    "        \n",
    "    return xResultData, yResultData\n",
    "        "
   ]
  },
  {
   "cell_type": "code",
   "execution_count": 9,
   "id": "1b6c7e97",
   "metadata": {
    "ExecuteTime": {
     "end_time": "2021-08-26T17:42:38.874092Z",
     "start_time": "2021-08-26T17:34:19.564889Z"
    }
   },
   "outputs": [
    {
     "name": "stdout",
     "output_type": "stream",
     "text": [
      "시작\n",
      "완료 :  499.30468463897705\n"
     ]
    }
   ],
   "source": [
    "startTime = time.time()\n",
    "cleanTrainArticle = []\n",
    "cleanTrainTitle = []\n",
    "print('시작')\n",
    "xData, yData = rawdataToRefinedata(data)\n",
    "print('완료 : ', time.time()- startTime)\n",
    "# nTextToWord(data['article'],cleanTrainArticle)\n",
    "# nTextToWord(data['title'],cleanTrainTitle)"
   ]
  },
  {
   "cell_type": "code",
   "execution_count": 10,
   "id": "4ee82bd7",
   "metadata": {
    "ExecuteTime": {
     "end_time": "2021-08-26T17:42:38.880185Z",
     "start_time": "2021-08-26T17:42:38.876443Z"
    },
    "scrolled": true
   },
   "outputs": [
    {
     "name": "stdout",
     "output_type": "stream",
     "text": [
      "<class 'list'>\n"
     ]
    }
   ],
   "source": [
    "print(type(xData))\n",
    "# print(xData[:1])\n",
    "# print(yData[:100])\n"
   ]
  },
  {
   "cell_type": "code",
   "execution_count": 11,
   "id": "99d1b754",
   "metadata": {
    "ExecuteTime": {
     "end_time": "2021-08-26T17:42:38.905946Z",
     "start_time": "2021-08-26T17:42:38.882405Z"
    }
   },
   "outputs": [
    {
     "name": "stdout",
     "output_type": "stream",
     "text": [
      "25862 11084\n",
      "25862 11084\n",
      "[1, 1, 1]\n",
      "[1, 1, 1]\n"
     ]
    }
   ],
   "source": [
    "xTrain, xTest, yTrain, yTest = train_test_split(xData, yData, test_size=0.3)\n",
    "\n",
    "print(len(xTrain), len(xTest))\n",
    "print(len(yTrain), len(yTest))\n",
    "\n",
    "# print(xTrain[:3])\n",
    "print(yTest[:3])\n",
    "print(yTest[:3])"
   ]
  },
  {
   "cell_type": "code",
   "execution_count": 12,
   "id": "a9964951",
   "metadata": {
    "ExecuteTime": {
     "end_time": "2021-08-26T17:42:42.303476Z",
     "start_time": "2021-08-26T17:42:38.907986Z"
    }
   },
   "outputs": [],
   "source": [
    "tokenizer = Tokenizer()\n",
    "tokenizer.fit_on_texts(xTrain)\n",
    "tokenizer.fit_on_texts(xTest)\n",
    "trainSequences = tokenizer.texts_to_sequences(xTrain)\n",
    "testSequences = tokenizer.texts_to_sequences(xTest)\n",
    "\n",
    "wordVocab = tokenizer.word_index\n",
    "\n",
    "MAX_SEQUENCE_LENGTH = 100\n",
    "\n",
    "trainInputs = pad_sequences(trainSequences, maxlen=MAX_SEQUENCE_LENGTH, padding='post')\n",
    "trainLabels = np.array(yTrain)\n",
    "testInputs = pad_sequences(testSequences, maxlen=MAX_SEQUENCE_LENGTH, padding='post')\n",
    "testLabels = np.array(yTest)\n"
   ]
  },
  {
   "cell_type": "code",
   "execution_count": 13,
   "id": "3eb6de7f",
   "metadata": {
    "ExecuteTime": {
     "end_time": "2021-08-26T17:42:42.753311Z",
     "start_time": "2021-08-26T17:42:42.305347Z"
    }
   },
   "outputs": [],
   "source": [
    "DATA_IN_PATH = './data_in/'\n",
    "TRAIN_INPUT_DATA = 'train_input.npy'\n",
    "TRAIN_LABEL_DATA = 'train_label.npy'\n",
    "TEST_INPUT_DATA = 'test_input.npy'\n",
    "TEST_LABEL_DATA = 'test_label.npy'\n",
    "DATA_CONFIGS = 'data_configs.json'\n",
    "\n",
    "data_configs = {}\n",
    "\n",
    "data_configs['vocab'] = wordVocab\n",
    "data_configs['vocab_size'] = len(wordVocab)+1\n",
    "\n",
    "if not os.path.exists(DATA_IN_PATH):\n",
    "    os.makedirs(DATA_IN_PATH)\n",
    "    \n",
    "np.save(open(DATA_IN_PATH + TRAIN_INPUT_DATA, 'wb'), trainInputs)\n",
    "np.save(open(DATA_IN_PATH + TRAIN_LABEL_DATA, 'wb'), trainLabels)\n",
    "np.save(open(DATA_IN_PATH + TEST_INPUT_DATA, 'wb'), testInputs)\n",
    "np.save(open(DATA_IN_PATH + TEST_LABEL_DATA, 'wb'), testLabels)\n",
    "\n",
    "json.dump(data_configs, open(DATA_IN_PATH + DATA_CONFIGS, 'w'), ensure_ascii=False)\n",
    "\n"
   ]
  }
 ],
 "metadata": {
  "kernelspec": {
   "display_name": "Python 3",
   "language": "python",
   "name": "python3"
  },
  "language_info": {
   "codemirror_mode": {
    "name": "ipython",
    "version": 3
   },
   "file_extension": ".py",
   "mimetype": "text/x-python",
   "name": "python",
   "nbconvert_exporter": "python",
   "pygments_lexer": "ipython3",
   "version": "3.6.5"
  }
 },
 "nbformat": 4,
 "nbformat_minor": 5
}
