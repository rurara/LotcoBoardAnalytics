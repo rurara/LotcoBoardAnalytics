{
 "cells": [
  {
   "cell_type": "code",
   "execution_count": 4,
   "id": "e6b3fb67",
   "metadata": {
    "ExecuteTime": {
     "end_time": "2021-08-22T14:25:28.889088Z",
     "start_time": "2021-08-22T14:25:28.884603Z"
    }
   },
   "outputs": [],
   "source": [
    "import os \n",
    "import json\n",
    "import pandas as pd \n",
    "import numpy as np\n",
    "from konlpy.tag import Okt\n",
    "from tensorflow.python.keras.preprocessing.sequence import pad_sequences\n",
    "from tensorflow.python.keras.preprocessing.text import Tokenizer\n",
    "from sklearn.model_selection import train_test_split\n",
    "import time"
   ]
  },
  {
   "cell_type": "code",
   "execution_count": 5,
   "id": "15a6d854",
   "metadata": {
    "ExecuteTime": {
     "end_time": "2021-08-22T14:25:28.897898Z",
     "start_time": "2021-08-22T14:25:28.891838Z"
    }
   },
   "outputs": [],
   "source": [
    "def categoryToTarget(text):\n",
    "    if text == \"판매\":\n",
    "        return 1\n",
    "    elif text == \"교환\":\n",
    "        return 2\n",
    "    elif text == \"구입\":\n",
    "        return 3\n",
    "    elif text == \"거래완료\":\n",
    "        return 4\n",
    "    elif text == \"그냥드림\":\n",
    "        return 5\n",
    "    else:\n",
    "        return 100\n"
   ]
  },
  {
   "cell_type": "code",
   "execution_count": 6,
   "id": "4bed1205",
   "metadata": {
    "ExecuteTime": {
     "end_time": "2021-08-22T14:25:32.028989Z",
     "start_time": "2021-08-22T14:25:28.902857Z"
    }
   },
   "outputs": [
    {
     "name": "stdout",
     "output_type": "stream",
     "text": [
      "20210701_clien\n",
      "20210702_clien\n",
      "20210703_clien\n",
      "20210704_clien\n",
      "20210705_clien\n"
     ]
    }
   ],
   "source": [
    "#데이터 가져오기\n",
    "DATA_IN_PATH = './data/clienSample/'\n",
    "fileList = os.listdir(DATA_IN_PATH)\n",
    "\n",
    "data = pd.DataFrame()\n",
    "# data = pd.DataFrame(columns=[\"title\",\"article\"])\n",
    "# targetData = pd.DataFrame(columns=[\"category\"])\n",
    "\n",
    "for fileName in fileList:\n",
    "    print(fileName)\n",
    "    if fileName == \".DS_Store\":\n",
    "        continue\n",
    "    with open(DATA_IN_PATH + fileName, 'r') as f:\n",
    "        json_data = json.load(f)\n",
    "        \n",
    "\n",
    "    for document in json_data:\n",
    "        documentDataFrame = pd.DataFrame.from_dict([{\n",
    "            \"title\":document['title'],\n",
    "            \"article\":document['article'],\n",
    "            \"category\":document['category'],\n",
    "            \"category_to_target\":categoryToTarget(document['category']),\n",
    "            \"collectDate\":document['collectDate'],            \n",
    "            \"registerDate\":document['registerDate'],            \n",
    "        }])\n",
    "#         articleDataFrame = pd.DataFrame.from_dict([{\"title\":document['title'],\"article\":document['article']}])\n",
    "#         targetDataFrame = pd.DataFrame.from_dict([{\"category\":categoryToTarget(document['category'])}])\n",
    "\n",
    "        data = data.append(documentDataFrame)\n",
    "#         targetData = targetData.append(targetDataFrame)\n"
   ]
  },
  {
   "cell_type": "code",
   "execution_count": 7,
   "id": "dbaa3c6e",
   "metadata": {
    "ExecuteTime": {
     "end_time": "2021-08-22T14:25:36.419958Z",
     "start_time": "2021-08-22T14:25:32.031866Z"
    }
   },
   "outputs": [],
   "source": [
    "okt=Okt()\n",
    "article_text = okt.morphs(data.iloc[0]['article'])\n",
    "# print(article_text)\n",
    "stopWords = ['은', '는', '이', '가', '하', '아', '것', '들', '의', '있', '되', '수', '보', '주', '등', '한']"
   ]
  },
  {
   "cell_type": "code",
   "execution_count": 8,
   "id": "f0182436",
   "metadata": {
    "ExecuteTime": {
     "end_time": "2021-08-22T14:25:36.426848Z",
     "start_time": "2021-08-22T14:25:36.421785Z"
    }
   },
   "outputs": [],
   "source": [
    "def preprocessing(text, okt, remove_stopwords= False, stop_words=[]):\n",
    "    #줄바꿈 문자 삭제\n",
    "    text = text.replace(\"\\n\",\"\")\n",
    "    wordText = okt.morphs(text, stem=True)\n",
    "    \n",
    "    if remove_stopwords:\n",
    "        wordText = [token for token in wordText if not token in stop_words]\n",
    "        \n",
    "    return wordText"
   ]
  },
  {
   "cell_type": "code",
   "execution_count": 9,
   "id": "f065bba6",
   "metadata": {
    "ExecuteTime": {
     "end_time": "2021-08-22T14:25:36.442756Z",
     "start_time": "2021-08-22T14:25:36.429284Z"
    }
   },
   "outputs": [],
   "source": [
    "# def nTextToWord(rawData,resultArray):\n",
    "    \n",
    "#     for article in rawData:\n",
    "#         if type(article) == str:\n",
    "#             resultArray.append(preprocessing(article, okt, remove_stopwords=True, stop_words=stopWords))\n",
    "#         else:\n",
    "#             resultArray.append([])"
   ]
  },
  {
   "cell_type": "code",
   "execution_count": 10,
   "id": "fb90aa98",
   "metadata": {
    "ExecuteTime": {
     "end_time": "2021-08-22T14:25:36.453484Z",
     "start_time": "2021-08-22T14:25:36.445249Z"
    }
   },
   "outputs": [],
   "source": [
    "def rawdataToRefinedata(rawdata):\n",
    "    xResultData = []\n",
    "    yResultData = []\n",
    "    \n",
    "    for index, row in rawdata.iterrows():\n",
    "#         temp = {'article':preprocessing(row['article'], okt, remove_stopwords=True, stop_words=stopWords),\n",
    "#                 'title':preprocessing(row['article'], okt, remove_stopwords=True, stop_words=stopWords)}\n",
    "#         xResultData.append(temp)\n",
    "        xResultData.append(preprocessing(row['article'], okt, remove_stopwords=True, stop_words=stopWords))\n",
    "        yResultData.append(row['category_to_target'])\n",
    "        \n",
    "    return xResultData, yResultData\n",
    "        "
   ]
  },
  {
   "cell_type": "code",
   "execution_count": 11,
   "id": "1b6c7e97",
   "metadata": {
    "ExecuteTime": {
     "end_time": "2021-08-22T14:25:46.712359Z",
     "start_time": "2021-08-22T14:25:36.456444Z"
    }
   },
   "outputs": [
    {
     "name": "stdout",
     "output_type": "stream",
     "text": [
      "시작\n",
      "완료 :  10.246124505996704\n"
     ]
    }
   ],
   "source": [
    "startTime = time.time()\n",
    "cleanTrainArticle = []\n",
    "cleanTrainTitle = []\n",
    "print('시작')\n",
    "xData, yData = rawdataToRefinedata(data)\n",
    "print('완료 : ', time.time()- startTime)\n",
    "# nTextToWord(data['article'],cleanTrainArticle)\n",
    "# nTextToWord(data['title'],cleanTrainTitle)"
   ]
  },
  {
   "cell_type": "code",
   "execution_count": 12,
   "id": "4ee82bd7",
   "metadata": {
    "ExecuteTime": {
     "end_time": "2021-08-22T14:25:46.718980Z",
     "start_time": "2021-08-22T14:25:46.715017Z"
    },
    "scrolled": true
   },
   "outputs": [
    {
     "name": "stdout",
     "output_type": "stream",
     "text": [
      "<class 'list'>\n"
     ]
    }
   ],
   "source": [
    "print(type(xData))\n",
    "# print(xData[:1])\n",
    "# print(yData[:100])\n"
   ]
  },
  {
   "cell_type": "code",
   "execution_count": 13,
   "id": "99d1b754",
   "metadata": {
    "ExecuteTime": {
     "end_time": "2021-08-22T14:25:46.734829Z",
     "start_time": "2021-08-22T14:25:46.721445Z"
    }
   },
   "outputs": [
    {
     "name": "stdout",
     "output_type": "stream",
     "text": [
      "826 355\n",
      "826 355\n",
      "[1, 1, 1]\n",
      "[1, 1, 1]\n"
     ]
    }
   ],
   "source": [
    "xTrain, xTest, yTrain, yTest = train_test_split(xData, yData, test_size=0.3)\n",
    "\n",
    "print(len(xTrain), len(xTest))\n",
    "print(len(yTrain), len(yTest))\n",
    "\n",
    "# print(xTrain[:3])\n",
    "print(yTest[:3])\n",
    "print(yTest[:3])"
   ]
  },
  {
   "cell_type": "code",
   "execution_count": 14,
   "id": "a9964951",
   "metadata": {
    "ExecuteTime": {
     "end_time": "2021-08-22T14:25:46.869151Z",
     "start_time": "2021-08-22T14:25:46.737126Z"
    }
   },
   "outputs": [],
   "source": [
    "tokenizer = Tokenizer()\n",
    "tokenizer.fit_on_texts(xTrain)\n",
    "tokenizer.fit_on_texts(xTest)\n",
    "trainSequences = tokenizer.texts_to_sequences(xTrain)\n",
    "testSequences = tokenizer.texts_to_sequences(xTest)\n",
    "\n",
    "wordVocab = tokenizer.word_index\n",
    "\n",
    "MAX_SEQUENCE_LENGTH = 100\n",
    "\n",
    "trainInputs = pad_sequences(trainSequences, maxlen=MAX_SEQUENCE_LENGTH, padding='post')\n",
    "trainLabels = np.array(yTrain)\n",
    "testInputs = pad_sequences(testSequences, maxlen=MAX_SEQUENCE_LENGTH, padding='post')\n",
    "testLabels = np.array(yTest)\n"
   ]
  },
  {
   "cell_type": "code",
   "execution_count": 15,
   "id": "3eb6de7f",
   "metadata": {
    "ExecuteTime": {
     "end_time": "2021-08-22T14:25:46.934118Z",
     "start_time": "2021-08-22T14:25:46.871537Z"
    }
   },
   "outputs": [],
   "source": [
    "DATA_IN_PATH = './data_in/'\n",
    "TRAIN_INPUT_DATA = 'train_input.npy'\n",
    "TRAIN_LABEL_DATA = 'train_label.npy'\n",
    "TEST_INPUT_DATA = 'test_input.npy'\n",
    "TEST_LABEL_DATA = 'test_label.npy'\n",
    "DATA_CONFIGS = 'data_configs.json'\n",
    "\n",
    "data_configs = {}\n",
    "\n",
    "data_configs['vocab'] = wordVocab\n",
    "data_configs['vocab_size'] = len(wordVocab)+1\n",
    "\n",
    "if not os.path.exists(DATA_IN_PATH):\n",
    "    os.makedirs(DATA_IN_PATH)\n",
    "    \n",
    "np.save(open(DATA_IN_PATH + TRAIN_INPUT_DATA, 'wb'), trainInputs)\n",
    "np.save(open(DATA_IN_PATH + TRAIN_LABEL_DATA, 'wb'), trainLabels)\n",
    "np.save(open(DATA_IN_PATH + TEST_INPUT_DATA, 'wb'), testInputs)\n",
    "np.save(open(DATA_IN_PATH + TEST_LABEL_DATA, 'wb'), testLabels)\n",
    "\n",
    "json.dump(data_configs, open(DATA_IN_PATH + DATA_CONFIGS, 'w'), ensure_ascii=False)\n",
    "\n"
   ]
  }
 ],
 "metadata": {
  "kernelspec": {
   "display_name": "Python 3",
   "language": "python",
   "name": "python3"
  },
  "language_info": {
   "codemirror_mode": {
    "name": "ipython",
    "version": 3
   },
   "file_extension": ".py",
   "mimetype": "text/x-python",
   "name": "python",
   "nbconvert_exporter": "python",
   "pygments_lexer": "ipython3",
   "version": "3.6.5"
  }
 },
 "nbformat": 4,
 "nbformat_minor": 5
}
