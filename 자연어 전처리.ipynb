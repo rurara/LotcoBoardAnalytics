{
 "cells": [
  {
   "cell_type": "code",
   "execution_count": 1,
   "id": "e6b3fb67",
   "metadata": {},
   "outputs": [],
   "source": [
    "\n",
    "import os \n",
    "import json\n",
    "import pandas as pd \n",
    "from konlpy.tag import Okt\n",
    "# import numpy as np\n",
    "# from sklearn.model_selection import train_test_split\n",
    "# from sklearn import metrics    \n",
    "# from sklearn.metrics import classification_report\n",
    "# from sklearn.ensemble import RandomForestClassifier\n",
    "# from sklearn.metrics import accuracy_score # 정확도 함수\n",
    "# import matplotlib.pyplot as plt\n",
    "import datetime\n"
   ]
  },
  {
   "cell_type": "code",
   "execution_count": 2,
   "id": "15a6d854",
   "metadata": {},
   "outputs": [],
   "source": [
    "def categoryToTarget(text):\n",
    "    if text == \"판매\":\n",
    "        return 1\n",
    "    elif text == \"교환\":\n",
    "        return 2\n",
    "    elif text == \"구입\":\n",
    "        return 3\n",
    "    elif text == \"거래완료\":\n",
    "        return 4\n",
    "    elif text == \"그냥드림\":\n",
    "        return 5\n",
    "    else:\n",
    "        return 100\n",
    "    "
   ]
  },
  {
   "cell_type": "code",
   "execution_count": 3,
   "id": "4bed1205",
   "metadata": {},
   "outputs": [
    {
     "name": "stdout",
     "output_type": "stream",
     "text": [
      ".DS_Store\n",
      "20210701_clien\n",
      "20210702_clien\n",
      "20210703_clien\n",
      "20210704_clien\n",
      "20210705_clien\n",
      "20210706_clien\n",
      "20210707_clien\n",
      "20210708_clien\n",
      "20210709_clien\n",
      "20210710_clien\n",
      "20210711_clien\n",
      "20210712_clien\n",
      "20210713_clien\n",
      "20210714_clien\n",
      "20210715_clien\n",
      "20210716_clien\n",
      "20210717_clien\n",
      "20210718_clien\n",
      "20210719_clien\n",
      "20210720_clien\n",
      "20210721_clien\n",
      "20210722_clien\n",
      "20210723_clien\n",
      "20210724_clien\n",
      "20210725_clien\n",
      "20210726_clien\n",
      "20210727_clien\n",
      "20210728_clien\n",
      "20210729_clien\n",
      "20210730_clien\n",
      "20210731_clien\n",
      "20210801_clien\n",
      "20210802_clien\n",
      "20210803_clien\n",
      "20210804_clien\n",
      "20210805_clien\n",
      "20210806_clien\n",
      "20210807_clien\n"
     ]
    }
   ],
   "source": [
    "#데이터 가져오기\n",
    "DATA_IN_PATH = './data/clienSample/'\n",
    "fileList = os.listdir(DATA_IN_PATH)\n",
    "\n",
    "data = pd.DataFrame()\n",
    "# data = pd.DataFrame(columns=[\"title\",\"article\"])\n",
    "# targetData = pd.DataFrame(columns=[\"category\"])\n",
    "\n",
    "for fileName in fileList:\n",
    "    print(fileName)\n",
    "    if fileName == \".DS_Store\":\n",
    "        continue\n",
    "    with open(DATA_IN_PATH + fileName, 'r') as f:\n",
    "        json_data = json.load(f)\n",
    "        \n",
    "\n",
    "    for document in json_data:\n",
    "        documentDataFrame = pd.DataFrame.from_dict([{\n",
    "            \"title\":document['title'],\n",
    "            \"article\":document['article'],\n",
    "            \"category\":document['category'],\n",
    "            \"category_to_target\":categoryToTarget(document['category']),\n",
    "            \"collectDate\":document['collectDate'],            \n",
    "            \"registerDate\":document['registerDate'],            \n",
    "        }])\n",
    "#         articleDataFrame = pd.DataFrame.from_dict([{\"title\":document['title'],\"article\":document['article']}])\n",
    "#         targetDataFrame = pd.DataFrame.from_dict([{\"category\":categoryToTarget(document['category'])}])\n",
    "\n",
    "        data = data.append(documentDataFrame)\n",
    "#         targetData = targetData.append(targetDataFrame)\n"
   ]
  },
  {
   "cell_type": "code",
   "execution_count": 39,
   "id": "dbaa3c6e",
   "metadata": {},
   "outputs": [],
   "source": [
    "okt=Okt()\n",
    "article_text = okt.morphs(data.iloc[0]['article'])\n",
    "# print(article_text)\n",
    "stopWords = ['은', '는', '이', '가', '하', '아', '것', '들', '의', '있', '되', '수', '보', '주', '등', '한']"
   ]
  },
  {
   "cell_type": "code",
   "execution_count": 38,
   "id": "f0182436",
   "metadata": {},
   "outputs": [],
   "source": [
    "def preprocessing(text, okt, remove_stopwords= False, stop_words=[]):\n",
    "    #줄바꿈 문자 삭제\n",
    "    text.replace(\"\\n\",\"\")\n",
    "    wordText = okt.morphs(text, stem=True)\n",
    "    \n",
    "    if remove_stopwords:\n",
    "        wordText = [token for token in wordText if not token in stop_words]\n",
    "        \n",
    "    return wordText"
   ]
  },
  {
   "cell_type": "code",
   "execution_count": 44,
   "id": "f065bba6",
   "metadata": {},
   "outputs": [],
   "source": [
    "def nTextToWord(rawData,resultArray):\n",
    "    for article in rawData:\n",
    "        if type(article) == str:\n",
    "            resultArray.append(preprocessing(article, okt, remove_stopwords=True, stop_words=stopWords))\n",
    "        else:\n",
    "            resultArray.append([])"
   ]
  },
  {
   "cell_type": "code",
   "execution_count": 45,
   "id": "1b6c7e97",
   "metadata": {},
   "outputs": [],
   "source": [
    "cleanTrainArticle = []\n",
    "cleanTrainTitle = []\n",
    "\n",
    "nTextToWord(data['article'],cleanTrainArticle)\n",
    "nTextToWord(data['title'],cleanTrainTitle)"
   ]
  },
  {
   "cell_type": "code",
   "execution_count": 48,
   "id": "4ee82bd7",
   "metadata": {},
   "outputs": [],
   "source": [
    "# data[10:20]\n",
    "\n",
    "# print(cleanTrainArticle[5])\n",
    "# print(cleanTrainTitle[5])"
   ]
  }
 ],
 "metadata": {
  "kernelspec": {
   "display_name": "Python 3",
   "language": "python",
   "name": "python3"
  },
  "language_info": {
   "codemirror_mode": {
    "name": "ipython",
    "version": 3
   },
   "file_extension": ".py",
   "mimetype": "text/x-python",
   "name": "python",
   "nbconvert_exporter": "python",
   "pygments_lexer": "ipython3",
   "version": "3.6.5"
  }
 },
 "nbformat": 4,
 "nbformat_minor": 5
}
