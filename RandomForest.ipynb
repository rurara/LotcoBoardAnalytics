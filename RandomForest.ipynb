{
 "cells": [
  {
   "cell_type": "code",
   "execution_count": 10,
   "id": "c9c413ed",
   "metadata": {
    "ExecuteTime": {
     "end_time": "2021-09-02T00:57:58.042549Z",
     "start_time": "2021-09-02T00:57:58.039088Z"
    }
   },
   "outputs": [],
   "source": [
    "import pandas as pd\n",
    "import numpy as np\n",
    "\n",
    "from sklearn.feature_extraction.text import CountVectorizer\n",
    "from sklearn.model_selection import train_test_split\n",
    "from sklearn.ensemble import RandomForestClassifier"
   ]
  },
  {
   "cell_type": "code",
   "execution_count": 6,
   "id": "fce4b64e",
   "metadata": {
    "ExecuteTime": {
     "end_time": "2021-09-02T00:53:02.918465Z",
     "start_time": "2021-09-02T00:53:02.585929Z"
    }
   },
   "outputs": [],
   "source": [
    "DATA_IN_PATH = './clean_data/'\n",
    "TRAIN_INPUT_DATA = 'train_input.npy'\n",
    "TRAIN_LABEL_DATA = 'train_label.npy'\n",
    "TRAIN_CLEAN_DATA = 'train_clean.csv'\n",
    "DATA_CONFIGS = 'data_configs.json'\n",
    "\n",
    "\n",
    "trainData = pd.read_csv(DATA_IN_PATH + TRAIN_CLEAN_DATA)\n",
    "article = list(trainData['article'])\n",
    "label = np.array(trainData['category'])"
   ]
  },
  {
   "cell_type": "code",
   "execution_count": 8,
   "id": "14897f35",
   "metadata": {
    "ExecuteTime": {
     "end_time": "2021-09-02T00:54:39.431337Z",
     "start_time": "2021-09-02T00:54:37.061430Z"
    }
   },
   "outputs": [
    {
     "data": {
      "text/plain": [
       "<36946x5000 sparse matrix of type '<class 'numpy.int64'>'\n",
       "\twith 1436054 stored elements in Compressed Sparse Row format>"
      ]
     },
     "execution_count": 8,
     "metadata": {},
     "output_type": "execute_result"
    }
   ],
   "source": [
    "vectorizer = CountVectorizer(analyzer='word', max_features=5000)\n",
    "trainDataFeatures = vectorizer.fit_transform(article)\n",
    "\n",
    "trainDataFeatures"
   ]
  },
  {
   "cell_type": "code",
   "execution_count": 18,
   "id": "410fd0ed",
   "metadata": {
    "ExecuteTime": {
     "end_time": "2021-09-02T01:02:48.777927Z",
     "start_time": "2021-09-02T01:02:48.757714Z"
    }
   },
   "outputs": [],
   "source": [
    "trainInputData, testInputData, trainInputLabel, testInputLabel = train_test_split(trainDataFeatures, label, test_size = 0.2, random_state = 42)\n"
   ]
  },
  {
   "cell_type": "code",
   "execution_count": 19,
   "id": "608fce73",
   "metadata": {
    "ExecuteTime": {
     "end_time": "2021-09-02T01:03:56.127981Z",
     "start_time": "2021-09-02T01:03:29.072945Z"
    }
   },
   "outputs": [
    {
     "data": {
      "text/plain": [
       "RandomForestClassifier()"
      ]
     },
     "execution_count": 19,
     "metadata": {},
     "output_type": "execute_result"
    }
   ],
   "source": [
    "print('학습 시작')\n",
    "forest = RandomForestClassifier(n_estimators=100)\n",
    "forest.fit(trainInputData, trainInputLabel)"
   ]
  },
  {
   "cell_type": "code",
   "execution_count": 20,
   "id": "cbd11cc6",
   "metadata": {
    "ExecuteTime": {
     "end_time": "2021-09-02T01:04:17.215093Z",
     "start_time": "2021-09-02T01:04:16.970846Z"
    }
   },
   "outputs": [
    {
     "name": "stdout",
     "output_type": "stream",
     "text": [
      "0.9671177266576455\n"
     ]
    }
   ],
   "source": [
    "print(forest.score(testInputData, testInputLabel))"
   ]
  },
  {
   "cell_type": "code",
   "execution_count": 1,
   "id": "faf7c72a",
   "metadata": {
    "ExecuteTime": {
     "end_time": "2021-09-02T22:26:45.352129Z",
     "start_time": "2021-09-02T22:26:45.299118Z"
    }
   },
   "outputs": [
    {
     "ename": "NameError",
     "evalue": "name 'testInputLabel' is not defined",
     "output_type": "error",
     "traceback": [
      "\u001b[0;31m---------------------------------------------------------------------------\u001b[0m",
      "\u001b[0;31mNameError\u001b[0m                                 Traceback (most recent call last)",
      "\u001b[0;32m<ipython-input-1-9b4a8e73f37c>\u001b[0m in \u001b[0;36m<module>\u001b[0;34m\u001b[0m\n\u001b[1;32m      2\u001b[0m \u001b[0;31m# print(testInputLabel[0])\u001b[0m\u001b[0;34m\u001b[0m\u001b[0;34m\u001b[0m\u001b[0m\n\u001b[1;32m      3\u001b[0m \u001b[0;34m\u001b[0m\u001b[0m\n\u001b[0;32m----> 4\u001b[0;31m \u001b[0mprint\u001b[0m\u001b[0;34m(\u001b[0m\u001b[0mtestInputLabel\u001b[0m\u001b[0;34m[\u001b[0m\u001b[0;36m90\u001b[0m\u001b[0;34m:\u001b[0m\u001b[0;36m100\u001b[0m\u001b[0;34m]\u001b[0m\u001b[0;34m)\u001b[0m\u001b[0;34m\u001b[0m\u001b[0m\n\u001b[0m\u001b[1;32m      5\u001b[0m \u001b[0mprint\u001b[0m\u001b[0;34m(\u001b[0m\u001b[0mforest\u001b[0m\u001b[0;34m.\u001b[0m\u001b[0mpredict\u001b[0m\u001b[0;34m(\u001b[0m\u001b[0mtestInputData\u001b[0m\u001b[0;34m[\u001b[0m\u001b[0;36m90\u001b[0m\u001b[0;34m:\u001b[0m\u001b[0;36m100\u001b[0m\u001b[0;34m]\u001b[0m\u001b[0;34m)\u001b[0m\u001b[0;34m)\u001b[0m\u001b[0;34m\u001b[0m\u001b[0m\n\u001b[1;32m      6\u001b[0m \u001b[0mprint\u001b[0m\u001b[0;34m(\u001b[0m\u001b[0mforest\u001b[0m\u001b[0;34m.\u001b[0m\u001b[0mpredict_proba\u001b[0m\u001b[0;34m(\u001b[0m\u001b[0mtestInputData\u001b[0m\u001b[0;34m[\u001b[0m\u001b[0;36m90\u001b[0m\u001b[0;34m:\u001b[0m\u001b[0;36m100\u001b[0m\u001b[0;34m]\u001b[0m\u001b[0;34m)\u001b[0m\u001b[0;34m)\u001b[0m\u001b[0;34m\u001b[0m\u001b[0m\n",
      "\u001b[0;31mNameError\u001b[0m: name 'testInputLabel' is not defined"
     ]
    }
   ],
   "source": [
    "# print(testInputData[0])\n",
    "# print(testInputLabel[0])\n",
    "\n",
    "print(testInputLabel[90:100])\n",
    "print(forest.predict(testInputData[90:100]))\n",
    "print(forest.predict_proba(testInputData[90:100]))\n",
    "\n",
    "\n",
    "def predictText(data):\n",
    "    print(forest.predict(data))\n",
    "    print(forest.predict_proba(data))\n",
    "\n",
    "    "
   ]
  }
 ],
 "metadata": {
  "kernelspec": {
   "display_name": "Python 3",
   "language": "python",
   "name": "python3"
  },
  "language_info": {
   "codemirror_mode": {
    "name": "ipython",
    "version": 3
   },
   "file_extension": ".py",
   "mimetype": "text/x-python",
   "name": "python",
   "nbconvert_exporter": "python",
   "pygments_lexer": "ipython3",
   "version": "3.6.5"
  }
 },
 "nbformat": 4,
 "nbformat_minor": 5
}
