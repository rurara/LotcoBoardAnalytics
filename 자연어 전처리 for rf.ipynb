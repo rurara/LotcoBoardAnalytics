{
 "cells": [
  {
   "cell_type": "code",
   "execution_count": 17,
   "id": "e6b3fb67",
   "metadata": {
    "ExecuteTime": {
     "end_time": "2021-08-24T15:44:32.597564Z",
     "start_time": "2021-08-24T15:44:32.593457Z"
    }
   },
   "outputs": [],
   "source": [
    "import os \n",
    "import json\n",
    "import pandas as pd \n",
    "import numpy as np\n",
    "from konlpy.tag import Okt\n",
    "from sklearn.model_selection import train_test_split\n",
    "import csv"
   ]
  },
  {
   "cell_type": "code",
   "execution_count": 2,
   "id": "15a6d854",
   "metadata": {
    "ExecuteTime": {
     "end_time": "2021-08-24T15:38:32.988145Z",
     "start_time": "2021-08-24T15:38:32.983815Z"
    }
   },
   "outputs": [],
   "source": [
    "def categoryToTarget(text):\n",
    "    if text == \"판매\":\n",
    "        return 1\n",
    "    elif text == \"교환\":\n",
    "        return 2\n",
    "    elif text == \"구입\":\n",
    "        return 3\n",
    "    elif text == \"거래완료\":\n",
    "        return 4\n",
    "    elif text == \"그냥드림\":\n",
    "        return 5\n",
    "    else:\n",
    "        return 100\n"
   ]
  },
  {
   "cell_type": "code",
   "execution_count": 3,
   "id": "4bed1205",
   "metadata": {
    "ExecuteTime": {
     "end_time": "2021-08-24T15:38:43.203198Z",
     "start_time": "2021-08-24T15:38:40.082901Z"
    }
   },
   "outputs": [
    {
     "name": "stdout",
     "output_type": "stream",
     "text": [
      "20210701_clien\n",
      "20210702_clien\n",
      "20210703_clien\n",
      "20210704_clien\n",
      "20210705_clien\n"
     ]
    }
   ],
   "source": [
    "#데이터 가져오기\n",
    "DATA_IN_PATH = './data/clienSample/'\n",
    "fileList = os.listdir(DATA_IN_PATH)\n",
    "\n",
    "data = pd.DataFrame()\n",
    "# data = pd.DataFrame(columns=[\"title\",\"article\"])\n",
    "# targetData = pd.DataFrame(columns=[\"category\"])\n",
    "\n",
    "for fileName in fileList:\n",
    "    print(fileName)\n",
    "    if fileName == \".DS_Store\":\n",
    "        continue\n",
    "    with open(DATA_IN_PATH + fileName, 'r') as f:\n",
    "        json_data = json.load(f)\n",
    "        \n",
    "\n",
    "    for document in json_data:\n",
    "        documentDataFrame = pd.DataFrame.from_dict([{\n",
    "            \"title\":document['title'],\n",
    "            \"article\":document['article'],\n",
    "            \"category\":document['category'],\n",
    "            \"category_to_target\":categoryToTarget(document['category']),\n",
    "            \"collectDate\":document['collectDate'],            \n",
    "            \"registerDate\":document['registerDate'],            \n",
    "        }])\n",
    "#         articleDataFrame = pd.DataFrame.from_dict([{\"title\":document['title'],\"article\":document['article']}])\n",
    "#         targetDataFrame = pd.DataFrame.from_dict([{\"category\":categoryToTarget(document['category'])}])\n",
    "\n",
    "        data = data.append(documentDataFrame)\n",
    "#         targetData = targetData.append(targetDataFrame)\n"
   ]
  },
  {
   "cell_type": "code",
   "execution_count": 12,
   "id": "dbaa3c6e",
   "metadata": {
    "ExecuteTime": {
     "end_time": "2021-08-24T15:41:11.705791Z",
     "start_time": "2021-08-24T15:41:11.694867Z"
    }
   },
   "outputs": [
    {
     "name": "stdout",
     "output_type": "stream",
     "text": [
      "['미', '박스', 'S', '글로벌', '버전', '220', 'v', '판매', '합니다', '.', '\\n\\n', '거의', '그냥', '가지고만', '있었습니다', '.', '\\n\\n\\n', '한글', '지원', '아', '답터', '220', 'v', '입니다', '.', '\\n\\n', '50000원', '입니다', '.', '\\n\\n', '010-5037', '-', '0033', '입니다', '.']\n"
     ]
    }
   ],
   "source": [
    "okt=Okt()\n",
    "article_text = okt.morphs(data.iloc[0]['article'])\n",
    "print(article_text)\n",
    "stopWords = ['은', '는', '이', '가', '하', '아', '것', '들', '의', '있', '되', '수', '보', '주', '등', '한']"
   ]
  },
  {
   "cell_type": "code",
   "execution_count": 24,
   "id": "f0182436",
   "metadata": {
    "ExecuteTime": {
     "end_time": "2021-08-24T15:52:40.508219Z",
     "start_time": "2021-08-24T15:52:40.504097Z"
    }
   },
   "outputs": [],
   "source": [
    "def preprocessing(text, okt, remove_stopwords= False, stop_words=[]):\n",
    "    #줄바꿈 문자 삭제\n",
    "    text = text.replace(\"\\n\",\"\")\n",
    "    wordText = okt.morphs(text, stem=True)\n",
    "    \n",
    "    if remove_stopwords:\n",
    "        wordText = [token for token in wordText if not token in stop_words]\n",
    "        \n",
    "    return wordText"
   ]
  },
  {
   "cell_type": "code",
   "execution_count": 9,
   "id": "f065bba6",
   "metadata": {
    "ExecuteTime": {
     "end_time": "2021-08-22T14:25:36.442756Z",
     "start_time": "2021-08-22T14:25:36.429284Z"
    }
   },
   "outputs": [],
   "source": [
    "# def nTextToWord(rawData,resultArray):\n",
    "    \n",
    "#     for article in rawData:\n",
    "#         if type(article) == str:\n",
    "#             resultArray.append(preprocessing(article, okt, remove_stopwords=True, stop_words=stopWords))\n",
    "#         else:\n",
    "#             resultArray.append([])"
   ]
  },
  {
   "cell_type": "code",
   "execution_count": 34,
   "id": "fb90aa98",
   "metadata": {
    "ExecuteTime": {
     "end_time": "2021-08-24T15:56:11.760507Z",
     "start_time": "2021-08-24T15:56:11.756338Z"
    }
   },
   "outputs": [],
   "source": [
    "def rawdataToRefinedata(rawdata):\n",
    "    xResultData = []\n",
    "    yResultData = []\n",
    "    \n",
    "    for index, row in rawdata.iterrows():\n",
    "\n",
    "        cleanBoard = preprocessing(row['article'], okt, remove_stopwords=True, stop_words=stopWords)\n",
    "        xResultData.append(cleanBoard)\n",
    "        yResultData.append(row['category_to_target'])\n",
    "        writer.writerow([cleanBoard])\n",
    "\n",
    "    return xResultData, yResultData\n",
    "        "
   ]
  },
  {
   "cell_type": "code",
   "execution_count": 36,
   "id": "1b6c7e97",
   "metadata": {
    "ExecuteTime": {
     "end_time": "2021-08-24T15:57:54.782257Z",
     "start_time": "2021-08-24T15:57:45.721336Z"
    }
   },
   "outputs": [
    {
     "name": "stdout",
     "output_type": "stream",
     "text": [
      "시작\n",
      "완료\n"
     ]
    }
   ],
   "source": [
    "cleanTrainArticle = []\n",
    "cleanTrainTitle = []\n",
    "saveFile = open('./data_out/board_word.csv', 'w', newline='')\n",
    "writer = csv.writer(saveFile)\n",
    "\n",
    "\n",
    "print('시작')\n",
    "xData, yData = rawdataToRefinedata(data)\n",
    "print('완료')\n",
    "# nTextToWord(data['article'],cleanTrainArticle)\n",
    "# nTextToWord(data['title'],cleanTrainTitle)"
   ]
  },
  {
   "cell_type": "code",
   "execution_count": 12,
   "id": "4ee82bd7",
   "metadata": {
    "ExecuteTime": {
     "end_time": "2021-08-22T14:25:46.718980Z",
     "start_time": "2021-08-22T14:25:46.715017Z"
    },
    "scrolled": true
   },
   "outputs": [
    {
     "name": "stdout",
     "output_type": "stream",
     "text": [
      "<class 'list'>\n"
     ]
    }
   ],
   "source": [
    "print(type(xData))\n",
    "# print(xData[:1])\n",
    "# print(yData[:100])\n"
   ]
  },
  {
   "cell_type": "code",
   "execution_count": 37,
   "id": "99d1b754",
   "metadata": {
    "ExecuteTime": {
     "end_time": "2021-08-24T15:57:54.793294Z",
     "start_time": "2021-08-24T15:57:54.784559Z"
    },
    "scrolled": true
   },
   "outputs": [
    {
     "name": "stdout",
     "output_type": "stream",
     "text": [
      "826 355\n",
      "826 355\n"
     ]
    }
   ],
   "source": [
    "xTrain, xTest, yTrain, yTest = train_test_split(xData, yData, test_size=0.3)\n",
    "\n",
    "print(len(xTrain), len(xTest))\n",
    "print(len(yTrain), len(yTest))\n",
    "\n",
    "# print(xTrain[:3])\n",
    "# print(xTrain[:10])\n",
    "# print(xTest[:3])"
   ]
  }
 ],
 "metadata": {
  "kernelspec": {
   "display_name": "Python 3",
   "language": "python",
   "name": "python3"
  },
  "language_info": {
   "codemirror_mode": {
    "name": "ipython",
    "version": 3
   },
   "file_extension": ".py",
   "mimetype": "text/x-python",
   "name": "python",
   "nbconvert_exporter": "python",
   "pygments_lexer": "ipython3",
   "version": "3.6.5"
  }
 },
 "nbformat": 4,
 "nbformat_minor": 5
}
