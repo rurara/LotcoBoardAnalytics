{
 "cells": [
  {
   "cell_type": "code",
   "execution_count": 1,
   "id": "5f25453e",
   "metadata": {
    "ExecuteTime": {
     "end_time": "2021-09-01T15:53:25.904565Z",
     "start_time": "2021-09-01T15:53:20.821761Z"
    }
   },
   "outputs": [],
   "source": [
    "import re\n",
    "import pandas as pd\n",
    "import numpy as np\n",
    "import json\n",
    "from nltk.corpus import stopwords\n",
    "from tensorflow.python.keras.preprocessing.sequence import pad_sequences\n",
    "from tensorflow.python.keras.preprocessing.text import Tokenizer\n",
    "import os\n",
    "from konlpy.tag import Okt"
   ]
  },
  {
   "cell_type": "code",
   "execution_count": 2,
   "id": "9615659d",
   "metadata": {
    "ExecuteTime": {
     "end_time": "2021-09-01T15:53:25.916906Z",
     "start_time": "2021-09-01T15:53:25.906780Z"
    }
   },
   "outputs": [],
   "source": [
    "def categoryToTarget(text):\n",
    "    if text == \"판매\":\n",
    "        return 1\n",
    "    elif text == \"교환\":\n",
    "        return 2\n",
    "    elif text == \"구입\":\n",
    "        return 3\n",
    "    elif text == \"거래완료\":\n",
    "        return 4\n",
    "    elif text == \"그냥드림\":\n",
    "        return 5\n",
    "    else:\n",
    "        return 100\n"
   ]
  },
  {
   "cell_type": "code",
   "execution_count": 17,
   "id": "54bea155",
   "metadata": {
    "ExecuteTime": {
     "end_time": "2021-09-01T16:13:47.439605Z",
     "start_time": "2021-09-01T16:04:18.336958Z"
    }
   },
   "outputs": [
    {
     "name": "stdout",
     "output_type": "stream",
     "text": [
      ".DS_Store\n",
      "20210115_clien\n",
      "20210116_clien\n",
      "20210117_clien\n",
      "20210118_clien\n",
      "20210119_clien\n",
      "20210120_clien\n",
      "20210121_clien\n",
      "20210122_clien\n",
      "20210123_clien\n",
      "20210124_clien\n",
      "20210125_clien\n",
      "20210126_clien\n",
      "20210127_clien\n",
      "20210128_clien\n",
      "20210129_clien\n",
      "20210130_clien\n",
      "20210131_clien\n",
      "20210201_clien\n",
      "20210202_clien\n",
      "20210203_clien\n",
      "20210204_clien\n",
      "20210205_clien\n",
      "20210206_clien\n",
      "20210207_clien\n",
      "20210208_clien\n",
      "20210209_clien\n",
      "20210210_clien\n",
      "20210211_clien\n",
      "20210212_clien\n",
      "20210213_clien\n",
      "20210214_clien\n",
      "20210215_clien\n",
      "20210216_clien\n",
      "20210217_clien\n",
      "20210218_clien\n",
      "20210219_clien\n",
      "20210220_clien\n",
      "20210221_clien\n",
      "20210222_clien\n",
      "20210223_clien\n",
      "20210224_clien\n",
      "20210225_clien\n",
      "20210226_clien\n",
      "20210227_clien\n",
      "20210228_clien\n",
      "20210301_clien\n",
      "20210302_clien\n",
      "20210303_clien\n",
      "20210304_clien\n",
      "20210305_clien\n",
      "20210306_clien\n",
      "20210307_clien\n",
      "20210308_clien\n",
      "20210309_clien\n",
      "20210310_clien\n",
      "20210311_clien\n",
      "20210312_clien\n",
      "20210313_clien\n",
      "20210314_clien\n",
      "20210315_clien\n",
      "20210316_clien\n",
      "20210317_clien\n",
      "20210318_clien\n",
      "20210319_clien\n",
      "20210320_clien\n",
      "20210321_clien\n",
      "20210322_clien\n",
      "20210323_clien\n",
      "20210324_clien\n",
      "20210325_clien\n",
      "20210326_clien\n",
      "20210327_clien\n",
      "20210328_clien\n",
      "20210329_clien\n",
      "20210330_clien\n",
      "20210331_clien\n",
      "20210401_clien\n",
      "20210402_clien\n",
      "20210403_clien\n",
      "20210404_clien\n",
      "20210405_clien\n",
      "20210406_clien\n",
      "20210407_clien\n",
      "20210408_clien\n",
      "20210409_clien\n",
      "20210410_clien\n",
      "20210411_clien\n",
      "20210412_clien\n",
      "20210413_clien\n",
      "20210414_clien\n",
      "20210415_clien\n",
      "20210416_clien\n",
      "20210417_clien\n",
      "20210418_clien\n",
      "20210419_clien\n",
      "20210420_clien\n",
      "20210421_clien\n",
      "20210422_clien\n",
      "20210423_clien\n",
      "20210424_clien\n",
      "20210425_clien\n",
      "20210426_clien\n",
      "20210427_clien\n",
      "20210428_clien\n",
      "20210429_clien\n",
      "20210430_clien\n",
      "20210501_clien\n",
      "20210502_clien\n",
      "20210503_clien\n",
      "20210504_clien\n",
      "20210505_clien\n",
      "20210506_clien\n",
      "20210507_clien\n",
      "20210508_clien\n",
      "20210509_clien\n",
      "20210510_clien\n",
      "20210511_clien\n",
      "20210512_clien\n",
      "20210513_clien\n",
      "20210514_clien\n",
      "20210515_clien\n",
      "20210516_clien\n",
      "20210517_clien\n",
      "20210518_clien\n",
      "20210519_clien\n",
      "20210520_clien\n",
      "20210521_clien\n",
      "20210522_clien\n",
      "20210523_clien\n",
      "20210524_clien\n",
      "20210525_clien\n",
      "20210526_clien\n",
      "20210527_clien\n",
      "20210528_clien\n",
      "20210529_clien\n",
      "20210530_clien\n",
      "20210531_clien\n",
      "20210601_clien\n",
      "20210602_clien\n",
      "20210603_clien\n",
      "20210604_clien\n",
      "20210605_clien\n",
      "20210606_clien\n",
      "20210607_clien\n",
      "20210608_clien\n",
      "20210609_clien\n",
      "20210610_clien\n",
      "20210611_clien\n",
      "20210612_clien\n",
      "20210613_clien\n",
      "20210614_clien\n",
      "20210615_clien\n",
      "20210616_clien\n",
      "20210617_clien\n",
      "20210618_clien\n",
      "20210619_clien\n",
      "20210620_clien\n",
      "20210621_clien\n",
      "20210622_clien\n",
      "20210623_clien\n",
      "20210624_clien\n",
      "20210625_clien\n",
      "20210626_clien\n",
      "20210627_clien\n",
      "20210628_clien\n",
      "20210629_clien\n",
      "20210630_clien\n",
      "20210701_clien\n",
      "20210702_clien\n",
      "20210703_clien\n",
      "20210704_clien\n",
      "20210705_clien\n",
      "20210706_clien\n",
      "20210707_clien\n",
      "20210708_clien\n",
      "20210709_clien\n",
      "20210710_clien\n",
      "20210711_clien\n",
      "20210712_clien\n",
      "20210713_clien\n",
      "20210714_clien\n",
      "20210715_clien\n",
      "20210716_clien\n",
      "20210717_clien\n",
      "20210718_clien\n",
      "20210719_clien\n",
      "20210720_clien\n",
      "20210721_clien\n",
      "20210722_clien\n",
      "20210723_clien\n",
      "20210724_clien\n",
      "20210725_clien\n",
      "20210726_clien\n",
      "20210727_clien\n",
      "20210728_clien\n",
      "20210729_clien\n",
      "20210730_clien\n",
      "20210731_clien\n",
      "20210801_clien\n",
      "20210802_clien\n",
      "20210803_clien\n",
      "20210804_clien\n",
      "20210805_clien\n",
      "20210806_clien\n",
      "20210807_clien\n"
     ]
    }
   ],
   "source": [
    "DATA_IN_PATH = './data/clien/'\n",
    "fileList = os.listdir(DATA_IN_PATH)\n",
    "\n",
    "data = pd.DataFrame()\n",
    "# data = pd.DataFrame(columns=[\"title\",\"article\"])\n",
    "# targetData = pd.DataFrame(columns=[\"category\"])\n",
    "\n",
    "for fileName in fileList:\n",
    "    print(fileName)\n",
    "    if fileName == \".DS_Store\":\n",
    "        continue\n",
    "    with open(DATA_IN_PATH + fileName, 'r') as f:\n",
    "        json_data = json.load(f)\n",
    "        \n",
    "\n",
    "    for document in json_data:\n",
    "        documentDataFrame = pd.DataFrame.from_dict([{\n",
    "            \"title\":document['title'],\n",
    "            \"article\":document['article'],\n",
    "            \"category\":document['category'],\n",
    "            \"category_to_target\":categoryToTarget(document['category']),\n",
    "            \"collectDate\":document['collectDate'],            \n",
    "            \"registerDate\":document['registerDate'],            \n",
    "        }])\n",
    "#         articleDataFrame = pd.DataFrame.from_dict([{\"title\":document['title'],\"article\":document['article']}])\n",
    "#         targetDataFrame = pd.DataFrame.from_dict([{\"category\":categoryToTarget(document['category'])}])\n",
    "\n",
    "        data = data.append(documentDataFrame)\n",
    "#         targetData = targetData.append(targetDataFrame)\n"
   ]
  },
  {
   "cell_type": "code",
   "execution_count": 18,
   "id": "fb05dc6c",
   "metadata": {
    "ExecuteTime": {
     "end_time": "2021-09-01T16:19:31.771395Z",
     "start_time": "2021-09-01T16:19:31.753290Z"
    }
   },
   "outputs": [],
   "source": [
    "okt=Okt()\n",
    "article_text = okt.morphs(data.iloc[0]['article'])\n",
    "# print(article_text)\n",
    "stopWords = ['은', '는', '이', '가', '하', '아', '것', '들', '의', '있', '되', '수', '보', '주', '등', '한']\n",
    "\n",
    "def preprocessing(text, okt, remove_stopwords= False, stop_words=[]):\n",
    "    #줄바꿈 문자 삭제\n",
    "    text = text.replace(\"\\n\",\"\")\n",
    "    wordText = okt.morphs(text, stem=True)\n",
    "    \n",
    "    if remove_stopwords:\n",
    "        wordText = [token for token in wordText if not token in stop_words]\n",
    "        \n",
    "    return wordText"
   ]
  },
  {
   "cell_type": "code",
   "execution_count": null,
   "id": "6d10451d",
   "metadata": {
    "ExecuteTime": {
     "start_time": "2021-09-01T16:19:33.236Z"
    },
    "scrolled": true
   },
   "outputs": [],
   "source": [
    "cleanTrainArticle = [preprocessing(article, okt, remove_stopwords=True, stop_words=stopWords) for article in data['article']]"
   ]
  },
  {
   "cell_type": "code",
   "execution_count": 12,
   "id": "f6b21212",
   "metadata": {
    "ExecuteTime": {
     "end_time": "2021-09-01T15:56:12.515622Z",
     "start_time": "2021-09-01T15:56:12.405175Z"
    }
   },
   "outputs": [
    {
     "name": "stdout",
     "output_type": "stream",
     "text": [
      "[[149, 37, 79, 2616, 393, 691, 340, 11, 2, 1, 97, 600, 195, 9, 1, 946, 175, 947, 691, 340, 4, 1, 3170, 120, 1, 1300, 10, 1301, 4, 1], [20, 1, 1195, 133, 885, 394, 7, 1625, 8, 332, 13, 601, 629, 6, 508, 2167, 1849, 1850, 44, 1625, 446, 1851, 6, 27, 2, 97, 257, 68, 1, 5, 42, 72, 73, 9, 748, 37, 36, 9, 748, 37, 60, 6, 1302, 33, 1303, 9, 749, 55, 2617, 68, 1852, 332, 42, 72, 35, 179, 172, 1, 35, 283, 24, 1, 17, 1, 1195, 1626, 20, 1627, 5, 13, 446, 1628, 27, 2, 1, 5, 1629, 434, 1630, 290, 42, 72, 1304, 55, 17, 1853, 948, 296, 36, 97, 257, 68, 1, 2618, 1305, 1429, 101, 259, 425, 9, 1, 354, 1854, 6, 11, 2, 1, 1306, 552, 12, 11, 107, 297, 1, 886, 17, 949, 3, 630, 20, 140, 1855, 1856, 26, 21, 19, 1, 14, 41, 364, 655, 298, 22, 435, 19, 1, 1300, 10, 1301], [110, 570, 20, 125, 11, 2, 1, 27, 52, 16, 509, 32, 11, 2, 37, 201, 4, 1857, 25, 77, 4538, 16, 2, 43, 1098, 25, 1631, 3171, 97, 32, 7, 35, 179, 8, 21, 3, 14, 2, 1], [207, 186, 17, 57, 5, 409, 6, 75, 11, 2, 244, 28, 124, 49, 87, 2, 602, 1632, 12, 67, 24], [1099, 119, 11, 2, 1, 629, 4539, 1196, 2, 31, 436, 51, 16, 2, 1, 4540, 33, 887, 2, 43, 95, 487, 4541, 1, 950, 631, 80, 9, 950, 16, 1858, 32, 1, 3172, 55, 4542, 109, 750, 50, 24, 1, 37, 395, 127, 42, 72, 149, 16, 4, 1, 284, 14, 12, 67, 24, 208, 46, 45, 4, 1, 355, 39, 34, 1]]\n",
      "7591\n"
     ]
    }
   ],
   "source": [
    "len(cleanTrainArticle)\n",
    "\n",
    "cleanTrainDF = pd.DataFrame({'article':cleanTrainArticle, 'category':data['category_to_target']})\n",
    "tokenizer = Tokenizer()\n",
    "tokenizer.fit_on_texts(cleanTrainArticle)\n",
    "text_sequences = tokenizer.texts_to_sequences(cleanTrainArticle)\n",
    "\n",
    "print(text_sequences[0:5])\n",
    "wordVocab = tokenizer.word_index\n",
    "wordVocab[\"<PAD>\"] = 0\n",
    "# print(wordVocab)\n",
    "# print(len(wordVocab))"
   ]
  },
  {
   "cell_type": "code",
   "execution_count": 15,
   "id": "d2ded863",
   "metadata": {
    "ExecuteTime": {
     "end_time": "2021-09-01T15:58:45.871983Z",
     "start_time": "2021-09-01T15:58:45.846561Z"
    }
   },
   "outputs": [
    {
     "name": "stdout",
     "output_type": "stream",
     "text": [
      "(1181, 200)\n",
      "(1181,)\n"
     ]
    }
   ],
   "source": [
    "data_configs = {}\n",
    "data_configs['vocab'] = wordVocab\n",
    "data_configs['vocab_size'] = len(wordVocab)+1\n",
    "\n",
    "MAX_SEQUENCE_LENGTH = 200\n",
    "train_inputs = pad_sequences(text_sequences, maxlen=MAX_SEQUENCE_LENGTH, padding='post')\n",
    "print(train_inputs.shape)\n",
    "train_label = np.array(data['category_to_target'])\n",
    "print(train_label.shape)"
   ]
  },
  {
   "cell_type": "code",
   "execution_count": 16,
   "id": "bf3a4b26",
   "metadata": {
    "ExecuteTime": {
     "end_time": "2021-09-01T16:02:39.749687Z",
     "start_time": "2021-09-01T16:02:39.661587Z"
    }
   },
   "outputs": [],
   "source": [
    "DATA_IN_PATH = './clean_data/'\n",
    "TRAIN_INPUT_DATA = 'train_input.npy'\n",
    "TRAIN_LABEL_DATA = 'train_label.npy'\n",
    "TRAIN_CLEAN_DATA = 'train_clean.csv'\n",
    "DATA_CONFIGS = 'data_configs.json'\n",
    "\n",
    "if not os.path.exists(DATA_IN_PATH):\n",
    "    os.makedirs(DATA_IN_PATH)\n",
    "    \n",
    "np.save(open(DATA_IN_PATH + TRAIN_INPUT_DATA, 'wb'), train_inputs)\n",
    "np.save(open(DATA_IN_PATH + TRAIN_LABEL_DATA, 'wb'), train_label)\n",
    "cleanTrainDF.to_csv(DATA_IN_PATH + TRAIN_CLEAN_DATA, index=False)\n",
    "\n",
    "json.dump(data_configs, open(DATA_IN_PATH + DATA_CONFIGS, 'w'), ensure_ascii=False)"
   ]
  }
 ],
 "metadata": {
  "kernelspec": {
   "display_name": "Python 3",
   "language": "python",
   "name": "python3"
  },
  "language_info": {
   "codemirror_mode": {
    "name": "ipython",
    "version": 3
   },
   "file_extension": ".py",
   "mimetype": "text/x-python",
   "name": "python",
   "nbconvert_exporter": "python",
   "pygments_lexer": "ipython3",
   "version": "3.6.5"
  }
 },
 "nbformat": 4,
 "nbformat_minor": 5
}
